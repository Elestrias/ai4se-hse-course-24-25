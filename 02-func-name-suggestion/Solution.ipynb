{
  "cells": [
    {
      "cell_type": "code",
      "execution_count": 66,
      "id": "c58dcce4",
      "metadata": {
        "colab": {
          "base_uri": "https://localhost:8080/"
        },
        "id": "c58dcce4",
        "outputId": "84337466-496b-4409-ca39-4cafc8af1065"
      },
      "outputs": [
        {
          "output_type": "stream",
          "name": "stdout",
          "text": [
            "Requirement already satisfied: tree-sitter==0.22.3 in /usr/local/lib/python3.10/dist-packages (0.22.3)\n",
            "Requirement already satisfied: tree-sitter-python==0.21.0 in /usr/local/lib/python3.10/dist-packages (0.21.0)\n",
            "Requirement already satisfied: tree-sitter-java==0.21.0 in /usr/local/lib/python3.10/dist-packages (0.21.0)\n",
            "Requirement already satisfied: datasets==2.20.0 in /usr/local/lib/python3.10/dist-packages (2.20.0)\n",
            "Requirement already satisfied: filelock in /usr/local/lib/python3.10/dist-packages (from datasets==2.20.0) (3.16.1)\n",
            "Requirement already satisfied: numpy>=1.17 in /usr/local/lib/python3.10/dist-packages (from datasets==2.20.0) (1.26.4)\n",
            "Requirement already satisfied: pyarrow>=15.0.0 in /usr/local/lib/python3.10/dist-packages (from datasets==2.20.0) (17.0.0)\n",
            "Requirement already satisfied: pyarrow-hotfix in /usr/local/lib/python3.10/dist-packages (from datasets==2.20.0) (0.6)\n",
            "Requirement already satisfied: dill<0.3.9,>=0.3.0 in /usr/local/lib/python3.10/dist-packages (from datasets==2.20.0) (0.3.8)\n",
            "Requirement already satisfied: pandas in /usr/local/lib/python3.10/dist-packages (from datasets==2.20.0) (2.2.2)\n",
            "Requirement already satisfied: requests>=2.32.2 in /usr/local/lib/python3.10/dist-packages (from datasets==2.20.0) (2.32.3)\n",
            "Requirement already satisfied: tqdm>=4.66.3 in /usr/local/lib/python3.10/dist-packages (from datasets==2.20.0) (4.66.6)\n",
            "Requirement already satisfied: xxhash in /usr/local/lib/python3.10/dist-packages (from datasets==2.20.0) (3.5.0)\n",
            "Requirement already satisfied: multiprocess in /usr/local/lib/python3.10/dist-packages (from datasets==2.20.0) (0.70.16)\n",
            "Requirement already satisfied: fsspec<=2024.5.0,>=2023.1.0 in /usr/local/lib/python3.10/dist-packages (from fsspec[http]<=2024.5.0,>=2023.1.0->datasets==2.20.0) (2024.5.0)\n",
            "Requirement already satisfied: aiohttp in /usr/local/lib/python3.10/dist-packages (from datasets==2.20.0) (3.11.2)\n",
            "Requirement already satisfied: huggingface-hub>=0.21.2 in /usr/local/lib/python3.10/dist-packages (from datasets==2.20.0) (0.26.2)\n",
            "Requirement already satisfied: packaging in /usr/local/lib/python3.10/dist-packages (from datasets==2.20.0) (24.2)\n",
            "Requirement already satisfied: pyyaml>=5.1 in /usr/local/lib/python3.10/dist-packages (from datasets==2.20.0) (6.0.2)\n",
            "Requirement already satisfied: aiohappyeyeballs>=2.3.0 in /usr/local/lib/python3.10/dist-packages (from aiohttp->datasets==2.20.0) (2.4.3)\n",
            "Requirement already satisfied: aiosignal>=1.1.2 in /usr/local/lib/python3.10/dist-packages (from aiohttp->datasets==2.20.0) (1.3.1)\n",
            "Requirement already satisfied: attrs>=17.3.0 in /usr/local/lib/python3.10/dist-packages (from aiohttp->datasets==2.20.0) (24.2.0)\n",
            "Requirement already satisfied: frozenlist>=1.1.1 in /usr/local/lib/python3.10/dist-packages (from aiohttp->datasets==2.20.0) (1.5.0)\n",
            "Requirement already satisfied: multidict<7.0,>=4.5 in /usr/local/lib/python3.10/dist-packages (from aiohttp->datasets==2.20.0) (6.1.0)\n",
            "Requirement already satisfied: propcache>=0.2.0 in /usr/local/lib/python3.10/dist-packages (from aiohttp->datasets==2.20.0) (0.2.0)\n",
            "Requirement already satisfied: yarl<2.0,>=1.17.0 in /usr/local/lib/python3.10/dist-packages (from aiohttp->datasets==2.20.0) (1.17.2)\n",
            "Requirement already satisfied: async-timeout<6.0,>=4.0 in /usr/local/lib/python3.10/dist-packages (from aiohttp->datasets==2.20.0) (4.0.3)\n",
            "Requirement already satisfied: typing-extensions>=3.7.4.3 in /usr/local/lib/python3.10/dist-packages (from huggingface-hub>=0.21.2->datasets==2.20.0) (4.12.2)\n",
            "Requirement already satisfied: charset-normalizer<4,>=2 in /usr/local/lib/python3.10/dist-packages (from requests>=2.32.2->datasets==2.20.0) (3.4.0)\n",
            "Requirement already satisfied: idna<4,>=2.5 in /usr/local/lib/python3.10/dist-packages (from requests>=2.32.2->datasets==2.20.0) (3.10)\n",
            "Requirement already satisfied: urllib3<3,>=1.21.1 in /usr/local/lib/python3.10/dist-packages (from requests>=2.32.2->datasets==2.20.0) (2.2.3)\n",
            "Requirement already satisfied: certifi>=2017.4.17 in /usr/local/lib/python3.10/dist-packages (from requests>=2.32.2->datasets==2.20.0) (2024.8.30)\n",
            "Requirement already satisfied: python-dateutil>=2.8.2 in /usr/local/lib/python3.10/dist-packages (from pandas->datasets==2.20.0) (2.8.2)\n",
            "Requirement already satisfied: pytz>=2020.1 in /usr/local/lib/python3.10/dist-packages (from pandas->datasets==2.20.0) (2024.2)\n",
            "Requirement already satisfied: tzdata>=2022.7 in /usr/local/lib/python3.10/dist-packages (from pandas->datasets==2.20.0) (2024.2)\n",
            "Requirement already satisfied: six>=1.5 in /usr/local/lib/python3.10/dist-packages (from python-dateutil>=2.8.2->pandas->datasets==2.20.0) (1.16.0)\n",
            "Requirement already satisfied: evaluate==0.4.2 in /usr/local/lib/python3.10/dist-packages (0.4.2)\n",
            "Requirement already satisfied: datasets>=2.0.0 in /usr/local/lib/python3.10/dist-packages (from evaluate==0.4.2) (2.20.0)\n",
            "Requirement already satisfied: numpy>=1.17 in /usr/local/lib/python3.10/dist-packages (from evaluate==0.4.2) (1.26.4)\n",
            "Requirement already satisfied: dill in /usr/local/lib/python3.10/dist-packages (from evaluate==0.4.2) (0.3.8)\n",
            "Requirement already satisfied: pandas in /usr/local/lib/python3.10/dist-packages (from evaluate==0.4.2) (2.2.2)\n",
            "Requirement already satisfied: requests>=2.19.0 in /usr/local/lib/python3.10/dist-packages (from evaluate==0.4.2) (2.32.3)\n",
            "Requirement already satisfied: tqdm>=4.62.1 in /usr/local/lib/python3.10/dist-packages (from evaluate==0.4.2) (4.66.6)\n",
            "Requirement already satisfied: xxhash in /usr/local/lib/python3.10/dist-packages (from evaluate==0.4.2) (3.5.0)\n",
            "Requirement already satisfied: multiprocess in /usr/local/lib/python3.10/dist-packages (from evaluate==0.4.2) (0.70.16)\n",
            "Requirement already satisfied: fsspec>=2021.05.0 in /usr/local/lib/python3.10/dist-packages (from fsspec[http]>=2021.05.0->evaluate==0.4.2) (2024.5.0)\n",
            "Requirement already satisfied: huggingface-hub>=0.7.0 in /usr/local/lib/python3.10/dist-packages (from evaluate==0.4.2) (0.26.2)\n",
            "Requirement already satisfied: packaging in /usr/local/lib/python3.10/dist-packages (from evaluate==0.4.2) (24.2)\n",
            "Requirement already satisfied: filelock in /usr/local/lib/python3.10/dist-packages (from datasets>=2.0.0->evaluate==0.4.2) (3.16.1)\n",
            "Requirement already satisfied: pyarrow>=15.0.0 in /usr/local/lib/python3.10/dist-packages (from datasets>=2.0.0->evaluate==0.4.2) (17.0.0)\n",
            "Requirement already satisfied: pyarrow-hotfix in /usr/local/lib/python3.10/dist-packages (from datasets>=2.0.0->evaluate==0.4.2) (0.6)\n",
            "Requirement already satisfied: aiohttp in /usr/local/lib/python3.10/dist-packages (from datasets>=2.0.0->evaluate==0.4.2) (3.11.2)\n",
            "Requirement already satisfied: pyyaml>=5.1 in /usr/local/lib/python3.10/dist-packages (from datasets>=2.0.0->evaluate==0.4.2) (6.0.2)\n",
            "Requirement already satisfied: typing-extensions>=3.7.4.3 in /usr/local/lib/python3.10/dist-packages (from huggingface-hub>=0.7.0->evaluate==0.4.2) (4.12.2)\n",
            "Requirement already satisfied: charset-normalizer<4,>=2 in /usr/local/lib/python3.10/dist-packages (from requests>=2.19.0->evaluate==0.4.2) (3.4.0)\n",
            "Requirement already satisfied: idna<4,>=2.5 in /usr/local/lib/python3.10/dist-packages (from requests>=2.19.0->evaluate==0.4.2) (3.10)\n",
            "Requirement already satisfied: urllib3<3,>=1.21.1 in /usr/local/lib/python3.10/dist-packages (from requests>=2.19.0->evaluate==0.4.2) (2.2.3)\n",
            "Requirement already satisfied: certifi>=2017.4.17 in /usr/local/lib/python3.10/dist-packages (from requests>=2.19.0->evaluate==0.4.2) (2024.8.30)\n",
            "Requirement already satisfied: python-dateutil>=2.8.2 in /usr/local/lib/python3.10/dist-packages (from pandas->evaluate==0.4.2) (2.8.2)\n",
            "Requirement already satisfied: pytz>=2020.1 in /usr/local/lib/python3.10/dist-packages (from pandas->evaluate==0.4.2) (2024.2)\n",
            "Requirement already satisfied: tzdata>=2022.7 in /usr/local/lib/python3.10/dist-packages (from pandas->evaluate==0.4.2) (2024.2)\n",
            "Requirement already satisfied: aiohappyeyeballs>=2.3.0 in /usr/local/lib/python3.10/dist-packages (from aiohttp->datasets>=2.0.0->evaluate==0.4.2) (2.4.3)\n",
            "Requirement already satisfied: aiosignal>=1.1.2 in /usr/local/lib/python3.10/dist-packages (from aiohttp->datasets>=2.0.0->evaluate==0.4.2) (1.3.1)\n",
            "Requirement already satisfied: attrs>=17.3.0 in /usr/local/lib/python3.10/dist-packages (from aiohttp->datasets>=2.0.0->evaluate==0.4.2) (24.2.0)\n",
            "Requirement already satisfied: frozenlist>=1.1.1 in /usr/local/lib/python3.10/dist-packages (from aiohttp->datasets>=2.0.0->evaluate==0.4.2) (1.5.0)\n",
            "Requirement already satisfied: multidict<7.0,>=4.5 in /usr/local/lib/python3.10/dist-packages (from aiohttp->datasets>=2.0.0->evaluate==0.4.2) (6.1.0)\n",
            "Requirement already satisfied: propcache>=0.2.0 in /usr/local/lib/python3.10/dist-packages (from aiohttp->datasets>=2.0.0->evaluate==0.4.2) (0.2.0)\n",
            "Requirement already satisfied: yarl<2.0,>=1.17.0 in /usr/local/lib/python3.10/dist-packages (from aiohttp->datasets>=2.0.0->evaluate==0.4.2) (1.17.2)\n",
            "Requirement already satisfied: async-timeout<6.0,>=4.0 in /usr/local/lib/python3.10/dist-packages (from aiohttp->datasets>=2.0.0->evaluate==0.4.2) (4.0.3)\n",
            "Requirement already satisfied: six>=1.5 in /usr/local/lib/python3.10/dist-packages (from python-dateutil>=2.8.2->pandas->evaluate==0.4.2) (1.16.0)\n",
            "Requirement already satisfied: rouge_score==0.1.2 in /usr/local/lib/python3.10/dist-packages (0.1.2)\n",
            "Requirement already satisfied: absl-py in /usr/local/lib/python3.10/dist-packages (from rouge_score==0.1.2) (1.4.0)\n",
            "Requirement already satisfied: nltk in /usr/local/lib/python3.10/dist-packages (from rouge_score==0.1.2) (3.9.1)\n",
            "Requirement already satisfied: numpy in /usr/local/lib/python3.10/dist-packages (from rouge_score==0.1.2) (1.26.4)\n",
            "Requirement already satisfied: six>=1.14.0 in /usr/local/lib/python3.10/dist-packages (from rouge_score==0.1.2) (1.16.0)\n",
            "Requirement already satisfied: click in /usr/local/lib/python3.10/dist-packages (from nltk->rouge_score==0.1.2) (8.1.7)\n",
            "Requirement already satisfied: joblib in /usr/local/lib/python3.10/dist-packages (from nltk->rouge_score==0.1.2) (1.4.2)\n",
            "Requirement already satisfied: regex>=2021.8.3 in /usr/local/lib/python3.10/dist-packages (from nltk->rouge_score==0.1.2) (2024.9.11)\n",
            "Requirement already satisfied: tqdm in /usr/local/lib/python3.10/dist-packages (from nltk->rouge_score==0.1.2) (4.66.6)\n",
            "Requirement already satisfied: torch==2.5.1 in /usr/local/lib/python3.10/dist-packages (2.5.1+cu121)\n",
            "Requirement already satisfied: filelock in /usr/local/lib/python3.10/dist-packages (from torch==2.5.1) (3.16.1)\n",
            "Requirement already satisfied: typing-extensions>=4.8.0 in /usr/local/lib/python3.10/dist-packages (from torch==2.5.1) (4.12.2)\n",
            "Requirement already satisfied: networkx in /usr/local/lib/python3.10/dist-packages (from torch==2.5.1) (3.4.2)\n",
            "Requirement already satisfied: jinja2 in /usr/local/lib/python3.10/dist-packages (from torch==2.5.1) (3.1.4)\n",
            "Requirement already satisfied: fsspec in /usr/local/lib/python3.10/dist-packages (from torch==2.5.1) (2024.5.0)\n",
            "Requirement already satisfied: sympy==1.13.1 in /usr/local/lib/python3.10/dist-packages (from torch==2.5.1) (1.13.1)\n",
            "Requirement already satisfied: mpmath<1.4,>=1.1.0 in /usr/local/lib/python3.10/dist-packages (from sympy==1.13.1->torch==2.5.1) (1.3.0)\n",
            "Requirement already satisfied: MarkupSafe>=2.0 in /usr/local/lib/python3.10/dist-packages (from jinja2->torch==2.5.1) (3.0.2)\n",
            "Requirement already satisfied: transformers==4.46.2 in /usr/local/lib/python3.10/dist-packages (4.46.2)\n",
            "Requirement already satisfied: filelock in /usr/local/lib/python3.10/dist-packages (from transformers==4.46.2) (3.16.1)\n",
            "Requirement already satisfied: huggingface-hub<1.0,>=0.23.2 in /usr/local/lib/python3.10/dist-packages (from transformers==4.46.2) (0.26.2)\n",
            "Requirement already satisfied: numpy>=1.17 in /usr/local/lib/python3.10/dist-packages (from transformers==4.46.2) (1.26.4)\n",
            "Requirement already satisfied: packaging>=20.0 in /usr/local/lib/python3.10/dist-packages (from transformers==4.46.2) (24.2)\n",
            "Requirement already satisfied: pyyaml>=5.1 in /usr/local/lib/python3.10/dist-packages (from transformers==4.46.2) (6.0.2)\n",
            "Requirement already satisfied: regex!=2019.12.17 in /usr/local/lib/python3.10/dist-packages (from transformers==4.46.2) (2024.9.11)\n",
            "Requirement already satisfied: requests in /usr/local/lib/python3.10/dist-packages (from transformers==4.46.2) (2.32.3)\n",
            "Requirement already satisfied: safetensors>=0.4.1 in /usr/local/lib/python3.10/dist-packages (from transformers==4.46.2) (0.4.5)\n",
            "Requirement already satisfied: tokenizers<0.21,>=0.20 in /usr/local/lib/python3.10/dist-packages (from transformers==4.46.2) (0.20.3)\n",
            "Requirement already satisfied: tqdm>=4.27 in /usr/local/lib/python3.10/dist-packages (from transformers==4.46.2) (4.66.6)\n",
            "Requirement already satisfied: fsspec>=2023.5.0 in /usr/local/lib/python3.10/dist-packages (from huggingface-hub<1.0,>=0.23.2->transformers==4.46.2) (2024.5.0)\n",
            "Requirement already satisfied: typing-extensions>=3.7.4.3 in /usr/local/lib/python3.10/dist-packages (from huggingface-hub<1.0,>=0.23.2->transformers==4.46.2) (4.12.2)\n",
            "Requirement already satisfied: charset-normalizer<4,>=2 in /usr/local/lib/python3.10/dist-packages (from requests->transformers==4.46.2) (3.4.0)\n",
            "Requirement already satisfied: idna<4,>=2.5 in /usr/local/lib/python3.10/dist-packages (from requests->transformers==4.46.2) (3.10)\n",
            "Requirement already satisfied: urllib3<3,>=1.21.1 in /usr/local/lib/python3.10/dist-packages (from requests->transformers==4.46.2) (2.2.3)\n",
            "Requirement already satisfied: certifi>=2017.4.17 in /usr/local/lib/python3.10/dist-packages (from requests->transformers==4.46.2) (2024.8.30)\n"
          ]
        }
      ],
      "source": [
        "!pip install tree-sitter==0.22.3\n",
        "!pip install tree-sitter-python==0.21.0\n",
        "!pip install tree-sitter-java==0.21.0\n",
        "!pip install datasets==2.20.0\n",
        "!pip install evaluate==0.4.2\n",
        "!pip install rouge_score==0.1.2\n",
        "!pip install torch==2.5.1\n",
        "!pip install transformers==4.46.2"
      ]
    },
    {
      "cell_type": "code",
      "execution_count": 67,
      "id": "9d646a41",
      "metadata": {
        "id": "9d646a41"
      },
      "outputs": [],
      "source": [
        "import pandas as pd\n",
        "import datasets\n",
        "\n",
        "\n",
        "def prepare(dataset: datasets.Dataset, prettyfy_function, parse_function) -> datasets.Dataset:\n",
        "    df = pd.DataFrame(dataset)\n",
        "\n",
        "    for i, field in df.iterrows():\n",
        "        code = field[0]\n",
        "\n",
        "        func_name, func_body, func_body_without_comment = parse_function(code)\n",
        "\n",
        "        df.at[i, \"func_name\"] = func_name\n",
        "        df.at[i, \"func_body\"] = prettyfy_function(func_body)\n",
        "        df.at[i, \"func_body_without_comment\"] = prettyfy_function(func_body_without_comment)\n",
        "\n",
        "\n",
        "    return datasets.Dataset.from_pandas(df)\n"
      ]
    },
    {
      "cell_type": "code",
      "execution_count": 68,
      "id": "c3e623da",
      "metadata": {
        "id": "c3e623da"
      },
      "outputs": [],
      "source": [
        "import pandas\n",
        "import torch\n",
        "\n",
        "from transformers import AutoTokenizer, AutoModelForSeq2SeqLM, T5ForConditionalGeneration\n",
        "from torch.utils.data import DataLoader\n",
        "from transformers import DataCollatorWithPadding\n",
        "import os\n",
        "import evaluate\n",
        "from pprint import pprint\n",
        "\n",
        "def print_worst_example(predictions, references):\n",
        "    exact_match, rouge = _init_metrics()\n",
        "\n",
        "    worst_example = {\n",
        "        \"prediction\": None,\n",
        "        \"reference\": None,\n",
        "        \"score\": float('-inf')\n",
        "    }\n",
        "\n",
        "    for prediction, reference in zip(predictions, references):\n",
        "        em_score = exact_match.compute(predictions=[prediction], references=[reference])[\"exact_match\"]\n",
        "        rouge_score = rouge.compute(predictions=[prediction], references=[reference])[\"rougeL\"]\n",
        "\n",
        "        combined_score = (1 - em_score) + (1 - rouge_score)\n",
        "\n",
        "        if combined_score > worst_example[\"score\"]:\n",
        "            worst_example = {\n",
        "                \"prediction\": prediction,\n",
        "                \"reference\": reference,\n",
        "                \"score\": combined_score\n",
        "            }\n",
        "    print('WORST EXAMPLE:')\n",
        "    pprint(worst_example)\n",
        "\n",
        "def _init_metrics():\n",
        "    return (evaluate.load('exact_match'), evaluate.load('rouge'))\n",
        "\n",
        "def predict(dataset: datasets.Dataset, references: datasets.Dataset) -> int:\n",
        "    torch.cuda.empty_cache()\n",
        "    device = torch.device(\"cuda\")\n",
        "\n",
        "    checkpoint = 'Salesforce/codet5p-220m'\n",
        "\n",
        "    tokenizer = AutoTokenizer.from_pretrained(checkpoint)\n",
        "    model = T5ForConditionalGeneration.from_pretrained(checkpoint).to(device)\n",
        "\n",
        "    predictions = []\n",
        "    try:\n",
        "      inputs = tokenizer(dataset,\n",
        "                         return_tensors='pt',\n",
        "                         padding=True,\n",
        "                         truncation=True,\n",
        "                         max_length=80,\n",
        "                         ).to(device)\n",
        "      outputs = model.generate(**inputs, max_length=80)\n",
        "      predictions = tokenizer.batch_decode(outputs, skip_special_tokens=True)\n",
        "      del model\n",
        "    except Exception as e:\n",
        "      del model\n",
        "    print(dataset[0])\n",
        "\n",
        "    x = 0\n",
        "    for i in range(len(references)):\n",
        "      if references[i] in predictions[i]:\n",
        "        x += 1\n",
        "    print(f'X: {x}\\n')\n",
        "\n",
        "\n",
        "    for i in range(len(predictions)):\n",
        "      try:\n",
        "        predictions[i] = predictions[i].split(\" \")[1].split(\"(\")[0]\n",
        "      except Exception:\n",
        "        pass\n",
        "    print(predictions)\n",
        "    print(references)\n",
        "\n",
        "    eval_results = run_evaluate(predictions=predictions, references=references)\n",
        "    print()\n",
        "    print('*' * 80)\n",
        "    print('Evaluation results:')\n",
        "    pprint(eval_results)\n",
        "    print('*' * 80)\n",
        "    print()\n",
        "    print_worst_example(predictions, references)\n",
        "\n",
        "    return x\n",
        "\n",
        "\n",
        "def run_evaluate(\n",
        "    predictions, references\n",
        ") -> dict[str, float]:\n",
        "    em, rouge = _init_metrics()\n",
        "    em_score = em.compute(predictions=predictions, references=references)\n",
        "    rouge_scores = rouge.compute(predictions=predictions, references=references)\n",
        "\n",
        "    return {**rouge_scores, **em_score}\n"
      ]
    },
    {
      "cell_type": "markdown",
      "source": [
        "## Python metrics"
      ],
      "metadata": {
        "id": "kxyvO4t2iO2N"
      },
      "id": "kxyvO4t2iO2N"
    },
    {
      "cell_type": "markdown",
      "source": [
        "### Download python dataset"
      ],
      "metadata": {
        "id": "mWgTz0VBp894"
      },
      "id": "mWgTz0VBp894"
    },
    {
      "cell_type": "code",
      "source": [
        "dataset_python = datasets.load_dataset(\n",
        "        'code_search_net',\n",
        "        'python',\n",
        "        split='test',\n",
        "        trust_remote_code=True\n",
        "    )\n",
        "dataset_python"
      ],
      "metadata": {
        "colab": {
          "base_uri": "https://localhost:8080/"
        },
        "id": "UqbMrkaGp-80",
        "outputId": "0a74f0d0-cea6-4080-b9d0-97e1aad253ed"
      },
      "id": "UqbMrkaGp-80",
      "execution_count": 69,
      "outputs": [
        {
          "output_type": "execute_result",
          "data": {
            "text/plain": [
              "Dataset({\n",
              "    features: ['repository_name', 'func_path_in_repository', 'func_name', 'whole_func_string', 'language', 'func_code_string', 'func_code_tokens', 'func_documentation_string', 'func_documentation_tokens', 'split_name', 'func_code_url'],\n",
              "    num_rows: 22176\n",
              "})"
            ]
          },
          "metadata": {},
          "execution_count": 69
        }
      ]
    },
    {
      "cell_type": "markdown",
      "source": [
        "### Check dataset"
      ],
      "metadata": {
        "id": "xSUlAVwLqDwG"
      },
      "id": "xSUlAVwLqDwG"
    },
    {
      "cell_type": "code",
      "source": [
        "dataset_python[0]"
      ],
      "metadata": {
        "colab": {
          "base_uri": "https://localhost:8080/"
        },
        "collapsed": true,
        "id": "dWCQ_adMqFRu",
        "outputId": "62b75a02-1053-4048-95a5-7c264c84cfcb"
      },
      "id": "dWCQ_adMqFRu",
      "execution_count": 70,
      "outputs": [
        {
          "output_type": "execute_result",
          "data": {
            "text/plain": [
              "{'repository_name': 'soimort/you-get',\n",
              " 'func_path_in_repository': 'src/you_get/extractors/youtube.py',\n",
              " 'func_name': 'YouTube.get_vid_from_url',\n",
              " 'whole_func_string': 'def get_vid_from_url(url):\\n        \"\"\"Extracts video ID from URL.\\n        \"\"\"\\n        return match1(url, r\\'youtu\\\\.be/([^?/]+)\\') or \\\\\\n          match1(url, r\\'youtube\\\\.com/embed/([^/?]+)\\') or \\\\\\n          match1(url, r\\'youtube\\\\.com/v/([^/?]+)\\') or \\\\\\n          match1(url, r\\'youtube\\\\.com/watch/([^/?]+)\\') or \\\\\\n          parse_query_param(url, \\'v\\') or \\\\\\n          parse_query_param(parse_query_param(url, \\'u\\'), \\'v\\')',\n",
              " 'language': 'python',\n",
              " 'func_code_string': 'def get_vid_from_url(url):\\n        \"\"\"Extracts video ID from URL.\\n        \"\"\"\\n        return match1(url, r\\'youtu\\\\.be/([^?/]+)\\') or \\\\\\n          match1(url, r\\'youtube\\\\.com/embed/([^/?]+)\\') or \\\\\\n          match1(url, r\\'youtube\\\\.com/v/([^/?]+)\\') or \\\\\\n          match1(url, r\\'youtube\\\\.com/watch/([^/?]+)\\') or \\\\\\n          parse_query_param(url, \\'v\\') or \\\\\\n          parse_query_param(parse_query_param(url, \\'u\\'), \\'v\\')',\n",
              " 'func_code_tokens': ['def',\n",
              "  'get_vid_from_url',\n",
              "  '(',\n",
              "  'url',\n",
              "  ')',\n",
              "  ':',\n",
              "  'return',\n",
              "  'match1',\n",
              "  '(',\n",
              "  'url',\n",
              "  ',',\n",
              "  \"r'youtu\\\\.be/([^?/]+)'\",\n",
              "  ')',\n",
              "  'or',\n",
              "  'match1',\n",
              "  '(',\n",
              "  'url',\n",
              "  ',',\n",
              "  \"r'youtube\\\\.com/embed/([^/?]+)'\",\n",
              "  ')',\n",
              "  'or',\n",
              "  'match1',\n",
              "  '(',\n",
              "  'url',\n",
              "  ',',\n",
              "  \"r'youtube\\\\.com/v/([^/?]+)'\",\n",
              "  ')',\n",
              "  'or',\n",
              "  'match1',\n",
              "  '(',\n",
              "  'url',\n",
              "  ',',\n",
              "  \"r'youtube\\\\.com/watch/([^/?]+)'\",\n",
              "  ')',\n",
              "  'or',\n",
              "  'parse_query_param',\n",
              "  '(',\n",
              "  'url',\n",
              "  ',',\n",
              "  \"'v'\",\n",
              "  ')',\n",
              "  'or',\n",
              "  'parse_query_param',\n",
              "  '(',\n",
              "  'parse_query_param',\n",
              "  '(',\n",
              "  'url',\n",
              "  ',',\n",
              "  \"'u'\",\n",
              "  ')',\n",
              "  ',',\n",
              "  \"'v'\",\n",
              "  ')'],\n",
              " 'func_documentation_string': 'Extracts video ID from URL.',\n",
              " 'func_documentation_tokens': ['Extracts', 'video', 'ID', 'from', 'URL', '.'],\n",
              " 'split_name': 'test',\n",
              " 'func_code_url': 'https://github.com/soimort/you-get/blob/b746ac01c9f39de94cac2d56f665285b0523b974/src/you_get/extractors/youtube.py#L135-L143'}"
            ]
          },
          "metadata": {},
          "execution_count": 70
        }
      ]
    },
    {
      "cell_type": "code",
      "source": [
        "print(dataset_python[0][\"whole_func_string\"])"
      ],
      "metadata": {
        "colab": {
          "base_uri": "https://localhost:8080/"
        },
        "id": "Sx3aBvUryiRq",
        "outputId": "0fc8e7f6-37d7-490c-8e9d-bcf35c819e5a"
      },
      "id": "Sx3aBvUryiRq",
      "execution_count": 71,
      "outputs": [
        {
          "output_type": "stream",
          "name": "stdout",
          "text": [
            "def get_vid_from_url(url):\n",
            "        \"\"\"Extracts video ID from URL.\n",
            "        \"\"\"\n",
            "        return match1(url, r'youtu\\.be/([^?/]+)') or \\\n",
            "          match1(url, r'youtube\\.com/embed/([^/?]+)') or \\\n",
            "          match1(url, r'youtube\\.com/v/([^/?]+)') or \\\n",
            "          match1(url, r'youtube\\.com/watch/([^/?]+)') or \\\n",
            "          parse_query_param(url, 'v') or \\\n",
            "          parse_query_param(parse_query_param(url, 'u'), 'v')\n"
          ]
        }
      ]
    },
    {
      "cell_type": "markdown",
      "source": [
        "### Crop python dataset"
      ],
      "metadata": {
        "id": "iT0BPC8gqejE"
      },
      "id": "iT0BPC8gqejE"
    },
    {
      "cell_type": "code",
      "source": [
        "dataset_python = dataset_python.select(range(1000))"
      ],
      "metadata": {
        "id": "I3WiB0rEqk8K"
      },
      "id": "I3WiB0rEqk8K",
      "execution_count": 72,
      "outputs": []
    },
    {
      "cell_type": "markdown",
      "source": [
        "### Prepare dataset python"
      ],
      "metadata": {
        "id": "mXXwNBWEqUVf"
      },
      "id": "mXXwNBWEqUVf"
    },
    {
      "cell_type": "code",
      "source": [
        "import tree_sitter_python as tspython\n",
        "from tree_sitter import Language, Parser\n",
        "\n",
        "def prettyfy_function(x):\n",
        "  return f\"def <extra_id_0> :{x}\"\n",
        "\n",
        "PY_LANGUAGE = Language(tspython.language())\n",
        "parser = Parser(PY_LANGUAGE)\n",
        "def parse_function(code):\n",
        "  ast = parser.parse(bytes(code, \"utf-8\"))\n",
        "  query = PY_LANGUAGE.query(\"\"\"\n",
        "  (function_definition\n",
        "      name: (identifier) @func_name\n",
        "      body: (block) @func_body\n",
        "  )\n",
        "  (expression_statement\n",
        "      (string) @docstring\n",
        "  )\n",
        "  (comment) @comment\n",
        "  \"\"\")\n",
        "  captures = query.captures(ast.root_node)\n",
        "\n",
        "  func_name = ''\n",
        "  func_body = ''\n",
        "  func_body_without_comment = []\n",
        "  comments = []\n",
        "\n",
        "  for node, capture_name in captures:\n",
        "      if capture_name == \"func_name\":\n",
        "          func_name = code[node.start_byte:node.end_byte]\n",
        "      elif capture_name == \"func_body\":\n",
        "          func_body = code[node.start_byte:node.end_byte]\n",
        "      elif capture_name == \"comment\":\n",
        "          comments.append(code[node.start_byte:node.end_byte])\n",
        "      elif capture_name == \"docstring\":\n",
        "          comments.append(code[node.start_byte:node.end_byte])\n",
        "\n",
        "  func_body_without_comment = func_body\n",
        "  for comment in comments:\n",
        "      func_body_without_comment = func_body_without_comment.replace(comment, \"\")\n",
        "\n",
        "  return (func_name, func_body, func_body_without_comment)\n",
        "\n",
        "dataset_python = prepare(dataset_python[\"whole_func_string\"], prettyfy_function, parse_function)\n",
        "dataset_python"
      ],
      "metadata": {
        "colab": {
          "base_uri": "https://localhost:8080/"
        },
        "id": "CZpZmwkoqUcF",
        "outputId": "1a43c6f8-6f6f-4cee-af54-f965194077c7"
      },
      "id": "CZpZmwkoqUcF",
      "execution_count": 73,
      "outputs": [
        {
          "output_type": "stream",
          "name": "stderr",
          "text": [
            "/usr/local/lib/python3.10/dist-packages/datasets/table.py:720: UserWarning: The DataFrame has column names of mixed type. They will be converted to strings and not roundtrip correctly.\n",
            "  return cls(pa.Table.from_pandas(*args, **kwargs))\n"
          ]
        },
        {
          "output_type": "execute_result",
          "data": {
            "text/plain": [
              "Dataset({\n",
              "    features: ['0', 'func_name', 'func_body', 'func_body_without_comment'],\n",
              "    num_rows: 1000\n",
              "})"
            ]
          },
          "metadata": {},
          "execution_count": 73
        }
      ]
    },
    {
      "cell_type": "markdown",
      "source": [
        "#### Funcion in python name"
      ],
      "metadata": {
        "id": "1t_5E82B0z99"
      },
      "id": "1t_5E82B0z99"
    },
    {
      "cell_type": "code",
      "source": [
        "print(dataset_python['func_name'][0])"
      ],
      "metadata": {
        "colab": {
          "base_uri": "https://localhost:8080/"
        },
        "id": "7thL1iSi01hJ",
        "outputId": "4d7360ab-8afd-4661-f731-bbaef83039cc"
      },
      "id": "7thL1iSi01hJ",
      "execution_count": 74,
      "outputs": [
        {
          "output_type": "stream",
          "name": "stdout",
          "text": [
            "get_vid_from_url\n"
          ]
        }
      ]
    },
    {
      "cell_type": "markdown",
      "source": [
        "#### Funcion in python with comments and docstring"
      ],
      "metadata": {
        "id": "l2zmXu22ucGQ"
      },
      "id": "l2zmXu22ucGQ"
    },
    {
      "cell_type": "code",
      "source": [
        "print(dataset_python['func_body'][0])"
      ],
      "metadata": {
        "colab": {
          "base_uri": "https://localhost:8080/"
        },
        "id": "kKkhTT3HueQx",
        "outputId": "46ec7392-bf7a-4a43-b4d6-dbf98b995ec2"
      },
      "id": "kKkhTT3HueQx",
      "execution_count": 75,
      "outputs": [
        {
          "output_type": "stream",
          "name": "stdout",
          "text": [
            "def <extra_id_0> :\"\"\"Extracts video ID from URL.\n",
            "        \"\"\"\n",
            "        return match1(url, r'youtu\\.be/([^?/]+)') or \\\n",
            "          match1(url, r'youtube\\.com/embed/([^/?]+)') or \\\n",
            "          match1(url, r'youtube\\.com/v/([^/?]+)') or \\\n",
            "          match1(url, r'youtube\\.com/watch/([^/?]+)') or \\\n",
            "          parse_query_param(url, 'v') or \\\n",
            "          parse_query_param(parse_query_param(url, 'u'), 'v')\n"
          ]
        }
      ]
    },
    {
      "cell_type": "markdown",
      "source": [
        "#### Funcion in python WITHOUT comments and docstring"
      ],
      "metadata": {
        "id": "VDb_EWlcvLNh"
      },
      "id": "VDb_EWlcvLNh"
    },
    {
      "cell_type": "code",
      "source": [
        "print(dataset_python['func_body_without_comment'][0])"
      ],
      "metadata": {
        "colab": {
          "base_uri": "https://localhost:8080/"
        },
        "id": "LVZSxESlvNzq",
        "outputId": "b9172a66-60c1-4458-a15d-5c74f2630a5c"
      },
      "id": "LVZSxESlvNzq",
      "execution_count": 76,
      "outputs": [
        {
          "output_type": "stream",
          "name": "stdout",
          "text": [
            "def <extra_id_0> :\n",
            "        return match1(url, r'youtu\\.be/([^?/]+)') or \\\n",
            "          match1(url, r'youtube\\.com/embed/([^/?]+)') or \\\n",
            "          match1(url, r'youtube\\.com/v/([^/?]+)') or \\\n",
            "          match1(url, r'youtube\\.com/watch/([^/?]+)') or \\\n",
            "          parse_query_param(url, 'v') or \\\n",
            "          parse_query_param(parse_query_param(url, 'u'), 'v')\n"
          ]
        }
      ]
    },
    {
      "cell_type": "markdown",
      "source": [
        "### Predict python function name"
      ],
      "metadata": {
        "id": "skNNGeDMq3w9"
      },
      "id": "skNNGeDMq3w9"
    },
    {
      "cell_type": "markdown",
      "source": [
        "#### Python without comments"
      ],
      "metadata": {
        "id": "XRUNmB2eTpGd"
      },
      "id": "XRUNmB2eTpGd"
    },
    {
      "cell_type": "code",
      "execution_count": 77,
      "id": "0e56e44e",
      "metadata": {
        "colab": {
          "base_uri": "https://localhost:8080/"
        },
        "id": "0e56e44e",
        "outputId": "76c8273e-204f-4819-fce0-a9eaa8ffd021"
      },
      "outputs": [
        {
          "output_type": "stream",
          "name": "stdout",
          "text": [
            "def <extra_id_0> :\n",
            "        return match1(url, r'youtu\\.be/([^?/]+)') or \\\n",
            "          match1(url, r'youtube\\.com/embed/([^/?]+)') or \\\n",
            "          match1(url, r'youtube\\.com/v/([^/?]+)') or \\\n",
            "          match1(url, r'youtube\\.com/watch/([^/?]+)') or \\\n",
            "          parse_query_param(url, 'v') or \\\n",
            "          parse_query_param(parse_query_param(url, 'u'), 'v')\n",
            "X: 220\n",
            "\n",
            "['match1', 'parse_url', 'md5', 'is_fc2video_download', 'get_video_info', '', 'get_resource_id', 'ucas_download', 'download_', 'download_', 'sina_zxt', 'download_by_smid', 'match1', 'get_watch_url', 'download', 'get_url', 'color_to_color', 'print_error', 'print_log', 'print_log', 'system', 'get_video_id', 'vimeo_download_by_channel_id', 'get_vimeo_id', 'download_by_vid', 'get_ckplayer', 'test_mp4_url\\n', 'match1', '', 'get_branch_from_commit', 'translate', 'get_win_size', 'theplatform_download_', '', 'get_video', '_options', 'download_stream', 'find_pattern', 'find_all', 'parse_qs', 'read_gzip', 'decompress', 'get_content', 'post_content', 'get_version', '', 'test_headers_mobile', 'main', 'get_topic_name', 'wanmen_download_by_course_topic_part', '_wanmen_get_title_by_json_topic_part', 'fake_headers', 'is_running', 'clear_events', 'get_account', 'get_snowflake_uri', 'connect', 'get_aws_access_key_id', 'extra_get', 'copy_file', 'copy_expert', 'copy_expert', 'upload', 'get_max_partition', 'target_dt', 'get_partitions', 'get_connection', 'load_data', 'update_last_activity_time', 'dump_stack_traces', 'trigger_dag', 'delete_dag', 'scheduler_task', 'main', 'run', 'main', 'run_gunicorn', 'Client', 'translate', 'signal_handler', 'get_instance', 'insert_instance', 'update_instance', 'delete_instance', 'get_database', 'insert_database', 'update_database', 'delete_database', 'export_instance', 'execute_operation', 'run_sql_proxy', 'cloud_sql_proxy_stop', '_download_sql_proxy_if_needed', 'create_connection', 'get_connection', 'delete_connection', 'CloudSqlProxyRunner', 'Database', 'log_postgres_hook', '__init__', 'cleansed_job_', 'get_code', '_import_sensors_modules', 'delete_dag_runs', 'delete_task_instances', 'set_dag_paused', 'run_task', 'SchedulerMetricsJob', 'invoke', 'get_dag', 'get_prediction_path', 'mkdir', 'float', 'utc', 'get_current_date', 'utc', \"'UTC')\\n\", '', 'datetime', 'gcloud_init', 'get_field', 'connect', 'get_connection', 'get_session', 'Airflow', 'prep_request', 'retry', 'session_factory', 'session_in_args?', 'drop_tables', 'upload_file', '', 'error_message', 'get_records', '_get_column_names', 'run', 'insert_rows', 'create_cosmos_client', 'get_database_link', 'get_database_link', 'create_database', 'create_database', 'delete_database', 'delete_collection', 'create_document', 'insert_documents', 'delete_document', 'get_document', 'execute_sql', 'check_dag', 'get_function', 'create_function', 'update_function', 'generate_zip', 'delete_function', 'get_operation', 'publish', 'create_topic', 'delete_topic', '_format_topic', 'delete_subscription', '', '_format_subscription', '_passing_status', 'get_dep_statuses', 'get_dep_statuses', 'load_config', 'get_credentials', 'get_role', 'get_connection', 'logger', 'log', 'log', 'get_zip_file', 'load_examples', 'lock', 'get_dag', 'LaunchProcess', 'heartbeat_manager', 'start', 'StatQueue', 'terminate_manager', 'manager_process_end', 'exit', '', 'main', 'main', 'search_dag_dir', '_log_file_processing_stats', 'import_errors', 'get_rows', 'get_pid', 'get_time_since_file_path', 'start_time', 'Processor', 'run', 'process_processors', 'zombie_query', 'check_runs', 'kill_all_pids', 'ssh_connect', 'ssh_tunnel_forwarder', 'transfer_job', 'transferJob', 'transfer_jobs', 'transfer_job', 'transferJobs', 'cancel_operation', 'get_operation', 'transferOperations', 'pause', 'resume', 'wait_for_transfer_operations', 'status_is_current', 'get_task_reschedule', 'to_lower', 'safe_pod_id', 'check_label', 'run_executor', 'get_slots', '', 'run', 'render_template', 'remove_default', 'get_section', 'airflow_defaults', 'get_partial_keys', 'get_transaction', 'commit', 'get_keys', 'rollback', 'run_batch', 'get_operation', 'delete', 'process_operation', 'create_bucket', 'upload_file', 'publish', 'hostname_callable_', 'get_conn', 'analyze_entities', 'annotate_text', 'classify_text', 'get_dag', 'import_module', 'get_template_field', 'dispose_db_pool', 'setup_dag_folder', 'pull_task', 'is_ticket_cache_enabled', 'get_table_data', 'chunk_iter', 'chunks', 'set_downstream', 'json_to_json', 'terminate', 'render_template_string', 'get_dag', '_import_operators_modules', 'dataproc_build', '_DataProcOperation', '_deep_string_coerce', 'run', 'run_pig', 'celery_task', '_sync_parallelism', 'max_tasks', 'deserialize_json', 'ml_v1', 'create_job', 'get_job', 'get_job', 'create_model_version', 'update_version', 'get_versions', 'get_model_versions', 'create_model', '', 'run', 'create_table', '_import_executors_modules', '_get_executor', 'get_executor', 'segment_error', 'run_pod', 'connect', 'SparkSubmitHook', 'get_run_conf', 'delete_dag', 'get_dag_runs', 'get_code', 'get_task', 'update_dag', 'validate_execution_date', 'validate_execution_date', 'get_pools', '=', 'delete_pool', 'create_container_group', '_get_current_state', 'get_events', 'get_logs', 'delete_resource_group', 'is_container_name', 'init_operators', 'initialize_shard_config', 'transferring_mail_attachment', 'check_for_message', 'run_dag', 'run_dag_run', 'get_task_instance', 'get_task_instance', 'get_dag_run', 'get_dag_run', 'update_state', 'get_task_instances', 'get_dag_run', 'jenkins_request', 'build_', 'jenkins_request_with', 'get_dag_params', 'pre_exec_callbacks', 'post_exec_callbacks', 'dag_run_obj', 'send_metric', 'query', 'create_event', 'get_token', 'get_cmd', 'SlackBot', 'get_dag', 'find_dag', 'zombies', '', 'load_dag_stats', 'report', 'SparkJDBCHook', 'get_date', 'get_date', '_import_modules', 'check_dir', '_get_hdfs_files', 'get_job_ids', 'try_number', 'mark_success', 'save_dag', 'run_dag', 'get_ti', 'task_failed', 'update_task_instance', 'delete_xcom', 'get_dag_task_execution_date', 'count_downstream_task_ids', 'check_failed_dep_status', 'retry_task', 'retry_in_progress', 'open_slots', 'get_dagrun', 'get_hostname', 'on_kill', 'set_execution_date', '_get_xcom_by_key', '_set_context', 'close', 'log_exists', 'check_for_blob', 'read_log_file', 'load_wasb_log', 'compute_conn', 'start_instance', 'set_machine_type', 'get_instance_template', 'create_instance_template', 'get_instance_group_manager', 'update_instance_group_manager', 'check_zone_operation_status', 'bucket_exists', 'create_bucket', 'list_prefixes', 'list_objects', 'list_objects', 'get_object', 'get_object', 'get_bucket_name', 'get_input_serialization', 'get_wildcard_key', 'get_bucket_name', 's3_key_to_key', 'encrypt', 's3_key_to_key', 's3_key_to_key', 'get_s3_bucket', 'delete_objects', 'execute', 'generate_data_dict', 'generate_schema_dict', 'get_value', 'convert_value', 'convert_map', 'sendgrid_mail', 'SpeechClient', 'recognize', 'SparkSqlHook', 'log_handler', 'log_file', 'fetch_logs', 'render_file', 'load_plugins', 'validate_plugin', 'run_task', 'get_account_name', 'is_file', 'ADLUploader', 'download', 'glob', 'run_query', 'kill_query', 'decompress', 'execute', 'com.example.android.sunshine.app;\\n\\nimport', 'upload_files', 'float', '_build_metrics', 'run_command', 'run_task', 'print_tree', 'find_path', 'get_cgroups', 'get_host', '_parse_host', 'Salesforce', 'query', 'get_conn', 'get_fields', 'make_query', 'to_datetime', 'query_results', 'log_to_remote', 'download_log', 'log_to_remote_log', 'get_bucket_blob', 'MongoClient', 'get_collection', 'aggregate_query', 'find_one', 'insert_one', 'insert_many', 'update_doc', 'replace_one', 'replace_one', 'delete_one', 'delete_many', 'check_mail_folder', 'get_mail_attachments', 'create_mail_folder', 'check_regex', 'get_payload', 'put_record', '_reschedule_context', 'get_email_address_list', 'send_mail', 'utc', 'exists', 'blob_exists', 'create_blob', 'create_blob', 'get_blob', 'get_blob_content', 'delete_blob', 'mlsd', 'FTP', 'msd', 'get_files', 'open_file', 'open_file', 'rename', 'get_time', 'create_dag_runs', 'get_execution_date', 'update_dag_run', '_get_dag_run_state', '_get_dag_run_state', '_get_dag_run_state', '', 'DiscordWebhookHook', 'validate_field', 'validate_field', 'FileService', 'exists', 'exists', 'list_files', 'create_directory', 'get_file_to_path', 'get_file_to_stream', 'create_file', 'create_file', 'create_file', 'log', 'log_file', 'get_bucket_blob', 'get_conn', 'check_destination', 'check_bucket_object', 'download_file', 'copy_file', 'blob_exists', 'update_blob', 'delete_blob', 'get_blobs', 'check_size', 'get_crc32c_checksum', 'get_md5_hash', 'create_bucket', 'create_acl_entry', 'create_acl_entry', 'compose', 'f', 'is_job_secondary_status_transitions_present', 'get_job_description', 'create_tar_file', 's3_config', 'check_s3_url', 'get_client_type', 'create_training_job', 'create_hyper_parameter_tuning_job', 'create_transform_job', 'create_endpoint', 'get_log_conn', 'describe_function', 'main', 'run_hook', 'get_file_name', 'run_migrations', 'migrate', 'delete_instance', 'create_instance', 'create_table', 'delete_table', 'update_cluster', 'Hive', 'hiveconf', 'HiveOp', 'HiveType', 'create_table', 'sasl_client\\n', 'partition_exists', 'check_for_partition', 'get_table', 'get_tables', 'partition', 'partition_key_to_partition_key', 'create_table', 'get_table', 'auth_mechanism_check', 'get_results', 'csv_to_csv', 'get_results', 'get_data', 'ProductSearchClient', 'create_product_set', '', 'update_product_set', 'delete_product_set', 'create_product', 'get_product', 'update_product_set', 'delete_product', 'create_reference_image', 'delete_reference_image', 'add_product', 'annotate_image', 'detect_safe_search', 'get_robot_send_url', 'get_message_data', 'validate_message_type', 'log_read', 'search', '_escape', 'escape', 'get_string_field', 'check_type', 'BigQueryConnection', 'bigquery_build', 'read_gbq', 'get_table', 'create_table', '_split_tablename', 'get_table_resource', '_validate_value', 'extract_dataset', 'fix_source_project_dataset_tables', 'generate_source_code', 'run', 'cancel_job', 'get_schema', 'get_options', 'delete_table', 'get_tables', 'get_dataset', 'validate_dataset_reference', 'delete_dataset', 'get_dataset_id', 'get_dataset', 'insert_all', '_bind_operation', 'execute', 'get_page', 'fetch_array', 'fetch_all', 'get_asset_url', 'execute', 'handle\\n', 'parse_schema', 'get_time_from_value', 'chdir', 'create_queue', 'send_message', '_load_hooks', 'run', 'rm_cfg_file', 'main', 'get_serie', 'render_chart', 'buildcontent', 'Header', 'resize_container', 'Chart', 'get_axis', 'axis_format', 'render_chart', 'get_connection', 'log', 'gzip_response', 'dag_edit', 'get_dag_run', 'create_dagrun', 'send_message', 'page_is_current?', 'json_encode', 'open', 'get_path_from_request', '_get_conn', 'annotate_video', 'api_', 'get_connection', 'get_alerts', 'run_bash_command', 'get_payload', 'AlertHook', 'get_client_type', 'start_query_execution', 'get_query_execution_state', 'execute_query', 'trial', 'connect', 'get_files', 'listdir', 'mkdir', 'get_file', 'put_file', 'rate_limit_exception', 'call', 'get_partitions', 'is_partitioned', 'get_table', 'get_table_location', 'get_cluster_status', 'delete_cluster', 'get_cluster_snapshots', 'restore_from_cluster_snapshot', 'create_cluster_snapshot', 'SlackHook', 'add_volume', 'add_volume_mount', 'create_job_flow', 'filter_files', 'filter_extensions', 'aggregate', 'json_dumps', 'pool_create', 'expire_pool', 'pool_create', 'get_json_dict', 'wait_for_operation', 'get_operation', 'update_resource_labels', 'delete_cluster', '_get_cluster', 'get_cluster', 'webhook_endpoint', 'send_message', 'run_webhook', 'key_encrypt', 'run_command', 'import_table', 'import_query', 'export_table', 'TextToSpeechClient', 'synthesize_input', 'close', 'read_remote_log', 'load_hook', 'git_sync_environment', 'get_env', 'get_worker_secrets', 'security_context_from_config', 'cancel_cmd', 'log_task', 'get_log_id', 'get_jobs_id', \"operator.kwargs['qubole_conn_id']\\n\", 'BaseJob.create', 'reset_tis', '', 'DagFileProcessor', 'stop', 'run_process', 'exit_handler', 'check_sla', 'import_dagbag', 'run_dag', 'examine_dag_runs', '', '', 'simple_tis', 'get_task_instances', 'generate_tasks', 'simple_tis_with_state_changed', 'update_ti_state', 'run', 'simple_dag_bag', 'run_dag', 'process_file', 'run_task', 'run_event_loop', 'run_job', 'run_dag_run', 'run', 'run_dag_runs', 'merge_dag_runs', 'run_task', '==', 'Client', 'get_instance', 'get_instance', 'create', 'update', 'delete_instance', 'create_database', 'create_database', 'create_database', 'create_instance', 'execute_sql', 'poking_attachment', 'merge_additional_properties', 'connect', 'is_table_in_cluster', 'get_table', 'SparkConnection', 'SparkConnection', 'SparkSubmit', '_get_yarn_application', 'Spark', 'driver_status_report', 'spark_init', '_get_task_runner', 'run', 'execute', '_get_schema', 'csv_writer', 'create_schema_file', 'upload_files', 'convert_row', 'get_schema', 'get_field_types', 'authenticate', 'SqoopHook', 'lineage', 'pre_pre_lineage', 'json_to_dict', 'wait', 'croniter', '', 'time_seconds_arr', 'today', 'run_dag', 'add_role', 'delete_role', 'get_user', 'get_perms_views', 'get_roles', 'has_view_access', 'is_role_name_or_list', 'has_permission', 'clean_faulty_perms', 'permissionview_model', 'merge_perm', 'add_permissions', 'sync_user_roles', 'add_dag_perm', 'target_perms_', 'merge_dag_vm_perm', '_fernet', 'Poking', 'AwsGlueCatalogHook', 'check_sqs_queue', 'write_cfg', 'authenticate', 'connection', 'status', 'upload', 'connect', 'get_connection', 'fetch_all', 'get_row', 'strip_separator', 'quote', 'xcom_save', 'filter_by_key', 'filter_by_key', 'get_date_from_field_date', 'get_time_zone', 'initialize', 'get_oracle_conn_id', 'execute', 'insert_rows', 'connect', 'read_sql', 'execute', 'get_row', 'execute', 'autocommit', '_get_conn', 'format_datetime', 'run_scheduler', 'run_dag_task', 'get_query', 'get_count_query', 'cloudant_session', 'SlackWebhookHook', 'get_scopes', '_get_credentials', 'get_extra', 'call', '_get_project_id', 'get_classes', 'check_dag_fileloc', 'SparkSQL', 'spark_sql', 'build_model', 'make_model', 'model_zoo', '_load_state_dict', '_check_image', 'check_pic', 'dtype=torch.float32,', '_check_size', 'tuple)):\\n', 'crop', 'crop', '_transpose', 'matrix', '_transform', '_transpose', 'crop_size', 'five_crop', '_enhance_image', 'contrast_factor', '_get_image', 'hue_factor_to_rgb', '_convert_to_pil', 'rotate', '_is_pil_image', '_convert_to_pil', 'norm_ip', 'make_grid', 'find_classes', 'get_images', 'get_labels', 'get_matches', 'conv2d', 'topk', 'print', 'train', 'model', 'create_dir', 'make_dir', \"'..')]\\n\\n\", 'find_files', 'download_file', 'random_size', 'random_topleft', 'scale', 'transform', 'random_rotate', 'pretrained', 'download_file', 'pretrained', '_check_exists', '_check_exists', 'request', 'get_theme_name', 'get_output_format', 'query_text', 'index', 'search_url', 'get_results', 'themes', 'search_query', 'get_conversion_rate', 'stop_gradient', 'gradient', 'normal', 'school_effects_standard', 'main', '_get_doc', 'get_simple_name', 'RandomVariable', '_build_custom_rv', 'RandomVariable', 'batch_shape_tensor', 'one_step_predictive', 'forecast', 'max', 'log_exp', 'assert_finite', 'assert_rank_at_most', 'event_size', 'eval_all_one_hot', 'kl_divergence_fn', '_deserialize', 'DistributionLambda', 'multivariate_normal_tril', 'MultivariateNormalTriL_params_size', 'onehot_categorical', 'mixture_same_family', 'mixture_same_family', 'build_independent_bernoulli', '_serialize', \"name='event_shape'),\\n\", 'IndependentNormal_params_size', 'IndependentPoisson', 'mixture_same_family', 'mixture_same_family', 'mixture_params_size', 'mixture_same_family', 'mixture_params_size', '_interceptor_stack', 'func', 'intercept', 'train', 'plot_w', 'train', 'validate_args', 'trace_fn', '_call', 'call_fn', 'flatten_sequence', 'main', 'step_size', 'flatten_current_state', 'leapfrog_trace_fn', 'control\\n', 'tf_layers_', 'config', 'config', '_ConvFlipout', 'get_tensor', '_as_tensor', 'random_walk_normal', 'random_walk_uniform', '_get_distribution', 'max_batch_size', 'expand_x', '_assertions', 'cat_', 'validate_args', 'main', 'get_labels', 'dtype=np.float32)])\\n', 'KL_dirichlet_dirichlet', 'concentration', 'sample', 'rank', 'covariance', 'covariance', 'correlation', 'variance', 'covariance', 'get_tensor', '_make_ndims_tensor', 'squeeze', 'kl_normal_normal', 'standardize', 'reconstruct', 'autoregressive_coef', 'scale_scale', 'or', '_convert_to_radixes', 'sample_range']\n",
            "['get_vid_from_url', 'sina_xml_to_url_list', 'makeMimi', 'fc2video_download', 'dailymotion_download', 'dictify', 'ucas_download_single', 'ucas_download_playlist', 'sina_download_by_vid', 'sina_download_by_vkey', 'sina_download', 'yixia_download', 'veoh_download', 'veoh_download_by_id', 'download_by_id', 'get_vid_from_url', 'sprint', 'print_log', 'e', 'wtf', 'detect_os', 'miaopai_download_by_fid', 'vimeo_download_by_channel', 'vimeo_download_by_channel_id', 'vimeo_download_by_id', 'ckplayer_get_info_by_xml', 'tmp', 'get_vid_from_url', 'get_mgtv_real_url', 'get_head', 'legitimize', 'get_terminal_size', 'cbs_download', 'download', 'acfun_download_by_vid', 'main_dev', 'ffmpeg_download_stream', 'match1', 'matchall', 'parse_query_param', 'ungzip', 'undeflate', 'get_content', 'post_content', 'parse_host', 'print_more_compatible', 'showroom_get_roomid_by_room_url_key', 'showroom_download_by_room_id', '_wanmen_get_title_by_json_topic_part', 'wanmen_download_by_course', 'wanmen_download_by_course_topic_part', 'get_streams_by_id', 'has_task', 'get_event_buffer', '_get_conn_params', 'get_uri', 'get_conn', '_get_aws_credentials', '_get_field', 'copy_expert', 'bulk_load', 'bulk_dump', 'execute', 'max_partition', '_closest_date', 'closest_ds_partition', 'get_conn', 'bulk_load', 'is_bucket_updated', 'sigquit_handler', 'trigger_dag', 'delete_dag', 'task_failed_deps', 'task_state', 'dag_state', 'next_execution', 'e(batch_size)', 'get_conn', 'translate', 'pre_exec', 'get_instance', 'create_instance', 'patch_instance', 'delete_instance', 'get_database', 'create_database', 'patch_database', 'delete_database', 'export_instance', '_wait_for_operation_to_complete', 'start_proxy', 'stop_proxy', 'get_proxy_version', 'create_connection', 'retrieve_connection', 'delete_connection', 'get_sqlproxy_runner', 'get_database_hook', 'cleanup_database_hook', 'reserve_free_tcp_port', '_normalize_mlengine_job_id', '_get_error_code', '_integrate_plugins', 'clear_dag_runs', 'clear_dag_task_instances', 'set_dags_paused_state', 'print_stats', 'heartbeat', 'invoke_lambda', 'get_dag_run_state', 'apply_validate_fn', 'mkdirs', '_convert_to_float_if_possible', 'utcnow', 'utc_epoch', 'convert_to_utc', 'make_aware', 'make_naive', 'datetime', '_set_env_from_extras', '_get_field', 'get_conn', 'get_conn', 'run', 'check_response', 'run_and_check', 'run_with_advanced_retry', 'create_session', 'wrapper', 'resetdb', 'execute', 'get_conn', '_get_pretty_exception_message', 'get_records', 'get_pandas_df', 'run', 'insert_rows', 'get_conn', 'does_collection_exist', 'create_collection', 'does_database_exist', 'create_database', 'delete_database', 'delete_collection', 'upsert_document', 'insert_documents', 'delete_document', 'get_document', 'get_documents', 'get_code', 'get_function', 'create_new_function', 'update_function', 'upload_function_zip', 'delete_function', '_wait_for_operation_to_complete', 'publish', 'create_topic', 'delete_topic', 'create_subscription', 'delete_subscription', 'pull', 'acknowledge', 'get_dep_statuses', 'is_met', 'get_failure_reasons', '_parse_s3_config', 'get_credentials', 'expand_role', 'get_conn', 'set_context', 'write', 'flush', 'correct_maybe_zipped', 'list_py_file_paths', 'construct_task_instance', 'get_dag', 'start', 'harvest_simple_dags', '_heartbeat_manager', '_sync_metadata', 'terminate', 'end', '_exit_gracefully', 'start', 'start_in_async', 'start_in_sync', '_refresh_dag_dir', '_print_stat', 'clear_nonexistent_import_errors', '_log_file_processing_stats', 'get_pid', 'get_runtime', 'get_start_time', 'set_file_paths', 'wait_until_finished', 'heartbeat', '_find_zombies', 'max_runs_reached', 'end', 'get_conn', 'get_tunnel', 'create_transfer_job', 'get_transfer_job', 'list_transfer_job', 'update_transfer_job', 'delete_transfer_job', 'cancel_transfer_operation', 'get_transfer_operation', 'list_transfer_operations', 'pause_transfer_operation', 'resume_transfer_operation', 'wait_for_transfer_job', 'operations_contain_expected_statuses', 'find_for_task_instance', '_strip_unsafe_kubernetes_special_chars', '_make_safe_pod_id', '_make_safe_label_value', 'clear_not_launched_queued_tasks', 'open_slots', 'expand_env_var', 'run_command', 'parameterized_config', 'remove_option', 'getsection', 'as_dict', 'allocate_ids', 'begin_transaction', 'commit', 'lookup', 'rollback', 'run_query', 'get_operation', 'delete_operation', 'poll_operation_until_done', 'export_to_storage_bucket', 'import_from_storage_bucket', 'publish_to_target', 'get_hostname', 'get_conn', 'analyze_entities', 'annotate_text', 'classify_text', 'get_task', 'get_template_field', 'template_field_role', 'dispose_orm', 'prepare_classpath', '_check_task_id', 'detect_conf_var', 'alchemy_to_dict', 'chunks', 'reduce_in_chunks', 'chain', 'f', 'on_terminate', 'render_log_filename', 'get_task_instance', '_integrate_plugins', 'get_conn', 'wait', '_deep_string_coerce', '_handle_databricks_operator_execution', 'run_cli', 'fetch_celery_task_state', '_num_tasks_per_send_process', '_num_tasks_per_fetch_process', 'setdefault', 'get_conn', 'create_job', '_get_job', '_wait_for_job_done', 'create_version', 'set_default_version', 'list_versions', 'delete_version', 'create_model', 'get_model', 'execute_work', 'write_batch_data', '_integrate_plugins', 'get_default_executor', '_get_executor', 'on_error', 'run_pod', 'get_conn', 'execute', 'trigger_dag', 'delete_dag', 'dag_runs', 'get_dag_code', 'task_info', 'dag_paused', 'task_instance_info', 'dag_run_status', 'get_pools', 'create_pool', 'delete_pool', 'create_or_update', 'get_state_exitcode_details', 'get_messages', 'get_logs', 'delete', 'exists', 'wrapper', 'construct_ingest_query', 'execute', 'poke', 'refresh_from_db', 'find', 'get_task_instances', 'get_task_instance', 'get_previous_dagrun', 'get_previous_scheduled_dagrun', 'update_state', 'verify_integrity', 'get_run', 'jenkins_request_with_headers', 'build_job', 'poll_job_in_queue', 'context_to_airflow_vars', 'on_pre_execution', 'on_post_execution', 'conditionally_trigger', 'send_metric', 'query_metric', 'post_event', '_get_token', '_build_slack_message', 'execute', 'get_dag', 'process_file', 'kill_zombies', 'bag_dag', 'collect_dags', 'dagbag_report', 'execute', 'ds_add', 'ds_format', '_integrate_plugins', 'poke', 'poke', 'clear_task_instances', 'try_number', 'command', 'command_as_list', 'generate_command', 'current_state', 'error', 'refresh_from_db', 'clear_xcom_data', 'key', 'are_dependents_done', 'are_dependencies_met', 'next_retry_datetime', 'ready_for_retry', 'pool_full', 'get_dagrun', '_check_and_change_state_before_execution', 'signal_handler', 'xcom_push', 'xcom_pull', 'init_run_context', 'close', '_read', 'wasb_log_exists', 'wasb_read', 'wasb_write', 'get_conn', 'start_instance', 'set_machine_type', 'get_instance_template', 'insert_instance_template', 'get_instance_group_manager', 'patch_instance_group_manager', '_wait_for_operation_to_complete', 'check_for_bucket', 'create_bucket', 'check_for_prefix', 'list_prefixes', 'list_keys', 'check_for_key', 'get_key', 'read_key', 'select_key', 'check_for_wildcard_key', 'get_wildcard_key', 'load_file', 'load_string', 'load_bytes', 'load_file_obj', 'copy_object', 'delete_objects', '_query_cassandra', '_write_local_data_files', '_write_local_schema_file', 'convert_user_type', 'convert_tuple_type', 'convert_map_type', 'send_email', 'get_conn', 'recognize_speech', 'execute', 'set_context', '_read', 'read', '_init_file', 'load_entrypoint_plugins', 'is_valid_plugin', 'skip', 'get_conn', 'check_for_file', 'upload_file', 'download_file', 'list', 'execute', 'on_kill', 'uncompress_file', '_query_mssql', '_write_local_data_files', '_upload_to_gcs', 'convert_types', 'wrapper', '_build_metrics', '_evaluate_trigger_rule', '_create_cgroup', '_delete_cgroup', '_get_cgroup_names', '_parse_host', '_do_api_call', 'get_conn', 'make_query', 'describe_object', 'get_available_fields', 'get_object_from_salesforce', '_to_timestamp', 'write_object_to_file', '_read', 'gcs_read', 'gcs_write', 'parse_gcs_url', 'get_conn', 'get_collection', 'aggregate', 'find', 'insert_one', 'insert_many', 'update_one', 'replace_one', 'replace_many', 'delete_one', 'delete_many', 'has_mail_attachment', 'retrieve_mail_attachments', 'download_mail_attachments', 'get_attachments_by_name', 'get_file', 'put_records', '_get_dep_statuses', 'send_email', 'send_email_smtp', 'process_result_value', 'check_for_blob', 'check_for_prefix', 'load_file', 'load_string', 'get_file', 'read_file', 'delete_file', 'mlsd', 'get_conn', 'describe_directory', 'list_directory', 'retrieve_file', 'store_file', 'rename', 'get_mod_time', '_create_dagruns', 'set_state', '_set_dag_run_state', 'set_dag_run_state_to_success', 'set_dag_run_state_to_failed', 'set_dag_run_state_to_running', 'git_version', 'execute', '_validate_field', 'validate', 'get_conn', 'check_for_directory', 'check_for_file', 'list_directories_and_files', 'create_directory', 'get_file', 'get_file_to_stream', 'load_file', 'load_string', 'load_stream', 'set_context', '_init_file', '_parse_gcs_url', 'get_conn', 'copy', 'rewrite', 'download', 'upload', 'exists', 'is_updated_after', 'delete', 'list', 'get_size', 'get_crc32c', 'get_md5hash', 'create_bucket', 'insert_bucket_acl', 'insert_object_acl', 'compose', 'argmin', 'secondary_training_status_changed', 'secondary_training_status_message', 'tar_and_s3_upload', 'configure_s3_resources', 'check_s3_url', 'get_log_conn', 'create_training_job', 'create_tuning_job', 'create_transform_job', 'create_endpoint', 'describe_training_job_with_log', 'check_status', 'check_training_status_with_log', 'execute', 'google_cloud_to_local', 'run_migrations_offline', 'run_migrations_online', 'delete_instance', 'create_instance', 'create_table', 'delete_table', 'update_cluster', '_prepare_cli_cmd', '_prepare_hiveconf', 'run_cli', '_infer_field_types_from_df', 'load_file', 'sasl_factory', 'check_for_partition', 'check_for_named_partition', 'get_table', 'get_tables', 'get_partitions', '_get_max_partition_from_part_specs', 'max_partition', 'table_exists', 'get_conn', 'get_results', 'to_csv', 'get_records', 'get_pandas_df', 'get_conn', 'create_product_set', 'get_product_set', 'update_product_set', 'delete_product_set', 'create_product', 'get_product', 'update_product', 'delete_product', 'create_reference_image', 'delete_reference_image', 'add_product_to_product_set', 'annotate_image', 'safe_search_detection', '_get_endpoint', '_build_message', 'send', '_read', 'es_read', '_bind_parameters', '_escape', '_bq_cast', '_validate_value', 'get_conn', 'get_service', 'get_pandas_df', 'table_exists', 'create_empty_table', 'create_external_table', 'patch_table', 'run_query', 'run_extract', 'run_copy', 'run_load', 'run_with_configuration', 'cancel_query', 'get_schema', 'get_tabledata', 'run_table_delete', 'run_table_upsert', 'run_grant_dataset_view_access', 'create_empty_dataset', 'delete_dataset', 'get_dataset', 'get_datasets_list', 'insert_all', 'execute', 'executemany', 'next', 'fetchmany', 'fetchall', 'get_url_for_asset', '_query_postgres', '_create_new_file', '_write_local_schema_file', 'convert_types', '_make_intermediate_dirs', 'create_queue', 'send_message', '_integrate_plugins', 'run_command', 'on_finish', '_main', 'add_serie', 'buildcontent', 'buildhtml', 'buildhtmlheader', 'buildcontainer', 'buildjschart', 'create_x_axis', 'create_y_axis', 'buildcontent', 'get_conn', 'wrapper', 'zipper', 'wrapper', 'get_last_dagrun', 'create_dagrun', 'execute', 'is_current', 'json_response', 'open_maybe_zipped', 'make_cache_key', 'get_conn', 'annotate_video', '_get_api_key', 'get_conn', 'execute', 'poke', '_build_opsgenie_payload', 'execute', 'get_conn', 'run_query', 'check_query_status', 'get_query_results', 'poll_query_status', 'get_conn', 'describe_directory', 'list_directory', 'create_directory', 'retrieve_file', 'store_file', '__handle_rate_limit_exception', 'call', 'get_partitions', 'check_for_partition', 'get_table', 'get_table_location', 'cluster_status', 'delete_cluster', 'describe_cluster_snapshots', 'restore_from_cluster_snapshot', 'create_cluster_snapshot', 'execute', 'add_volume', 'add_mount', 'create_job_flow', 'filter_for_filesize', 'filter_for_ignored_ext', 'execute', '_stringify', 'get_pool', 'create_pool', 'delete_pool', '_dict_to_proto', 'wait_for_operation', 'get_operation', '_append_label', 'delete_cluster', 'create_cluster', 'get_cluster', '_get_webhook_endpoint', '_build_discord_payload', 'execute', 'encrypt', 'Popen', 'import_table', 'import_query', 'export_table', 'get_conn', 'synthesize_speech', 'close', 's3_read', 's3_write', '_get_init_containers', '_get_environment', '_get_secrets', '_get_security_context', 'kill', 'get_results', 'get_log', 'get_jobs_id', 'get_extra_links', 'heartbeat', 'query', 'helper', 'start', 'terminate', 'done', '_exit_gracefully', 'manage_slas', 'update_import_errors', 'create_dag_run', '_process_task_instances', '_change_state_for_tis_without_dagrun', '__get_concurrency_maps', '_find_executable_task_instances', '_change_state_for_executable_task_instances', '_enqueue_task_instances_with_queued_state', 'query', '_change_state_for_tasks_failed_to_execute', '_process_dags', '_process_executor_events', '_execute_helper', 'process_file', '_update_counters', '_manage_executor_state', '_get_dag_run', '_task_instances_for_dag_run', '_per_task_process', '_execute_for_run_dates', '_set_unfinished_dag_runs_to_failed', '_execute', 'heartbeat_callback', '_get_client', 'get_instance', '_apply_to_instance', 'create_instance', 'update_instance', 'delete_instance', 'get_database', 'create_database', 'update_database', 'delete_database', 'execute_dml', 'poke', 'prepare_additional_parameters', 'get_conn', 'table_exists', 'record_exists', '_build_spark_submit_command', '_build_track_driver_status_command', 'submit', '_process_spark_submit_log', '_process_spark_status_log', '_start_driver_status_tracking', '_build_spark_driver_kill_command', 'get_task_runner', '_wait_for_task_ended', '_query_mysql', '_write_local_data_files', '_configure_csv_file', '_write_local_schema_file', '_upload_to_gcs', '_convert_types', '_get_col_type_dict', 'type_map', 'authenticate', 'execute', 'wrapper', 'wrapper', 'extra_dejson', 'date_range', 'round_time', 'infer_time_unit', 'scale_time_units', 'days_ago', 'get_dag_runs', 'init_role', 'delete_role', 'get_user_roles', 'get_all_permissions_views', 'get_accessible_dag_ids', 'has_access', '_has_role', '_has_perm', 'clean_perms', '_merge_perm', 'merge_pv', 'update_admin_perm_view', 'sync_roles', 'sync_perm_for_dag', '_revoke_stale_permissions', 'create_perm_vm_for_all_dag', 'get_fernet', 'poke', 'get_hook', 'poke', 'tmp_configuration_copy', 'get_conn', 'get_conn', 'check_for_path', 'load_file', 'get_conn', 'get_uri', 'get_records', 'get_first', 'smart_truncate', 'slugify', 'set', 'get_one', 'get_many', '_convert_date_to_dict', '_convert_time_to_dict', 'get_conn', 'get_conn', 'insert_rows', 'bulk_insert_rows', 'get_conn', 'get_pandas_df', 'get_records', 'get_first', 'run', 'set_autocommit', 'insert_rows', '_serialize_cell', 'health', 'extra_links', 'get_query', 'get_count_query', 'get_conn', 'execute', '_get_credentials', '_authorize', '_get_field', 'wrapper_decorator', 'inner_wrapper', 'unfinished', 'delete_dag', '_prepare_command', 'run_query', 'vgg11_bn', 'vgg13', 'alexnet', 'densenet121', 'to_tensor', 'to_pil_image', 'normalize', 'resize', 'pad', 'crop', 'resized_crop', 'hflip', '_get_perspective_coeffs', 'perspective', 'vflip', 'five_crop', 'ten_crop', 'adjust_brightness', 'adjust_contrast', 'adjust_saturation', 'adjust_hue', 'adjust_gamma', 'rotate', 'affine', 'to_grayscale', 'norm_range', 'save_image', '_find_classes', 'find_files', 'read_info_file', 'read_matches_files', 'conv1x1', 'accuracy', 'print', 'synchronize_between_processes', 'squeezenet1_1', 'makedir_exist_ok', 'download_url', 'list_dir', 'list_files', 'download_file_from_google_drive', 'get_params', 'get_params', 'get_params', 'get_params', 'get_params', 'inception_v3', 'download', 'googlenet', 'download', 'download', 'request', 'get_current_theme_name', 'index', 'autocompleter', 'preferences', 'request', 'response', 'get_themes', 'searx_bang', 'response', 'maybe_stop', 'value_and_gradient', 'mvn', 'eight_schools_joint_log_prob', 'computation', '_fn_wrapped', '_simple_name', '_build_custom_rv', 'as_random_variable', 'func', '_mode_mean_shape', 'one_step_predictive', 'forecast', '_max_mask_non_finite', '_reduce_logsumexp', 'assert_finite', 'assert_rank_at_most', '_event_size', '_eval_all_one_hot', '_fn', '_get_convert_to_tensor_fn', 'get_config', 'new', 'params_size', 'new', 'new', 'params_size', 'new', 'get_config', 'new', 'params_size', 'new', 'new', 'params_size', 'params_size', 'new', 'params_size', 'get_next_interceptor', 'func_wrapped', 'record', 'toy_logistic_data', 'plot_weights', 'build_input_pipeline', '_maybe_check_valid_map_values', 'trace_fn_wrapper', 'call_fn', 'call_and_grads', 'maybe_broadcast_structure', 'wrapper', 'leapfrog_step', 'metropolis_hastings_step', 'leapfrog_trace_wrapper_fn', '_get_new_control', 'compute_output_shape', 'get_config', 'from_config', 'get_config', '_as_tensor', '_create_scale_operator', '_fn', '_fn', '_kl_independent', '_get_default_reinterpreted_batch_ndims', '_expand_to_event_rank', 'entropy_lower_bound', '_cat_probs', 'validate_equal_last_dim', '_ensure_tf_install', 'logistic_regression', 'covertype', '_kl_dirichlet_dirichlet', '_maybe_assert_valid_concentration', '_maybe_assert_valid_sample', 'auto_correlation', 'cholesky_covariance', 'covariance', 'correlation', 'stddev', 'variance', '_make_list_or_1d_tensor', '_make_positive_axis', '_squeeze', '_kl_normal_normal', '_z', '_inv_z', 'semilocal_linear_trend_transition_matrix', 'semilocal_linear_trend_transition_noise', 'sample_halton_sequence', '_randomize', 'generate_one']\n",
            "\n",
            "********************************************************************************\n",
            "Evaluation results:\n",
            "{'exact_match': 0.137,\n",
            " 'rouge1': 0.34635085470085464,\n",
            " 'rouge2': 0.1651468614718615,\n",
            " 'rougeL': 0.3437844683094684,\n",
            " 'rougeLsum': 0.343197533022533}\n",
            "********************************************************************************\n",
            "\n",
            "WORST EXAMPLE:\n",
            "{'prediction': 'match1', 'reference': 'get_vid_from_url', 'score': 2.0}\n"
          ]
        },
        {
          "output_type": "execute_result",
          "data": {
            "text/plain": [
              "220"
            ]
          },
          "metadata": {},
          "execution_count": 77
        }
      ],
      "source": [
        "predict(dataset_python[\"func_body_without_comment\"], dataset_python[\"func_name\"])\n"
      ]
    },
    {
      "cell_type": "markdown",
      "source": [
        "#### Python + comments"
      ],
      "metadata": {
        "id": "bRvxWKSiTtAu"
      },
      "id": "bRvxWKSiTtAu"
    },
    {
      "cell_type": "code",
      "source": [
        "predict(dataset_python[\"func_body\"], dataset_python[\"func_name\"])\n"
      ],
      "metadata": {
        "id": "TFjRiK1HFiC9",
        "colab": {
          "base_uri": "https://localhost:8080/"
        },
        "outputId": "5d0fa75a-ca1b-480b-d4dd-1da1e9b862c6"
      },
      "id": "TFjRiK1HFiC9",
      "execution_count": 78,
      "outputs": [
        {
          "output_type": "stream",
          "name": "stdout",
          "text": [
            "def <extra_id_0> :\"\"\"Extracts video ID from URL.\n",
            "        \"\"\"\n",
            "        return match1(url, r'youtu\\.be/([^?/]+)') or \\\n",
            "          match1(url, r'youtube\\.com/embed/([^/?]+)') or \\\n",
            "          match1(url, r'youtube\\.com/v/([^/?]+)') or \\\n",
            "          match1(url, r'youtube\\.com/watch/([^/?]+)') or \\\n",
            "          parse_query_param(url, 'v') or \\\n",
            "          parse_query_param(parse_query_param(url, 'u'), 'v')\n",
            "X: 315\n",
            "\n",
            "['or', 'parse_xml', 'init', 'wrapper', 'download_dailymotion_video', 'dictify', 'get_video', 'ucas_download', 'download_sina_video', 'download_sina_video', 'sina_zxt', 'miaopai_download_by_smid', 'get_item_id', 'get_content', 'prepare', 'url)\\n', 'format_text', 'print_log', 'print_error', 'print_log', 'windows_linux_detect', 'get_mobile_page', 'download_vimeo', 'get_id', 'get_video', 'get_ckinfo', 'test_mp4_url\\n', 'extract_video_id', 'get_real_urls', '=', 'filename_to_filename', 'get_terminal_size', '', '', 'get_content', 'main', 'download', 'scan_string', 'scan', 'parse_qs', 'decompress', 'late(data)late_data(data)late_data_flush(data)late(data)late_data_decompress(data)late_data_compress(data)late(data)late_data_decompress_flush(data)late(data)late_data_decompress(data)late', 'get_content', 'post_content', 'parse_host', 'print_with_flush', \"'UTF-8,*;q=0.6',\\n\", 'main', 'get_title', 'download_course', '\\n', 'get_height', 'is_task_known', 'flush_events', 'None)\\n', 'get_uri', 'get_conn', 'get_connection', 'get_extra_field', 'execute_sql', 'load_db_table', 'dump_db_table', 'upload_file', 'get_max_partition', 'closest_date', 'closest_date', 'mysql_conn', 'load_tab_delimited_file', 'check_bucket', 'dump_stacktraces', 'trigger_dag', 'delete_db_records', 'task_failed_deps', 'task_state', 'dag_state', 'next_execution', 'run_gunicorn', 'get_client', 'translate', 'signal_handler', 'get_instance', 'create_instance', 'update_settings', 'delete_instance', 'get_database', 'create_database', 'update_database', 'delete_database', 'export_data', 'wait_for_operation', 'start_sql_proxy', 'stop_sql_proxy', 'get_version_', 'create_connection', 'get_connection', 'delete_connection', 'get_cloud_sql_proxy_runner', 'get_hook', 'clean_db_hook', '__init__', 'replace_job_id', 'extract_error_code', 'integrate_plugins', 'remove_dag_runs', 'remove_task_instances', 'toggle_pause_state', 'print_metrics', 'SchedulerMetricsJob', 'invoke_lambda_function', 'get_task', 'get_prediction_path', 'create_directory', 'convert_string', 'get_current_date_and_time', 'get_epoch', 'get_timezone', 'naive_datetime', 'naive_datetime', 'dt', 'set_credentials', 'get_field', 'connect', 'get_connection', 'perform_request', 'check_status', 'run', 'run_hook', 'contextmanager', 'session_in_args?', 'clear_db', 'upload_file', 'get_connection', 'parse_database_error', 'get_records', 'get_dataframe', 'run', 'insert_tuples', 'get_cosmos_client', 'check_collection', 'create_collection', 'check_database', 'create_database', 'delete_database', 'delete_collection', 'insert_document', 'insert_documents', 'delete_document', 'get_document', 'get_documents', 'get_dag_code', 'get_function', 'create_function', 'update_cloud_function', 'upload_zip', 'delete_function', 'wait_for_operation', 'publish_message', 'create_topic', 'delete_topic', 'create_subscription', 'delete_subscription', 'pull_messages', 'pull_up_to', 'get_dep_statuses', 'is_dependency_met', 'get_dependencies', '\"s3cmd.conf.py\",', 'get_credentials', 'get_role_arn', 'get_conn', 'set_context', 'log', 'ensure_all_logging_output_flushed', 'zip_path', 'traverse_dir', 'TaskInstance', 'get_dag', 'launch_manager', 'harvest_dag', 'heartbeat', 'sync_metadata', 'terminate_manager', 'kill_manager', 'clean_dag_processors', 'process_files', 'parse_dag', 'parse_dag', 'refresh_dag_dir', 'print_stats', 'clear_import_errors', 'print_stats', 'process_file', '_get_runtime', '_get_start_time', 'update_file_paths', 'sleep_until_all_processors', 'get_dags', 'find_zombie_task_instances', 'run_count_all', 'kill_all_pids', 'open_ssh_conn', 'create_tunnel', 'create_transfer_job', 'get_latest_state', 'list_operations', 'update_transfer_job', 'delete_transfer_job', 'cancel_transfer_operation', 'get_transfer_operation', 'get_transfer_job', 'pause_transfer_operation', 'resume_transfer_operation', 'wait_until', 'check_operation_list', 'task_reschedule', '_get_pod_name', 'validate_pod_name', 'validate_label_value', 'run_scheduler', 'get_slots_open', 'expand_env_var', 'run', 'generate_config', 'remove_option', 'get_section', 'get_current_config', 'allocateIds', 'begin_transaction', 'commit', 'lookup', 'rollback', 'runQuery', 'get_latest_state', 'delete', 'poll_backup_operation_state', 'export_entities', 'import_backup', 'publish', 'get_hostname', 'get_conn', 'find_entities', 'analyze_sentiment', 'classify_document', 'get_task', 'get_template_fields', 'template_fields', 'close_pool', 'ensure_dag_folder_on_classpath', 'get_celery_result', 'is_ticket_cache_configured', 'transform', 'yield_successive_chunks', 'chunks', 'chain', 'json_to_json', 'terminate', 'render_filename', 'get_task', 'integrate_plugins', 'Dataproc', '_DataProcOperation', 'coerces', 'handle_operator', 'run_cli', 'fetch_state', 'max_to_send_count', 'max_tasks', 'setdefault', 'ml', 'launch_job', 'get_job', 'wait_until_terminal', 'create_version', 'set_default', 'list_versions', 'delete_version', 'create_model', 'get_model', 'execute_command', 'write_batch', '__future__', '_', 'create_executor', 'handle_error', 'run_pod', 'get_connection', 'SparkSubmitHook', 'trigger_dag_run', 'delete_dag', 'get_dag_runs', 'get_code', 'get_task', 'pause_dag', 'get_json_task_instance_variables', 'dag_run_json', 'get_pools', 'create_pool', 'delete_pool', 'create_container_group', 'get_container_state', 'get_messages', 'get_tail', 'delete_container_group', 'test_container_group_exists', 'init_operators', 'build_query', 'transfer_mail_attachment', 'check_message', 'reload_dagrun', 'dag_runs', 'get_task_instances', 'get_task_instance', 'previous_dag_run', 'previous_schedule', 'update_state', 'verify_dagrun', 'get_dag_run', 'jenkins_request', 'trigger_build', 'poll_jenkins_queue', 'get_relations', '__pre_exec_callbacks', 'call_callbacks', 'trigger_dag', 'send_single_metric', 'query_datadog', 'post_event', 'get_webhook_token', 'SlackMessage', 'SlackBot', 'getDag', 'find_dag', 'fail_zombies', 'add_dag', '_get_dagbag_from_file', 'print_report', 'SparkSubmitHook', 'ds_', 'date_to_string', 'integrate_plugins', '%', 'poke_for_empty_dir', 'clear_task_instances', 'get_try_number', 'mark_success', 'get_command', 'generate_shell_command', 'get_state', 'update_state', 'refresh_task_instance', 'clear_xcom_data', 'get_task_instance_id', 'check_dependents', 'all_dependencies_met', 'get_next_retry_datetime', 'is_retryable', 'has_room', 'getDagRun', '_check_dependencies', 'on_kill', 'make_xcom', 'pull_xcoms', 'set_context', 'close_log_file', 'read_logs', 'check_for_blob', 'get_log', 'write_log', 'compute_conn', 'start_instance', 'set_machine_type', 'get_instance_template', 'insert_template', 'get_instance_group_manager', 'patch_instance_group_manager', 'wait_for_operation', 'check_bucket_exists', 'create_bucket', 'check_prefix', 'list_prefixes', 'list_keys', 'check_key', 'get_object', 'read_key', 'read_key', 'check_key', 'get_object', 'bucket_name:', 'load_string', 'load_bytes', 'load_file', 'create_copy', 'delete_object', 'query', 'write_results', 'write_schema', 'convert_value', 'convert_tuple', 'convert_map', 'send_email', 'get_client', 'recognizer', 'SparkSqlHook', '_init_handler', 'read_log', 'read_logs', 'create_log_dir', 'load_plugins', 'is_subclass_of', 'set_tasks_to_skipped', 'AzureDLFileSystem', 'check_file', 'upload_file', 'download_file', 'list_files', 'run_query', 'id', 'uncompress', 'query_mssql', 'schema_', 'upload_file_splits', 'float_to_float', 'cli', 'build_metrics_dict', 'yield_dependency_status', 'create_cgroup', 'delete_cgroup', 'get_cgroup_name', 'get_host', 'api_call', 'sign_in', 'query', '', 'get_fields', 'get_all_instances', 'convert_column', 'write_results', 'read_logs', 'get_log', 'write_log', 'parse_gsurl', 'fetch_client', 'get_collection', 'run_aggregation', 'find_', 'insert_one', 'insert_many', 'update_one', 'replace_one', 'replace_many', 'delete_one', 'delete_many', 'check_mail_folder', 'get_attachments', 'local_output_directory:', 'get_attachments', 'get_part_payload', 'write_batch', 'reschedule_task_ready', 'send_email', 'send_email', 'process_date_times', 'check_blob', 'check_prefix', 'upload_file', 'upload_string', 'download_file', 'read_file', 'delete_blob', 'backup', 'FTP', 'get_files', 'get_files', 'transfer_file', 'transfer_file', 'rename', 'get_mtime', 'dag_infers', 'set_state', 'set_dag_run_state', 'set_dag_run', 'set_dag_run', 'set_dag_run', 'get_version', 'DiscordWebhookHook', 'validate_field', 'validate_body_to_validate', 'FileService', 'check_directory', 'check_file', 'get_files', 'create_directory', 'download_file', 'download_file:', 'upload_file', 'upload_string', 'upload_stream', '_init_handler', 'create_log_file', 'parse_gsurl', 'get_conn', 'copy_object', 'copy', 'get_file', 'upload_file', 'check_file_exists', 'check_blob_name', 'delete_object', 'list_objects', 'get_size', 'get_crc32c_checksum', 'get_md5_hash', 'create_bucket', 'create_acl', 'create_acl_entry', 'compose', 'minimize', 'is_secondary_status_message_changed', 'get_job_status', 'tar', 'create_s3_operations', 'check_s3_url', 'get_client', 'create_training_job', 'create_tuning_job', 'create_transform_job', 'create_endpoint', 'get_job_info', 'check_status', 'display_logs', 'run_python_dataflow', 'check_file_exists', 'run_migrations_offline', 'run_migrations', 'delete_bigtable', 'create_instance', 'create_table', 'The', 'update_cluster_nodes', 'create_cmd_list', 'HiveCliHook', 'run_hql', 'type_kind_hive_type', 'load_file', 'sasl_client\\n', 'check_partition', 'check_partition', 'get_table', 'get_table', 'get_partitions', 'get_max_partition_partition', 'get_max_value', 'table_exists', 'get_hive_connection', 'get_results', 'execute_hql', 'get_records', 'get_dataframe', 'ProductSearchClient', 'create_product_set', 'get_product_set_name', 'update_product_set', 'delete_product_set', 'create_product', 'get_product_path', 'update_product', 'delete_product', 'create_reference_image', 'delete_reference_image', 'add_product_to_product_set', 'annotate_image', 'cloud_vision_detect_image_safe_search', 'get_dingding_endpoint', 'build_message_type', 'send_dingding_message', 'streaming_log_endpoint', 'get_logs', 'bind_parameters', 'escape_parameters', 'cast_to_bq_type', 'check_type', 'BigQueryConnection', 'BigQuery', 'get_pandas_dataframe', 'table', 'create_empty_table', 'create_external_project_dataset_table', 'patch_table', 'execute_sql', 'execute_extract', 'execute_copy', 'execute_load', 'execute_query', 'cancel_jobs', 'get_schema', 'get_data', 'delete_dataset_table', 'create_table', 'grant_view_access', 'create_empty_dataset', 'delete_dataset', 'dataset_resource', 'get_datasets', 'stream_data', 'execute', 'execute_query', 'fetch_next_row', 'fetch_next_rows', 'fetch_all', 'get_asset_url', 'query', 'handle\\n', 'write_schema', 'convert_value', 'create_intermediate_directories', 'create_queue', 'send_message', 'integrate_plugins', 'run_task', 'rm_cfg', 'parse_options', 'add_serie', 'build_html', 'build_html', 'generate_header_content', 'self.generate_div', 'build_jschart', 'create_axis', 'create_axis', 'build_html', 'get_connection', 'log', 'gzip_response', 'dag_edit', 'get_last_dag_run', 'create_dag_run', 'send_message', 'page_is_current?', 'json_response', 'open', 'get_unique_key', 'get_conn', 'perform_video_annotation', 'get_api_key', 'HttpHook', 'create_alert', 'execute_bash_command', 'construct_opsgenie_json_payload', 'call_opsgenie_hook', 'get_session', 'run_query', 'fetch_query_execution', 'fetch_query_results', 'poll_query_state', 'get_conn', 'listdir', 'list_files', 'mkdir', 'transfer_file', 'transfer_file', 'rate_limit_exception_handler', 'call_zesk', 'get_partition_values', 'check_partition', 'AwsGlue', 'physical_location', 'get_cluster_status', 'delete_cluster', 'get_cluster_snapshots', 'restore_cluster', 'create_cluster_snapshot', 'SlackAPIOperator', 'add_volume', 'add_volume_mount', 'create_job_flow', 'filepath_test', 'filter_result', 'task_instance', 'join', 'be', 'create_pool', 'be', 'parse_dict', 'get_status', 'fetch_operation', 'append_labels', 'delete_cluster', 'create_cluster', 'get_cluster', 'get_webhook_endpoint', 'get_discord_payload', 'run_webhook', 'encrypt', 'Popen', 'import_table', 'import_query', 'export_table', 'get_client', 'synthesize_text', 'close_log_file', 'get_log', 'write_log', 'git_sync_init_container', '_get_env_vars', '_get_worker_secrets', 'security_context_from_config', 'kill', 'get_results', 'get_cmd_log', 'get_jobs', 'get_link_to_qubole_result_page', 'update_heartbeat', 'reset_tis', '', 'DagFileProcessor', 'stop', 'done', 'exit_process', 'find_slas', 'validate_dagbag', 'check_dag_schedule', 'schedule_dag', 'get_dag_runs', 'get_concurrency_map', 'find_dag_instances', 'change_state', 'enqueue_task_instances', 'simple_tis_with_state_changed', 'filter_for_ti_state_change', 'process_dagbag', 'handle_executor_events', 'main', 'process_dag', 'update_counters', 'check_running', 'get_dag_run', 'get_task_instances', 'run', 'compute_dag_runs', 'update_dag_runs', 'initialize_dag', 'self.task_runner_terminate', 'Client', 'get_instance_info', 'invoke_method', 'create_instance', 'update_instance', 'delete_instance', 'get_database', 'create_database', 'str\\n\\n\\ndef', 'drop_database', 'execute_dml', 'poking', 'create_additional_properties', 'get_session', 'check_table', 'check_exist', '_get_spark_submit_command', '_get_spark_command', '_build_spark_submit_command', 'process_log_files', 'parse_driver_status', 'poll_driver', 'build_spark_submit_command', 'get_task_runner', 'wait_for_waiter', 'query_mysql', 'schema_', 'csv_writer', 'write_schema', 'upload_file_splits', 'get_value', 'get_schema', '_get_fields', 'authenticate', 'sqoop_job', 'lineage', 'pre_pre_lineage', 'get_extra_property', 'date_range', 'round_time', 'key=lambda', '/', 'get_ago', 'getDagRuns', 'init_role', 'delete_role', 'get_roles', 'get_perms_views', 'get_dag_ids', 'check_permission', 'has_role', 'has_perm', '', 'add_permission', 'create_perm_view_menu', 'admin_permission_views', 'sync_user_roles', 'sync_perm', 'target_perms_', 'create_perm_vm', 'load_fernet', 'check_partition', 'get_hook', 'check_message', 'get_temp_path', 'HDFSClient', 'get_hdfs_connection', 'check_path', 'upload_file', 'connect', 'get_connection', 'execute_sql', 'execute_sql', 'truncate', 'make_slug', 'store_xcom', 'get_xcom_value', 'get_value', '_convert_date_to_format', '_convert_time_to_format', 'RedisConnection', 'oracle_connection', 'insert_set', 'bulk_insert', 'get_connection', 'execute_sql', 'execute_sql', 'execute', 'run_command', 'set_autocommit', 'insert_rows', 'serialize_cell', 'health_check', 'get_external_links', 'get_default_filters', 'get_count_query', 'open_cloudant_connection', 'SlackWebhookHook', 'get_credentials', 'get_auth_http', 'get_field', 'call', '_get_project_id', 'states', 'delete_dag', 'spark_sql', '=', 'make_layers', 'make_layers', 'AlexNet', 'Dense', '_is_image', 'to_piil_image', 'normalize', 'resize', 'used', 'crop', 'crop', 'flip', 'get_coefficients', 'perspective_transform', 'vertically_flip', 'crop', 'crop', 'adjust_brightness', 'adjust_contrast', 'adjust_saturation', 'hue_adjust', 'gamma_correction', 'rotate', 'affine_transform', 'grayscale', 'norm_ip', 'save_tensor', 'find_class_folders', 'get_patches', 'get_labels', 'get_matches', 'conv', 'topk', 'print', 'update_deque', 'SqueezeNet_v1_1', 'mkdir', 'download_file', 'list_directories', 'list_suffix', 'download_file', 'get_crop_params', 'get_perspective', 'crop', 'get_random_transform', 'get_params', 'inception_v3', 'download_file', 'model_name', 'download_mnist_data', 'download_emnist_data', 'request', 'get_theme_name', 'render_index_page', 'autocompleter', 'render_preferences_page', 'pre_request', 'post_response', 'get_available_themes', 'check_bang', 'get_json', 'stop_gradient', 'f', '_multivariate_normal_diag', 'log_prob', 'benchmark', 'replace_docstring', 'name_scope', 'RandomVariable', 'wrap_distribution', 'random_variable', 'shape_for_mode_mean', 'predictive_distribution', 'predictive_distribution_over_future_observations', '=', 'log_exp', 'assert_all_finite', '', 'compute_event_size', 'eval_all_one_hot', 'KLDiv', '_deserialize', 'get_config', 'create_distribution', 'MultivariateNormalTriL_params_size', 'create_distribution', 'MixtureSameFamily', 'params_size', 'create_distribution', 'get_config', 'IndependentLogistic', 'IndependentNormal_params_size', 'create_distribution', 'create_distribution', 'num_params', 'create_single_distribution', 'create_distribution', 'params_size', 'yield_top_most_interceptor', 'func', 'intercept', 'generate_synthetic_data', 'plot_w', 'build_dataset_iterator', 'validate_map_values', 'trace_fn', 'mcmc_', 'transition_operator', 'broadcast', 'transform', 'transition_operator', 'metropolis_hastings_step', 'leapfrog_trace_fn', 'control\\n', '_compute_output_shape', 'get_config', 'create_layer', 'get_config', 'convert_to_tensor', 'scale', 'add_normal_perturbation', 'add_uniform_perturbation', 'batch_kl_divergence', 'get_default_value', 'expand_rank', 'lower_bound', 'batchwise_probabilities', 'validate_args', 'import_tensorflow', 'logistic_regression', 'build_covtype', 'batch_kl_divergence', 'concentration', 'check_valid_sample', 'auto_correlation', 'chol_factor', 'sample_covariance', 'sample_correlation', 'estimate_standard_deviation', 'estimate_variance', 'get_preferred_values', 'rectify_axis', '', 'batch_kl_divergence', 'standardize', 'reconstruct', '=', 'build_transition_noise_model', 'HaltonSample', 'dtype=given_dtype),', 'sample_range']\n",
            "['get_vid_from_url', 'sina_xml_to_url_list', 'makeMimi', 'fc2video_download', 'dailymotion_download', 'dictify', 'ucas_download_single', 'ucas_download_playlist', 'sina_download_by_vid', 'sina_download_by_vkey', 'sina_download', 'yixia_download', 'veoh_download', 'veoh_download_by_id', 'download_by_id', 'get_vid_from_url', 'sprint', 'print_log', 'e', 'wtf', 'detect_os', 'miaopai_download_by_fid', 'vimeo_download_by_channel', 'vimeo_download_by_channel_id', 'vimeo_download_by_id', 'ckplayer_get_info_by_xml', 'tmp', 'get_vid_from_url', 'get_mgtv_real_url', 'get_head', 'legitimize', 'get_terminal_size', 'cbs_download', 'download', 'acfun_download_by_vid', 'main_dev', 'ffmpeg_download_stream', 'match1', 'matchall', 'parse_query_param', 'ungzip', 'undeflate', 'get_content', 'post_content', 'parse_host', 'print_more_compatible', 'showroom_get_roomid_by_room_url_key', 'showroom_download_by_room_id', '_wanmen_get_title_by_json_topic_part', 'wanmen_download_by_course', 'wanmen_download_by_course_topic_part', 'get_streams_by_id', 'has_task', 'get_event_buffer', '_get_conn_params', 'get_uri', 'get_conn', '_get_aws_credentials', '_get_field', 'copy_expert', 'bulk_load', 'bulk_dump', 'execute', 'max_partition', '_closest_date', 'closest_ds_partition', 'get_conn', 'bulk_load', 'is_bucket_updated', 'sigquit_handler', 'trigger_dag', 'delete_dag', 'task_failed_deps', 'task_state', 'dag_state', 'next_execution', 'e(batch_size)', 'get_conn', 'translate', 'pre_exec', 'get_instance', 'create_instance', 'patch_instance', 'delete_instance', 'get_database', 'create_database', 'patch_database', 'delete_database', 'export_instance', '_wait_for_operation_to_complete', 'start_proxy', 'stop_proxy', 'get_proxy_version', 'create_connection', 'retrieve_connection', 'delete_connection', 'get_sqlproxy_runner', 'get_database_hook', 'cleanup_database_hook', 'reserve_free_tcp_port', '_normalize_mlengine_job_id', '_get_error_code', '_integrate_plugins', 'clear_dag_runs', 'clear_dag_task_instances', 'set_dags_paused_state', 'print_stats', 'heartbeat', 'invoke_lambda', 'get_dag_run_state', 'apply_validate_fn', 'mkdirs', '_convert_to_float_if_possible', 'utcnow', 'utc_epoch', 'convert_to_utc', 'make_aware', 'make_naive', 'datetime', '_set_env_from_extras', '_get_field', 'get_conn', 'get_conn', 'run', 'check_response', 'run_and_check', 'run_with_advanced_retry', 'create_session', 'wrapper', 'resetdb', 'execute', 'get_conn', '_get_pretty_exception_message', 'get_records', 'get_pandas_df', 'run', 'insert_rows', 'get_conn', 'does_collection_exist', 'create_collection', 'does_database_exist', 'create_database', 'delete_database', 'delete_collection', 'upsert_document', 'insert_documents', 'delete_document', 'get_document', 'get_documents', 'get_code', 'get_function', 'create_new_function', 'update_function', 'upload_function_zip', 'delete_function', '_wait_for_operation_to_complete', 'publish', 'create_topic', 'delete_topic', 'create_subscription', 'delete_subscription', 'pull', 'acknowledge', 'get_dep_statuses', 'is_met', 'get_failure_reasons', '_parse_s3_config', 'get_credentials', 'expand_role', 'get_conn', 'set_context', 'write', 'flush', 'correct_maybe_zipped', 'list_py_file_paths', 'construct_task_instance', 'get_dag', 'start', 'harvest_simple_dags', '_heartbeat_manager', '_sync_metadata', 'terminate', 'end', '_exit_gracefully', 'start', 'start_in_async', 'start_in_sync', '_refresh_dag_dir', '_print_stat', 'clear_nonexistent_import_errors', '_log_file_processing_stats', 'get_pid', 'get_runtime', 'get_start_time', 'set_file_paths', 'wait_until_finished', 'heartbeat', '_find_zombies', 'max_runs_reached', 'end', 'get_conn', 'get_tunnel', 'create_transfer_job', 'get_transfer_job', 'list_transfer_job', 'update_transfer_job', 'delete_transfer_job', 'cancel_transfer_operation', 'get_transfer_operation', 'list_transfer_operations', 'pause_transfer_operation', 'resume_transfer_operation', 'wait_for_transfer_job', 'operations_contain_expected_statuses', 'find_for_task_instance', '_strip_unsafe_kubernetes_special_chars', '_make_safe_pod_id', '_make_safe_label_value', 'clear_not_launched_queued_tasks', 'open_slots', 'expand_env_var', 'run_command', 'parameterized_config', 'remove_option', 'getsection', 'as_dict', 'allocate_ids', 'begin_transaction', 'commit', 'lookup', 'rollback', 'run_query', 'get_operation', 'delete_operation', 'poll_operation_until_done', 'export_to_storage_bucket', 'import_from_storage_bucket', 'publish_to_target', 'get_hostname', 'get_conn', 'analyze_entities', 'annotate_text', 'classify_text', 'get_task', 'get_template_field', 'template_field_role', 'dispose_orm', 'prepare_classpath', '_check_task_id', 'detect_conf_var', 'alchemy_to_dict', 'chunks', 'reduce_in_chunks', 'chain', 'f', 'on_terminate', 'render_log_filename', 'get_task_instance', '_integrate_plugins', 'get_conn', 'wait', '_deep_string_coerce', '_handle_databricks_operator_execution', 'run_cli', 'fetch_celery_task_state', '_num_tasks_per_send_process', '_num_tasks_per_fetch_process', 'setdefault', 'get_conn', 'create_job', '_get_job', '_wait_for_job_done', 'create_version', 'set_default_version', 'list_versions', 'delete_version', 'create_model', 'get_model', 'execute_work', 'write_batch_data', '_integrate_plugins', 'get_default_executor', '_get_executor', 'on_error', 'run_pod', 'get_conn', 'execute', 'trigger_dag', 'delete_dag', 'dag_runs', 'get_dag_code', 'task_info', 'dag_paused', 'task_instance_info', 'dag_run_status', 'get_pools', 'create_pool', 'delete_pool', 'create_or_update', 'get_state_exitcode_details', 'get_messages', 'get_logs', 'delete', 'exists', 'wrapper', 'construct_ingest_query', 'execute', 'poke', 'refresh_from_db', 'find', 'get_task_instances', 'get_task_instance', 'get_previous_dagrun', 'get_previous_scheduled_dagrun', 'update_state', 'verify_integrity', 'get_run', 'jenkins_request_with_headers', 'build_job', 'poll_job_in_queue', 'context_to_airflow_vars', 'on_pre_execution', 'on_post_execution', 'conditionally_trigger', 'send_metric', 'query_metric', 'post_event', '_get_token', '_build_slack_message', 'execute', 'get_dag', 'process_file', 'kill_zombies', 'bag_dag', 'collect_dags', 'dagbag_report', 'execute', 'ds_add', 'ds_format', '_integrate_plugins', 'poke', 'poke', 'clear_task_instances', 'try_number', 'command', 'command_as_list', 'generate_command', 'current_state', 'error', 'refresh_from_db', 'clear_xcom_data', 'key', 'are_dependents_done', 'are_dependencies_met', 'next_retry_datetime', 'ready_for_retry', 'pool_full', 'get_dagrun', '_check_and_change_state_before_execution', 'signal_handler', 'xcom_push', 'xcom_pull', 'init_run_context', 'close', '_read', 'wasb_log_exists', 'wasb_read', 'wasb_write', 'get_conn', 'start_instance', 'set_machine_type', 'get_instance_template', 'insert_instance_template', 'get_instance_group_manager', 'patch_instance_group_manager', '_wait_for_operation_to_complete', 'check_for_bucket', 'create_bucket', 'check_for_prefix', 'list_prefixes', 'list_keys', 'check_for_key', 'get_key', 'read_key', 'select_key', 'check_for_wildcard_key', 'get_wildcard_key', 'load_file', 'load_string', 'load_bytes', 'load_file_obj', 'copy_object', 'delete_objects', '_query_cassandra', '_write_local_data_files', '_write_local_schema_file', 'convert_user_type', 'convert_tuple_type', 'convert_map_type', 'send_email', 'get_conn', 'recognize_speech', 'execute', 'set_context', '_read', 'read', '_init_file', 'load_entrypoint_plugins', 'is_valid_plugin', 'skip', 'get_conn', 'check_for_file', 'upload_file', 'download_file', 'list', 'execute', 'on_kill', 'uncompress_file', '_query_mssql', '_write_local_data_files', '_upload_to_gcs', 'convert_types', 'wrapper', '_build_metrics', '_evaluate_trigger_rule', '_create_cgroup', '_delete_cgroup', '_get_cgroup_names', '_parse_host', '_do_api_call', 'get_conn', 'make_query', 'describe_object', 'get_available_fields', 'get_object_from_salesforce', '_to_timestamp', 'write_object_to_file', '_read', 'gcs_read', 'gcs_write', 'parse_gcs_url', 'get_conn', 'get_collection', 'aggregate', 'find', 'insert_one', 'insert_many', 'update_one', 'replace_one', 'replace_many', 'delete_one', 'delete_many', 'has_mail_attachment', 'retrieve_mail_attachments', 'download_mail_attachments', 'get_attachments_by_name', 'get_file', 'put_records', '_get_dep_statuses', 'send_email', 'send_email_smtp', 'process_result_value', 'check_for_blob', 'check_for_prefix', 'load_file', 'load_string', 'get_file', 'read_file', 'delete_file', 'mlsd', 'get_conn', 'describe_directory', 'list_directory', 'retrieve_file', 'store_file', 'rename', 'get_mod_time', '_create_dagruns', 'set_state', '_set_dag_run_state', 'set_dag_run_state_to_success', 'set_dag_run_state_to_failed', 'set_dag_run_state_to_running', 'git_version', 'execute', '_validate_field', 'validate', 'get_conn', 'check_for_directory', 'check_for_file', 'list_directories_and_files', 'create_directory', 'get_file', 'get_file_to_stream', 'load_file', 'load_string', 'load_stream', 'set_context', '_init_file', '_parse_gcs_url', 'get_conn', 'copy', 'rewrite', 'download', 'upload', 'exists', 'is_updated_after', 'delete', 'list', 'get_size', 'get_crc32c', 'get_md5hash', 'create_bucket', 'insert_bucket_acl', 'insert_object_acl', 'compose', 'argmin', 'secondary_training_status_changed', 'secondary_training_status_message', 'tar_and_s3_upload', 'configure_s3_resources', 'check_s3_url', 'get_log_conn', 'create_training_job', 'create_tuning_job', 'create_transform_job', 'create_endpoint', 'describe_training_job_with_log', 'check_status', 'check_training_status_with_log', 'execute', 'google_cloud_to_local', 'run_migrations_offline', 'run_migrations_online', 'delete_instance', 'create_instance', 'create_table', 'delete_table', 'update_cluster', '_prepare_cli_cmd', '_prepare_hiveconf', 'run_cli', '_infer_field_types_from_df', 'load_file', 'sasl_factory', 'check_for_partition', 'check_for_named_partition', 'get_table', 'get_tables', 'get_partitions', '_get_max_partition_from_part_specs', 'max_partition', 'table_exists', 'get_conn', 'get_results', 'to_csv', 'get_records', 'get_pandas_df', 'get_conn', 'create_product_set', 'get_product_set', 'update_product_set', 'delete_product_set', 'create_product', 'get_product', 'update_product', 'delete_product', 'create_reference_image', 'delete_reference_image', 'add_product_to_product_set', 'annotate_image', 'safe_search_detection', '_get_endpoint', '_build_message', 'send', '_read', 'es_read', '_bind_parameters', '_escape', '_bq_cast', '_validate_value', 'get_conn', 'get_service', 'get_pandas_df', 'table_exists', 'create_empty_table', 'create_external_table', 'patch_table', 'run_query', 'run_extract', 'run_copy', 'run_load', 'run_with_configuration', 'cancel_query', 'get_schema', 'get_tabledata', 'run_table_delete', 'run_table_upsert', 'run_grant_dataset_view_access', 'create_empty_dataset', 'delete_dataset', 'get_dataset', 'get_datasets_list', 'insert_all', 'execute', 'executemany', 'next', 'fetchmany', 'fetchall', 'get_url_for_asset', '_query_postgres', '_create_new_file', '_write_local_schema_file', 'convert_types', '_make_intermediate_dirs', 'create_queue', 'send_message', '_integrate_plugins', 'run_command', 'on_finish', '_main', 'add_serie', 'buildcontent', 'buildhtml', 'buildhtmlheader', 'buildcontainer', 'buildjschart', 'create_x_axis', 'create_y_axis', 'buildcontent', 'get_conn', 'wrapper', 'zipper', 'wrapper', 'get_last_dagrun', 'create_dagrun', 'execute', 'is_current', 'json_response', 'open_maybe_zipped', 'make_cache_key', 'get_conn', 'annotate_video', '_get_api_key', 'get_conn', 'execute', 'poke', '_build_opsgenie_payload', 'execute', 'get_conn', 'run_query', 'check_query_status', 'get_query_results', 'poll_query_status', 'get_conn', 'describe_directory', 'list_directory', 'create_directory', 'retrieve_file', 'store_file', '__handle_rate_limit_exception', 'call', 'get_partitions', 'check_for_partition', 'get_table', 'get_table_location', 'cluster_status', 'delete_cluster', 'describe_cluster_snapshots', 'restore_from_cluster_snapshot', 'create_cluster_snapshot', 'execute', 'add_volume', 'add_mount', 'create_job_flow', 'filter_for_filesize', 'filter_for_ignored_ext', 'execute', '_stringify', 'get_pool', 'create_pool', 'delete_pool', '_dict_to_proto', 'wait_for_operation', 'get_operation', '_append_label', 'delete_cluster', 'create_cluster', 'get_cluster', '_get_webhook_endpoint', '_build_discord_payload', 'execute', 'encrypt', 'Popen', 'import_table', 'import_query', 'export_table', 'get_conn', 'synthesize_speech', 'close', 's3_read', 's3_write', '_get_init_containers', '_get_environment', '_get_secrets', '_get_security_context', 'kill', 'get_results', 'get_log', 'get_jobs_id', 'get_extra_links', 'heartbeat', 'query', 'helper', 'start', 'terminate', 'done', '_exit_gracefully', 'manage_slas', 'update_import_errors', 'create_dag_run', '_process_task_instances', '_change_state_for_tis_without_dagrun', '__get_concurrency_maps', '_find_executable_task_instances', '_change_state_for_executable_task_instances', '_enqueue_task_instances_with_queued_state', 'query', '_change_state_for_tasks_failed_to_execute', '_process_dags', '_process_executor_events', '_execute_helper', 'process_file', '_update_counters', '_manage_executor_state', '_get_dag_run', '_task_instances_for_dag_run', '_per_task_process', '_execute_for_run_dates', '_set_unfinished_dag_runs_to_failed', '_execute', 'heartbeat_callback', '_get_client', 'get_instance', '_apply_to_instance', 'create_instance', 'update_instance', 'delete_instance', 'get_database', 'create_database', 'update_database', 'delete_database', 'execute_dml', 'poke', 'prepare_additional_parameters', 'get_conn', 'table_exists', 'record_exists', '_build_spark_submit_command', '_build_track_driver_status_command', 'submit', '_process_spark_submit_log', '_process_spark_status_log', '_start_driver_status_tracking', '_build_spark_driver_kill_command', 'get_task_runner', '_wait_for_task_ended', '_query_mysql', '_write_local_data_files', '_configure_csv_file', '_write_local_schema_file', '_upload_to_gcs', '_convert_types', '_get_col_type_dict', 'type_map', 'authenticate', 'execute', 'wrapper', 'wrapper', 'extra_dejson', 'date_range', 'round_time', 'infer_time_unit', 'scale_time_units', 'days_ago', 'get_dag_runs', 'init_role', 'delete_role', 'get_user_roles', 'get_all_permissions_views', 'get_accessible_dag_ids', 'has_access', '_has_role', '_has_perm', 'clean_perms', '_merge_perm', 'merge_pv', 'update_admin_perm_view', 'sync_roles', 'sync_perm_for_dag', '_revoke_stale_permissions', 'create_perm_vm_for_all_dag', 'get_fernet', 'poke', 'get_hook', 'poke', 'tmp_configuration_copy', 'get_conn', 'get_conn', 'check_for_path', 'load_file', 'get_conn', 'get_uri', 'get_records', 'get_first', 'smart_truncate', 'slugify', 'set', 'get_one', 'get_many', '_convert_date_to_dict', '_convert_time_to_dict', 'get_conn', 'get_conn', 'insert_rows', 'bulk_insert_rows', 'get_conn', 'get_pandas_df', 'get_records', 'get_first', 'run', 'set_autocommit', 'insert_rows', '_serialize_cell', 'health', 'extra_links', 'get_query', 'get_count_query', 'get_conn', 'execute', '_get_credentials', '_authorize', '_get_field', 'wrapper_decorator', 'inner_wrapper', 'unfinished', 'delete_dag', '_prepare_command', 'run_query', 'vgg11_bn', 'vgg13', 'alexnet', 'densenet121', 'to_tensor', 'to_pil_image', 'normalize', 'resize', 'pad', 'crop', 'resized_crop', 'hflip', '_get_perspective_coeffs', 'perspective', 'vflip', 'five_crop', 'ten_crop', 'adjust_brightness', 'adjust_contrast', 'adjust_saturation', 'adjust_hue', 'adjust_gamma', 'rotate', 'affine', 'to_grayscale', 'norm_range', 'save_image', '_find_classes', 'find_files', 'read_info_file', 'read_matches_files', 'conv1x1', 'accuracy', 'print', 'synchronize_between_processes', 'squeezenet1_1', 'makedir_exist_ok', 'download_url', 'list_dir', 'list_files', 'download_file_from_google_drive', 'get_params', 'get_params', 'get_params', 'get_params', 'get_params', 'inception_v3', 'download', 'googlenet', 'download', 'download', 'request', 'get_current_theme_name', 'index', 'autocompleter', 'preferences', 'request', 'response', 'get_themes', 'searx_bang', 'response', 'maybe_stop', 'value_and_gradient', 'mvn', 'eight_schools_joint_log_prob', 'computation', '_fn_wrapped', '_simple_name', '_build_custom_rv', 'as_random_variable', 'func', '_mode_mean_shape', 'one_step_predictive', 'forecast', '_max_mask_non_finite', '_reduce_logsumexp', 'assert_finite', 'assert_rank_at_most', '_event_size', '_eval_all_one_hot', '_fn', '_get_convert_to_tensor_fn', 'get_config', 'new', 'params_size', 'new', 'new', 'params_size', 'new', 'get_config', 'new', 'params_size', 'new', 'new', 'params_size', 'params_size', 'new', 'params_size', 'get_next_interceptor', 'func_wrapped', 'record', 'toy_logistic_data', 'plot_weights', 'build_input_pipeline', '_maybe_check_valid_map_values', 'trace_fn_wrapper', 'call_fn', 'call_and_grads', 'maybe_broadcast_structure', 'wrapper', 'leapfrog_step', 'metropolis_hastings_step', 'leapfrog_trace_wrapper_fn', '_get_new_control', 'compute_output_shape', 'get_config', 'from_config', 'get_config', '_as_tensor', '_create_scale_operator', '_fn', '_fn', '_kl_independent', '_get_default_reinterpreted_batch_ndims', '_expand_to_event_rank', 'entropy_lower_bound', '_cat_probs', 'validate_equal_last_dim', '_ensure_tf_install', 'logistic_regression', 'covertype', '_kl_dirichlet_dirichlet', '_maybe_assert_valid_concentration', '_maybe_assert_valid_sample', 'auto_correlation', 'cholesky_covariance', 'covariance', 'correlation', 'stddev', 'variance', '_make_list_or_1d_tensor', '_make_positive_axis', '_squeeze', '_kl_normal_normal', '_z', '_inv_z', 'semilocal_linear_trend_transition_matrix', 'semilocal_linear_trend_transition_noise', 'sample_halton_sequence', '_randomize', 'generate_one']\n",
            "\n",
            "********************************************************************************\n",
            "Evaluation results:\n",
            "{'exact_match': 0.202,\n",
            " 'rouge1': 0.48710714285714307,\n",
            " 'rouge2': 0.25636904761904755,\n",
            " 'rougeL': 0.4831253968253967,\n",
            " 'rougeLsum': 0.4830440476190472}\n",
            "********************************************************************************\n",
            "\n",
            "WORST EXAMPLE:\n",
            "{'prediction': 'or', 'reference': 'get_vid_from_url', 'score': 2.0}\n"
          ]
        },
        {
          "output_type": "execute_result",
          "data": {
            "text/plain": [
              "315"
            ]
          },
          "metadata": {},
          "execution_count": 78
        }
      ]
    },
    {
      "cell_type": "markdown",
      "source": [
        "## Java metrics"
      ],
      "metadata": {
        "id": "vsYwfkEIiU_a"
      },
      "id": "vsYwfkEIiU_a"
    },
    {
      "cell_type": "markdown",
      "source": [
        "### Download java dataset"
      ],
      "metadata": {
        "id": "Axch0U_CifFQ"
      },
      "id": "Axch0U_CifFQ"
    },
    {
      "cell_type": "code",
      "source": [
        "dataset_java_original = datasets.load_dataset(\n",
        "        'code_search_net',\n",
        "        'java',\n",
        "        split='test',\n",
        "        trust_remote_code=True\n",
        "    )\n",
        "dataset_java_original"
      ],
      "metadata": {
        "colab": {
          "base_uri": "https://localhost:8080/"
        },
        "id": "f8KGi1IgieOv",
        "outputId": "7c7d8ae0-a099-42ca-c846-350821076c1b"
      },
      "id": "f8KGi1IgieOv",
      "execution_count": 79,
      "outputs": [
        {
          "output_type": "execute_result",
          "data": {
            "text/plain": [
              "Dataset({\n",
              "    features: ['repository_name', 'func_path_in_repository', 'func_name', 'whole_func_string', 'language', 'func_code_string', 'func_code_tokens', 'func_documentation_string', 'func_documentation_tokens', 'split_name', 'func_code_url'],\n",
              "    num_rows: 26909\n",
              "})"
            ]
          },
          "metadata": {},
          "execution_count": 79
        }
      ]
    },
    {
      "cell_type": "markdown",
      "source": [
        "### Check dataset"
      ],
      "metadata": {
        "id": "05PRiGTKioIx"
      },
      "id": "05PRiGTKioIx"
    },
    {
      "cell_type": "code",
      "source": [
        "dataset_java_original[0]"
      ],
      "metadata": {
        "colab": {
          "base_uri": "https://localhost:8080/"
        },
        "collapsed": true,
        "id": "Z9l2aZ6kiuIq",
        "outputId": "03e2f628-9028-4a4a-803c-7d42e947e323"
      },
      "id": "Z9l2aZ6kiuIq",
      "execution_count": 80,
      "outputs": [
        {
          "output_type": "execute_result",
          "data": {
            "text/plain": [
              "{'repository_name': 'ReactiveX/RxJava',\n",
              " 'func_path_in_repository': 'src/main/java/io/reactivex/internal/observers/QueueDrainObserver.java',\n",
              " 'func_name': 'QueueDrainObserver.fastPathOrderedEmit',\n",
              " 'whole_func_string': 'protected final void fastPathOrderedEmit(U value, boolean delayError, Disposable disposable) {\\n        final Observer<? super V> observer = downstream;\\n        final SimplePlainQueue<U> q = queue;\\n\\n        if (wip.get() == 0 && wip.compareAndSet(0, 1)) {\\n            if (q.isEmpty()) {\\n                accept(observer, value);\\n                if (leave(-1) == 0) {\\n                    return;\\n                }\\n            } else {\\n                q.offer(value);\\n            }\\n        } else {\\n            q.offer(value);\\n            if (!enter()) {\\n                return;\\n            }\\n        }\\n        QueueDrainHelper.drainLoop(q, observer, delayError, disposable, this);\\n    }',\n",
              " 'language': 'java',\n",
              " 'func_code_string': 'protected final void fastPathOrderedEmit(U value, boolean delayError, Disposable disposable) {\\n        final Observer<? super V> observer = downstream;\\n        final SimplePlainQueue<U> q = queue;\\n\\n        if (wip.get() == 0 && wip.compareAndSet(0, 1)) {\\n            if (q.isEmpty()) {\\n                accept(observer, value);\\n                if (leave(-1) == 0) {\\n                    return;\\n                }\\n            } else {\\n                q.offer(value);\\n            }\\n        } else {\\n            q.offer(value);\\n            if (!enter()) {\\n                return;\\n            }\\n        }\\n        QueueDrainHelper.drainLoop(q, observer, delayError, disposable, this);\\n    }',\n",
              " 'func_code_tokens': ['protected',\n",
              "  'final',\n",
              "  'void',\n",
              "  'fastPathOrderedEmit',\n",
              "  '(',\n",
              "  'U',\n",
              "  'value',\n",
              "  ',',\n",
              "  'boolean',\n",
              "  'delayError',\n",
              "  ',',\n",
              "  'Disposable',\n",
              "  'disposable',\n",
              "  ')',\n",
              "  '{',\n",
              "  'final',\n",
              "  'Observer',\n",
              "  '<',\n",
              "  '?',\n",
              "  'super',\n",
              "  'V',\n",
              "  '>',\n",
              "  'observer',\n",
              "  '=',\n",
              "  'downstream',\n",
              "  ';',\n",
              "  'final',\n",
              "  'SimplePlainQueue',\n",
              "  '<',\n",
              "  'U',\n",
              "  '>',\n",
              "  'q',\n",
              "  '=',\n",
              "  'queue',\n",
              "  ';',\n",
              "  'if',\n",
              "  '(',\n",
              "  'wip',\n",
              "  '.',\n",
              "  'get',\n",
              "  '(',\n",
              "  ')',\n",
              "  '==',\n",
              "  '0',\n",
              "  '&&',\n",
              "  'wip',\n",
              "  '.',\n",
              "  'compareAndSet',\n",
              "  '(',\n",
              "  '0',\n",
              "  ',',\n",
              "  '1',\n",
              "  ')',\n",
              "  ')',\n",
              "  '{',\n",
              "  'if',\n",
              "  '(',\n",
              "  'q',\n",
              "  '.',\n",
              "  'isEmpty',\n",
              "  '(',\n",
              "  ')',\n",
              "  ')',\n",
              "  '{',\n",
              "  'accept',\n",
              "  '(',\n",
              "  'observer',\n",
              "  ',',\n",
              "  'value',\n",
              "  ')',\n",
              "  ';',\n",
              "  'if',\n",
              "  '(',\n",
              "  'leave',\n",
              "  '(',\n",
              "  '-',\n",
              "  '1',\n",
              "  ')',\n",
              "  '==',\n",
              "  '0',\n",
              "  ')',\n",
              "  '{',\n",
              "  'return',\n",
              "  ';',\n",
              "  '}',\n",
              "  '}',\n",
              "  'else',\n",
              "  '{',\n",
              "  'q',\n",
              "  '.',\n",
              "  'offer',\n",
              "  '(',\n",
              "  'value',\n",
              "  ')',\n",
              "  ';',\n",
              "  '}',\n",
              "  '}',\n",
              "  'else',\n",
              "  '{',\n",
              "  'q',\n",
              "  '.',\n",
              "  'offer',\n",
              "  '(',\n",
              "  'value',\n",
              "  ')',\n",
              "  ';',\n",
              "  'if',\n",
              "  '(',\n",
              "  '!',\n",
              "  'enter',\n",
              "  '(',\n",
              "  ')',\n",
              "  ')',\n",
              "  '{',\n",
              "  'return',\n",
              "  ';',\n",
              "  '}',\n",
              "  '}',\n",
              "  'QueueDrainHelper',\n",
              "  '.',\n",
              "  'drainLoop',\n",
              "  '(',\n",
              "  'q',\n",
              "  ',',\n",
              "  'observer',\n",
              "  ',',\n",
              "  'delayError',\n",
              "  ',',\n",
              "  'disposable',\n",
              "  ',',\n",
              "  'this',\n",
              "  ')',\n",
              "  ';',\n",
              "  '}'],\n",
              " 'func_documentation_string': 'Makes sure the fast-path emits in order.\\n@param value the value to emit or queue up\\n@param delayError if true, errors are delayed until the source has terminated\\n@param disposable the resource to dispose if the drain terminates',\n",
              " 'func_documentation_tokens': ['Makes',\n",
              "  'sure',\n",
              "  'the',\n",
              "  'fast',\n",
              "  '-',\n",
              "  'path',\n",
              "  'emits',\n",
              "  'in',\n",
              "  'order',\n",
              "  '.'],\n",
              " 'split_name': 'test',\n",
              " 'func_code_url': 'https://github.com/ReactiveX/RxJava/blob/ac84182aa2bd866b53e01c8e3fe99683b882c60e/src/main/java/io/reactivex/internal/observers/QueueDrainObserver.java#L88-L108'}"
            ]
          },
          "metadata": {},
          "execution_count": 80
        }
      ]
    },
    {
      "cell_type": "code",
      "source": [
        "print(dataset_java_original[214][\"whole_func_string\"])"
      ],
      "metadata": {
        "colab": {
          "base_uri": "https://localhost:8080/"
        },
        "id": "fQrKJJBNivhm",
        "outputId": "c4c388bf-062f-40cf-c40a-9146edecd460"
      },
      "id": "fQrKJJBNivhm",
      "execution_count": 81,
      "outputs": [
        {
          "output_type": "stream",
          "name": "stdout",
          "text": [
            "@CheckReturnValue\n",
            "    @SchedulerSupport(SchedulerSupport.CUSTOM)\n",
            "    public final Observable<T> skipLast(long time, TimeUnit unit, Scheduler scheduler, boolean delayError, int bufferSize) {\n",
            "        ObjectHelper.requireNonNull(unit, \"unit is null\");\n",
            "        ObjectHelper.requireNonNull(scheduler, \"scheduler is null\");\n",
            "        ObjectHelper.verifyPositive(bufferSize, \"bufferSize\");\n",
            "        // the internal buffer holds pairs of (timestamp, value) so double the default buffer size\n",
            "        int s = bufferSize << 1;\n",
            "        return RxJavaPlugins.onAssembly(new ObservableSkipLastTimed<T>(this, time, unit, scheduler, s, delayError));\n",
            "    }\n"
          ]
        }
      ]
    },
    {
      "cell_type": "markdown",
      "source": [
        "### Crop java dataset"
      ],
      "metadata": {
        "id": "gfdQgsuzrCRG"
      },
      "id": "gfdQgsuzrCRG"
    },
    {
      "cell_type": "code",
      "source": [
        "dataset_java_crop = dataset_java_original.select(range(1000))"
      ],
      "metadata": {
        "id": "iAzbd4aIrDJp"
      },
      "id": "iAzbd4aIrDJp",
      "execution_count": 82,
      "outputs": []
    },
    {
      "cell_type": "markdown",
      "source": [
        "### Prepare java dataset"
      ],
      "metadata": {
        "id": "QQlzPy3wrHtG"
      },
      "id": "QQlzPy3wrHtG"
    },
    {
      "cell_type": "code",
      "source": [
        "import tree_sitter_java as tsjava\n",
        "from tree_sitter import Language, Parser\n",
        "\n",
        "def prettyfy_function_java(x):\n",
        "  return f\"public final void <extra_id_0> {x}\"\n",
        "\n",
        "JAVA_LANGUAGE = Language(tsjava.language())\n",
        "parser = Parser(JAVA_LANGUAGE)\n",
        "def parse_function_java(code):\n",
        "  ast = parser.parse(bytes(code, \"utf-8\"))\n",
        "  query = JAVA_LANGUAGE.query(\"\"\"\n",
        "      (block_comment) @block_comment\n",
        "      (line_comment) @line_comment\n",
        "      (method_declaration\n",
        "        (block) @function\n",
        "      )\n",
        "      (method_declaration\n",
        "        (identifier) @name\n",
        "      )\n",
        "  \"\"\")\n",
        "  captures = query.captures(ast.root_node)\n",
        "\n",
        "  func_name = ''\n",
        "  func_body = ''\n",
        "  func_body_without_comment = []\n",
        "  comments = []\n",
        "\n",
        "  for node, capture_name in captures:\n",
        "      if capture_name == \"name\":\n",
        "          func_name = code[node.start_byte:node.end_byte]\n",
        "      elif capture_name == \"function\":\n",
        "          func_body = code[node.start_byte:node.end_byte]\n",
        "      elif capture_name == \"line_comment\":\n",
        "          comments.append(code[node.start_byte:node.end_byte])\n",
        "      elif capture_name == \"block_comment\":\n",
        "          comments.append(code[node.start_byte:node.end_byte])\n",
        "\n",
        "  func_body_without_comment = func_body\n",
        "  for comment in comments:\n",
        "      func_body_without_comment = func_body_without_comment.replace(comment, \"\")\n",
        "\n",
        "  return (func_name, func_body, func_body_without_comment)\n",
        "\n",
        "dataset_java = prepare(dataset_java_crop[\"whole_func_string\"], prettyfy_function_java, parse_function_java)\n",
        "dataset_java"
      ],
      "metadata": {
        "colab": {
          "base_uri": "https://localhost:8080/"
        },
        "collapsed": true,
        "id": "0hUIOVeerJU1",
        "outputId": "e5857469-cd9e-47f4-e12b-be15f8d52ba6"
      },
      "id": "0hUIOVeerJU1",
      "execution_count": 83,
      "outputs": [
        {
          "output_type": "stream",
          "name": "stderr",
          "text": [
            "/usr/local/lib/python3.10/dist-packages/datasets/table.py:720: UserWarning: The DataFrame has column names of mixed type. They will be converted to strings and not roundtrip correctly.\n",
            "  return cls(pa.Table.from_pandas(*args, **kwargs))\n"
          ]
        },
        {
          "output_type": "execute_result",
          "data": {
            "text/plain": [
              "Dataset({\n",
              "    features: ['0', 'func_name', 'func_body', 'func_body_without_comment'],\n",
              "    num_rows: 1000\n",
              "})"
            ]
          },
          "metadata": {},
          "execution_count": 83
        }
      ]
    },
    {
      "cell_type": "markdown",
      "source": [
        "#### Funcion in Java name"
      ],
      "metadata": {
        "id": "5AlTaaUG0Hx4"
      },
      "id": "5AlTaaUG0Hx4"
    },
    {
      "cell_type": "code",
      "source": [
        "print(dataset_java['func_name'][214])"
      ],
      "metadata": {
        "colab": {
          "base_uri": "https://localhost:8080/"
        },
        "id": "gvvjIWtU0AGt",
        "outputId": "de8a0678-75d4-496e-952f-d45c6d38f14b"
      },
      "id": "gvvjIWtU0AGt",
      "execution_count": 84,
      "outputs": [
        {
          "output_type": "stream",
          "name": "stdout",
          "text": [
            "skipLast\n"
          ]
        }
      ]
    },
    {
      "cell_type": "markdown",
      "source": [
        "#### Funcion in Java with comments and docstring"
      ],
      "metadata": {
        "id": "MpAhBZe8uFXC"
      },
      "id": "MpAhBZe8uFXC"
    },
    {
      "cell_type": "code",
      "source": [
        "print(dataset_java['func_body'][214])"
      ],
      "metadata": {
        "colab": {
          "base_uri": "https://localhost:8080/"
        },
        "id": "8w2PZzOguLE9",
        "outputId": "c51f768b-1645-46a5-a0d5-f416b96a57c9"
      },
      "id": "8w2PZzOguLE9",
      "execution_count": 85,
      "outputs": [
        {
          "output_type": "stream",
          "name": "stdout",
          "text": [
            "public final void <extra_id_0> {\n",
            "        ObjectHelper.requireNonNull(unit, \"unit is null\");\n",
            "        ObjectHelper.requireNonNull(scheduler, \"scheduler is null\");\n",
            "        ObjectHelper.verifyPositive(bufferSize, \"bufferSize\");\n",
            "        // the internal buffer holds pairs of (timestamp, value) so double the default buffer size\n",
            "        int s = bufferSize << 1;\n",
            "        return RxJavaPlugins.onAssembly(new ObservableSkipLastTimed<T>(this, time, unit, scheduler, s, delayError));\n",
            "    }\n"
          ]
        }
      ]
    },
    {
      "cell_type": "markdown",
      "source": [
        "#### Funcion in Java WITHOUT comments and docstring"
      ],
      "metadata": {
        "id": "hnbIptEwzS9E"
      },
      "id": "hnbIptEwzS9E"
    },
    {
      "cell_type": "code",
      "source": [
        "print(dataset_java['func_body_without_comment'][214])"
      ],
      "metadata": {
        "colab": {
          "base_uri": "https://localhost:8080/"
        },
        "id": "flg01i4EzSzd",
        "outputId": "9bf5390d-6414-40fa-d18f-11b9688763f7"
      },
      "id": "flg01i4EzSzd",
      "execution_count": 86,
      "outputs": [
        {
          "output_type": "stream",
          "name": "stdout",
          "text": [
            "public final void <extra_id_0> {\n",
            "        ObjectHelper.requireNonNull(unit, \"unit is null\");\n",
            "        ObjectHelper.requireNonNull(scheduler, \"scheduler is null\");\n",
            "        ObjectHelper.verifyPositive(bufferSize, \"bufferSize\");\n",
            "        \n",
            "        int s = bufferSize << 1;\n",
            "        return RxJavaPlugins.onAssembly(new ObservableSkipLastTimed<T>(this, time, unit, scheduler, s, delayError));\n",
            "    }\n"
          ]
        }
      ]
    },
    {
      "cell_type": "markdown",
      "source": [
        "### Predict java function name"
      ],
      "metadata": {
        "id": "sCoS64p33U26"
      },
      "id": "sCoS64p33U26"
    },
    {
      "cell_type": "markdown",
      "source": [
        "#### Predict java function name WITHOUT comment"
      ],
      "metadata": {
        "id": "NrRwuE6N3ZzK"
      },
      "id": "NrRwuE6N3ZzK"
    },
    {
      "cell_type": "code",
      "execution_count": 87,
      "metadata": {
        "colab": {
          "base_uri": "https://localhost:8080/"
        },
        "outputId": "42b7ec6e-72eb-4ca1-8011-a7b587f15e86",
        "id": "Cckyhl_h3U26"
      },
      "outputs": [
        {
          "output_type": "stream",
          "name": "stdout",
          "text": [
            "public final void <extra_id_0> {\n",
            "        final Observer<? super V> observer = downstream;\n",
            "        final SimplePlainQueue<U> q = queue;\n",
            "\n",
            "        if (wip.get() == 0 && wip.compareAndSet(0, 1)) {\n",
            "            if (q.isEmpty()) {\n",
            "                accept(observer, value);\n",
            "                if (leave(-1) == 0) {\n",
            "                    return;\n",
            "                }\n",
            "            } else {\n",
            "                q.offer(value);\n",
            "            }\n",
            "        } else {\n",
            "            q.offer(value);\n",
            "            if (!enter()) {\n",
            "                return;\n",
            "            }\n",
            "        }\n",
            "        QueueDrainHelper.drainLoop(q, observer, delayError, disposable, this);\n",
            "    }\n",
            "X: 431\n",
            "\n",
            "['accept', 'ObservableAmb<T>', 'wrap', 'concatMapDelayError', 'concatMap', 'concat<T>', 'concatDelayError', 'concatArray', 'concatMapEagerDelayError', 'concatMapEagerDelayError', 'concatDelayError', 'concat', 'concatMapEager', 'concatMapEagerDelayError', 'ObservableEmpty<T>', 'onError', 'flatMap', 'ObservableFromIterable<T>', 'subscribe', 'generate', 'generate', 'ObservableInterval<T>', 'interval', 'interval', 'intervalRange', '*', 'subscribe', 'flatMap', 'flatMap', 'flatMap', 'flatMap', 'flatMap', 'ObservableNever<T>', 'just', 'just', 'sequenceEqual', 'test', 'sequenceEqual', 'switchMap', 'switchMap', 'subscribe', 'using', 'disposer));\\n', 'subscribe', 'zip', 'zipIterable', 'zip', 'allSingle', 'ambArray', 'anySingle', 'get', 'blockingIterable', 'BlockingObservableIterable<T>', 'blockingGet', 'blockingObservableMostRecent', 'blockingGet', 'blockingGet', 'subscribeWith', 'subscribe', 'subscribe', 'subscribe', 'subscribe', 'buffer', 'buffer', 'U>', 'buffer', 'buffer', 'ObservableBufferTimed<T,', 'buffer', 'buffer<T>', 'ObservableBufferTimedTest', 'buffer<T>', 'ObservableBufferBoundary<T,', 'buffer', 'buffer', 'ObservableBufferExactBoundary<T,', 'buffer<T>', 'cache', 'collectSingle', 'collect', 'R>', 'concatMap', 'call', 'concatMapDelayError', 'concatMap', 'ObservableConcatMapEager<T,', 'ObservableConcatMapEager<T,', 'concatMapCompletable', 'ObservableConcatMapCompletable<T>', 'concatMapCompletableDelayError', 'flatMap', 'U>', 'flatMap', 'concatMapMaybe', 'ObservableConcatMapMaybe<T,', 'concatMapMaybeDelayError', 'ObservableConcatMapMaybe<T,', 'concatMap', 'ObservableConcatMapSingle<T,', 'map', 'ObservableConcatMapSingle<T,', 'concat', 'concatWithSingle', 'concat', 'concatWithCompletable', 'equalsWith', 'U>', 'debounce', 'debounceTimed', 'switchIfEmpty', 'itemDelay', 'delay', 'delay', 'delay', 'subscribe', 'delaySubscription', 'main', 'R>', 'distinct', 'distinct', 'ObservableDistinct<T,', 'distinctUntilChanged', 'K>', 'ObservableDistinctUntilChanged<T>', 'doAfterNext', 'doOnEach', 'doFinally', 'dispose', 'doOnEach', 'onAfterTerminate', 'onNotification', 'doOnEach', 'doOnEach', 'doOnLifecycle', 'doOnEach', 'subscribe', 'onTerminate', '<T>', 'add', '<T>', 'filter', 'elementAt', 'flatMap', 'execute', 'R>', 'flatMap', 'flatMapCompletable', 'flatMap', 'flatMapMaybe', 'flatMapMaybe', 'flatMapSingle', 'flatMapSingle', 'forEachWhile', 'groupBy', 'groupBy', 'valueSelector,', 'hide', 'ObservableIgnoreElementsCompletable<T>', 'all', 'onSubscribe', 'subscribe', 'lastSingle', 'onAssembly', 'R>', 'materialize', 'merge', 'mergeWithSingle', 'mergeWithMaybe', 'mergeWithCompletable', 'observeOn', 'observeOn', 'resume', 'resumeNext', 'subscribe', 'onNext', 'detach', 'R>', 'reduce', 'R>', 'R>', 'repeat', 'repeat', 'repeatUntil', 'repeatWhen', 'replay', 'replay', 'replay', 'ObservableReplay.create', 'replay', 'replay', 'replay', 'replay', 'retry', 'retryBiPredicate', 'retry', 'retry', 'retry', 'retryWhen', 'sample', 'sampleTimed', 'sample', 'scan', 'scan', 'scanSeed', 'ObservableSerialized<T>', 'subscribe', 'subscribe', 'subscribe', 'skip', 'skipUntil', 'skipUntil', 'com.github.mikephil.rxjava2.functions;\\n\\nimport', 'skipLast', 'skipLast', 'ObservableSkipLastTimed<T>', 'U>', 'skipWhile', 'toList', 'sort', 'concat', 'concat', 'concat', 'concatArray<T>', 'subscribe', 'subscribe', 'onNext', 'subscribeOn', 'switchIfEmpty', 'execute', 'switchMap', 'switchMap', 'R>', 'R>', 'R>', 'R>', 'switchMapDelayError', 'take', 'takeUntil', 'takeUntil', 'return', 'run', 'takeUntil', 'takeWhile', 'throttleFirst', 'throttleFirstTimed', 'sample', 'sample', 'debounce', 'debounce', 'timeInterval', 'timeInterval', 'timeout0', 'timeout', 'timeout', 'timeout', 'timeout', 'timeout', 'timestamp', 'timestampWith', 'ObservableToListSingle<T,', 'U>', 'MapSupplier<K,', 'subscribe', 'toSortedList', 'subscribeOn', 'window', 'ObservableWindow<T>', 'window', 'null\");\\n', 'window', 'window', 'ObservableWindowTimed<T>', 'window', 'window', 'windowBoundarySelector', 'B>', 'zip', 'zip', 'subscribe', 'subscribe', 'refCount', 'refCount', 'subscribeRefCount', 'connect<T>', 'run', 'from', 'from', 'parallelFrom<T>', 'converter', 'R>', 'parallelMapTry', 'filter', 'parallelFilterTry', 'runOn', 'parallelRunOn', 'reduce', 'parallelReduce', 'sequential', 'parallelJoin', 'sequentialDelayError', 'parallelJoin', 'sorted', 'toSortedList', 'reduce', 'onNext', 'doOnNextTry', 'onAfterNext', 'onSubscribe', 'call', 'onAfterTerminate', 'subscribe', 'onRequest', 'onCancel', 'parallelCollect', 'subscribe', 'setConverter', 'composer', 'flatMap', 'parallelFlatMap', 'concatMap', 'parallelConcatMap', 'map', 'parallelConcatMap', 'replay', 'replay', 'create', 'replay', 'create', 'replay', '', 'cancel', 'cancel', 'unicastProcessor<T>', 'createUnicastProcessor<T>', 'unicast', 'call', 'U>', 'run', 'run', 'apply', 'dispose', 'subscribe', 'run', '', 'init', '', 'initSingleHandler', 'onComputationHandler', 'onError', 'onIoHandler', 'onNewThreadHandler', 'schedule', 'onSingleHandler', 'init', 'onComputationHandler', 'initComputation', 'init', 'initNewThread', 'init', 'lockdown', 'lockdown', 'onSchedule', 'lockdown', 'lockdown', 'lockdown', 'lockdown', 'lockdown', 'lockdown', 'lockdown', 'lockdown', 'lockdown', 'lockdown', 'lockdown', 'lockdown', 'lockdown', 'subscribe', 'subscribe', 'subscribe', 'subscribe', 'subscribe', 'maybeAssembly', 'onFlowableAssembly', 'onConnectableFlowableAssembly', 'Observable.onObservableAssembly', 'onConnectableObservableAssembly', 'apply', 'onCompletableAssembly', 'onParallelAssembly', 'parallelAssembly', 'beforeBlocking', 'computeScheduler', 'apply', 'apply', 'call', 'apply', 'MaybeAmb<T>', 'maybeAmb<T>', 'concat', 'MaybeToFlowable<T>', 'concatMapEager', 'concatMapEager', 'subscribe', 'maybeDefer', 'Maybe<T>', 'onError', 'errorSupplier', 'MaybeFromCompletable<T>', 'MaybeFromSingle<T>', 'maybeFromCallable', 'maybeFromFuture', 'MaybeFromFuture<T>', 'maybeFromRunnable', 'maybeJust', 'merge', 'MaybeToPublisher<T>[]', 'flatMap', 'Maybe<T>', 'sequenceEqual', 'isEqual));\\n', 'timer', 'MaybeTimer', 'MaybeUnsafeCreate<T>', 'using', 'MaybeUsing<T,', 'subscribe', 'maybeZipIterable', '', 'ambArray', 'blockingGet', 'blockingGet', 'maybeCache<T>', 'R>', 'R>', 'concat', 'maybeContains', 'maybeCount', 'delay', 'MaybeDelay<T>', 'MaybeDelaySubscriptionOtherPublisher<T,', 'delay', 'MaybePeek<T>', 'doOnEvent', 'MaybeDoOnTerminate<T>', 'MaybeFlatMapBiSelector<T,', 'U>', 'MaybeHide<T>', 'maybeIgnoreElementCompletable', 'MaybeIsEmptySingle<T>', 'R>', 'R>', 'filter', 'convert', 'FuseToObservable<T>', 'maybeToSingle', 'onError', 'resumeNext', 'resume', 'flatMap', 'maybeDetach', 'repeatUntil', 'repeatWhen', 'retry', 'retry', 'retry', 'retryWhen', 'subscribe', 'subscribe', 'switchIfEmpty', 'switchIfEmptySingle', 'takeUntilMaybe', 'timeout', 'timeout', 'U>', 'U>', 'subscribeOn', 'publish', 'subscribe', 'set', 'equals', 'onError', 'run', 'onError', 'run', 'identity', 'JustValue<T>', 'JustValue<T,', 'castToClass', 'printStackTrace', 'main', 'unicastSubject<T>', 'unicastSubject<T>', 'unicastSubject<T>', 'unicastSubject<T>', 'onNext', 'on', 'onError', 'dispose', 'requestFusion', 'await', 'await', 'await', 'createReplayProcessor', 'replay', 'ReplayProcessor<T>', 'ReplayProcessor<T>', 'subscribe', 'cancel', 'requestFusion', 'BehaviorSubject<T>', 'get', 'getValues', 'toArray', 'isComplete', 'main', 'queue', 'prefetch', 'run', 'doWork', 'drain', 'replaySubject<T>', 'replay', 'replaySubject<T>', 'onDrop', 'toArray', 'toArray', 'error', 'error', 'notify', 'error', 'dispose', 'com.github.jean.jean.util;\\n\\nimport', 'cancel', 'com.github.jean.jean.util;\\n\\nimport', 'run', 'subscribe', 'consume', 'add', 'main', 'addCap', 'run', 'main', 'subscribe', 'subscribe', 'subscribe', 'run', 'concat', 'concat', 'CompletableConcat', 'create', 'error', 'run', 'run', 'future', 'maybeIgnoreElementCompletable', 'run', 'fromSingle', 'merge', 'merge', 'merge', 'merge', 'merge', 'merge', 'CompletableNever', 'timer', 'test', 'using', 'CompletableFromUnsafeSource', 'ambArray', 'doOnNext', 'subscribe', 'doOnNext', 'delay', 'run', 'converter', 'testBlockingMultiObserver', 'wrap', 'andThenCompletable', 'delay', 'delay', 'delay', 'timer', 'doOnLifecycle', 'dispose', 'onError', 'subscribe', 'subscribe', 'onTerminate', 'onAfterTerminate', 'observeOn', 'when', 'resume', 'repeat', 'repeatUntil', 'when', 'retry', 'retry', 'retry', 'retryWhen', 'concatWith', 'emptyCompletableObserver', 'subscribe', 'subscribe', 'takeUntilCompletable', 'timeout', 'timeout', 'timeout', 'timeout', 'setConverter', 'FuseToFlowable<T>', 'MaybeFromCompletable<T>', 'doNothing', 'MaybeSource<T>', 'add', 'clear', 'createScheduledThreadPool', 's)', 'forEachWhile', 'subscribe', 'throwThrowable', 'throwIfError', 'main', 'throwIf', 'run', 'run', 'consume', 'just', 'dispose', '', 'dispose', 'dispose', 'dispose', 'dispose', 'BlockingSubscriber<T>', 'subscribe', 'subscribe', 'subscribe', 'add', 'doNothing', 'map', 'MaybeToObservableObserver<T>', 'interruptibleWorker', 'shutdown', 'put', 'test', 'push', 'push', 'test', 'subscribe', 'wrap', 'main', 'singleSupplier', 'onError', 'subscribe', 'toSingle', 'toSingle', 'toSingle', 'flatMap', 'publish', 'SingleNever<T>', 'singleTimer', 'subscribe', 'using', 'converter', 'singleHide', 'R>', 'onAssembly<T>', 'concat', 'delay', 'delay', 'delay', 'flatMap', 'delaySubscription', 'delay', 'R>', 'doAfterSuccess', 'onAfterTerminate', 'doFinally', 'subscribe', 'onTerminate', 'doOnSuccess', 'onError', 'onDispose', 'R>', 'R>', 'R>', 'R>', 'R>', 'materialize', 'contains', 'merge', 'subscribe', 'resume', 'onAttach', 'repeat', 'retry', 'retry', 'retry', 'retryWhen', 'success', 'subscribe', 'subscribe', 'subscribeOn', 'takeUntil', 'timeout', 'timeout', 'subscribe', 'subscribeWith<T>', 'subscribeOn', 'zip', 'MulticastProcessor<T><T>', 'createMulticastProcessor<T>', 'queue', 'queue', 'offer', 'buffer);\\n', 'consumeBuffer', '+', 'getDisposable', 'publish', 'fused', 'com.github.jean.jean.utils;\\n\\nimport', 'onComplete', 'prefetch', 'concat<T>', 'prefetch));\\n', 'concatMapEagerDelayError', 'concatDelayError', 'concatMapDelayError', 'create', 'FlowableEmpty<T>', 'onError', 'flatMap', 'generate', 'run', 'interval', 'interval', 'intervalRange', '*', 'flatMap', 'flatMap', 'from', 'flatMap', 'FlowableNever<T>', 'count', 'just', 'sequenceEqual', 'test', 'sequenceEqual', 'switchMap', 'switchMapDelayError', 'timer', 'FlowableFromPublisher<T>', 'using', 'zip', 'zip', 'converter', 'blockingFirstSubscriber', 'blockingIterable', 'BlockingFlowableIterable<T>', 'blockingGet', 'blockingFlowableMostRecent', 'next', 'blockingGet', 'blockingGet', 'subscribeWith', 'subscribe', 'subscribe', 'subscribe', 'buffer', 'buffer', 'U>', 'buffer', 'buffer', 'U>', 'buffer', 'buffer<T>', 'FlowableBufferTimedTest', 'buffer<T>', 'doBufferBoundary', 'buffer', 'buffer<T>', 'FlowableBufferExactBoundary<T,', 'cacheWithInitialCapacity', 'FlowableCache<T>', 'collectSingle', 'R>', 'concatMapCompletable', 'tilTheEnd', 'flatMap', 'concatMapDelayError', 'R>', 'concatMapIterable', 'concatMapMaybe', 'R>', 'concatMapSingleDelayError', 'concatWithSingle', 'concat', 'concatWithCompletable', 'equalsWith', 'countSingle', 'U>', 'debounceTimed', 'delay', 'delay', 'delaySubscription', 'main', 'R>', 'distinct', 'distinct', 'K>', 'distinctUntilChanged', 'K>', 'distinctUntilChanged', 'doFinally', 'doAfterNext', 'onAfterTerminate', 'cancel', 'doOnEach', 'onAfterTerminate', 'onNotification', 'subscribe', 'doOnEach', 'doOnEach', 'onRequest', 'subscribe', 'onTerminate', '<T>', 'at', 'filter', 'elementAt', 'defaultItem', 'at', 'execute', 'map', 'flatMap', 'flatMapCompletable', 'flatMap', 'flatMapMaybe', 'flatMapSingle', 'flatMapSingle', 'subscribe', 'forEachWhile', 'forEachWhile', 'forEachWhile', 'groupBy', 'groupBy', 'valueSelector,', 'hide', 'ignoreElementsCompletable', 'all', 'onAssembly', 'onNext', 'limit', 'materialize', 'merge', 'mergeWithSingle', 'mergeWithMaybe', 'observeOn', 'onBackpressureBuffer', 'onBackpressureBuffer', 'onBackpressureDrop', 'onDrop', 'resume', 'detach', 'from', 'parallel', 'publish', 'publish', 'bufferSize', 'n', 'reduce', 'R>', 'R>', 'repeat', 'repeat', 'run', 'replay', 'replay', 'replay', 'replay', 'replay', 'replay', 'retry', 'retry', 'retry', 'subscribe', 'sample', 'sampleTimed', 'publish', 'R>', 'onAssembly<T>', 'publish', 'subscribe', 'onAssembly', 'skip', 'skipUntil', 'skipUntil', 'com.github.mikephil.rxjava2.functions;\\n\\nimport', 'skipLast', 'skipLast', 'skipWhile', 'toList', 'sort', 'concat', 'concatArray<T>', 'subscribe', 'subscribe', 'subscribe', 'subscribe', 'subscribeOn', 'switchIfEmpty', 'switchMap', 'switchMapDelayError', 'take', 'takeUntil', 'takeUntil', 'return', 'takeLast', 'run', 'takeLast', 'takeUntil', 'U>', 'takeWhile', 'throttleFirst', 'sample', 'sample', 'debounce', 'timeInterval', 'timeInterval', 'timeout0', 'timeout', 'timeout', 'timeout0', 'timestamp', 'setConverter', 'FlowableToListSingle<T,', 'FlowableToListSingle<T>', 'U>', 'collect', 'subscribe', 'toSortedList', 'subscribeOn', 'window', 'FlowableWindow<T>', 'window', 'window', 'window', 'window', 'windowBoundarySelector', 'window', 'B>', 'flatMap', 'zip', 'com.example.android.sunshine.app;\\n\\nimport', 'spConsumerNode', 'schedule', 'await', 'subscribe', 'BehaviorProcessor<T>', 'onNext', 'subscribe', 'blockOnScheduler', 'refCount', 'refCount', 'refCount', 'refCount', 'refCount', 'connect<T>', 'request', 'dispose', 'dispose', 'subscribe', 'publishDisposable', 'n;', 'MulticastFlowable<R,', 'connect', 'create', 'replayBuffer', 'create', 'replayBuffer', 'replay', 'createConverterFactory', 'create', 'factory', 'resolve', 'DeferredCall', 'invoke', 'nextCall', 'call', 'nextRequestBodyConverter', 'count;', 'nextResponseBodyConverter', 'skipPast', 'registerConverter', 'factory', 'registerGsonConverterFactory', 'create', 'registerJacksonConverterFactory', 'requestFactory', 'NetworkBehavior']\n",
            "['fastPathOrderedEmit', 'amb', 'ambArray', 'concat', 'concat', 'concatArray', 'concatArrayDelayError', 'concatArrayEager', 'concatArrayEager', 'concatArrayEagerDelayError', 'concatDelayError', 'concatDelayError', 'concatEager', 'concatEager', 'empty', 'error', 'fromArray', 'fromIterable', 'fromPublisher', 'generate', 'generate', 'interval', 'interval', 'interval', 'intervalRange', 'intervalRange', 'just', 'merge', 'mergeArray', 'merge', 'mergeArray', 'mergeDelayError', 'never', 'range', 'rangeLong', 'sequenceEqual', 'sequenceEqual', 'sequenceEqual', 'switchOnNext', 'switchOnNextDelayError', 'unsafeCreate', 'using', 'using', 'wrap', 'zip', 'zip', 'zipArray', 'all', 'ambWith', 'any', 'blockingFirst', 'blockingForEach', 'blockingIterable', 'blockingLast', 'blockingMostRecent', 'blockingSingle', 'blockingSingle', 'toFuture', 'blockingSubscribe', 'blockingSubscribe', 'blockingSubscribe', 'blockingSubscribe', 'buffer', 'buffer', 'buffer', 'buffer', 'buffer', 'buffer', 'buffer', 'buffer', 'buffer', 'buffer', 'buffer', 'buffer', 'buffer', 'buffer', 'buffer', 'cacheWithInitialCapacity', 'collect', 'collectInto', 'compose', 'concatMap', 'concatMap', 'concatMapDelayError', 'concatMapEager', 'concatMapEager', 'concatMapEagerDelayError', 'concatMapCompletable', 'concatMapCompletable', 'concatMapCompletableDelayError', 'concatMapCompletableDelayError', 'concatMapIterable', 'concatMapIterable', 'concatMapMaybe', 'concatMapMaybe', 'concatMapMaybeDelayError', 'concatMapMaybeDelayError', 'concatMapSingle', 'concatMapSingle', 'concatMapSingleDelayError', 'concatMapSingleDelayError', 'concatWith', 'concatWith', 'concatWith', 'concatWith', 'contains', 'debounce', 'debounce', 'debounce', 'defaultIfEmpty', 'delay', 'delay', 'delay', 'delay', 'delaySubscription', 'delaySubscription', 'dematerialize', 'dematerialize', 'distinct', 'distinct', 'distinct', 'distinctUntilChanged', 'distinctUntilChanged', 'distinctUntilChanged', 'doAfterNext', 'doAfterTerminate', 'doFinally', 'doOnDispose', 'doOnComplete', 'doOnEach', 'doOnEach', 'doOnEach', 'doOnError', 'doOnLifecycle', 'doOnNext', 'doOnSubscribe', 'doOnTerminate', 'elementAt', 'elementAt', 'elementAtOrError', 'filter', 'first', 'flatMap', 'flatMap', 'flatMap', 'flatMap', 'flatMapCompletable', 'flatMapIterable', 'flatMapMaybe', 'flatMapMaybe', 'flatMapSingle', 'flatMapSingle', 'forEachWhile', 'groupBy', 'groupBy', 'groupBy', 'hide', 'ignoreElements', 'isEmpty', 'join', 'lastElement', 'last', 'lastOrError', 'map', 'materialize', 'mergeWith', 'mergeWith', 'mergeWith', 'mergeWith', 'observeOn', 'observeOn', 'onErrorResumeNext', 'onErrorResumeNext', 'onErrorReturn', 'onExceptionResumeNext', 'onTerminateDetach', 'publish', 'reduce', 'reduce', 'reduceWith', 'repeat', 'repeat', 'repeatUntil', 'repeatWhen', 'replay', 'replay', 'replay', 'replay', 'replay', 'replay', 'replay', 'replay', 'retry', 'retry', 'retry', 'retry', 'retry', 'retryWhen', 'sample', 'sample', 'sample', 'scan', 'scan', 'scanWith', 'serialize', 'singleElement', 'single', 'singleOrError', 'skip', 'skip', 'skip', 'skipLast', 'skipLast', 'skipLast', 'skipLast', 'skipUntil', 'skipWhile', 'sorted', 'sorted', 'startWith', 'startWith', 'startWith', 'startWithArray', 'subscribe', 'subscribe', 'subscribe', 'subscribeOn', 'switchIfEmpty', 'switchMap', 'switchMapCompletable', 'switchMapCompletableDelayError', 'switchMapMaybe', 'switchMapMaybeDelayError', 'switchMapSingle', 'switchMapSingleDelayError', 'switchMapDelayError', 'take', 'take', 'take', 'takeLast', 'takeLast', 'takeUntil', 'takeWhile', 'throttleFirst', 'throttleFirst', 'throttleLast', 'throttleLast', 'throttleWithTimeout', 'throttleWithTimeout', 'timeInterval', 'timeInterval', 'timeout', 'timeout', 'timeout', 'timeout', 'timeout', 'timeout', 'timestamp', 'timestamp', 'toList', 'toList', 'toMultimap', 'toFlowable', 'toSortedList', 'unsubscribeOn', 'window', 'window', 'window', 'window', 'window', 'window', 'window', 'window', 'window', 'window', 'window', 'zipWith', 'zipWith', 'subscribeActual', 'refCount', 'refCount', 'refCount', 'refCount', 'autoConnect', 'validate', 'from', 'from', 'from', 'as', 'map', 'map', 'filter', 'filter', 'runOn', 'runOn', 'reduce', 'reduce', 'sequential', 'sequential', 'sequentialDelayError', 'sequentialDelayError', 'sorted', 'toSortedList', 'toSortedList', 'doOnNext', 'doOnNext', 'doAfterNext', 'doOnError', 'doOnComplete', 'doAfterTerminated', 'doOnSubscribe', 'doOnRequest', 'doOnCancel', 'collect', 'fromArray', 'to', 'compose', 'flatMap', 'flatMap', 'concatMap', 'concatMap', 'concatMapDelayError', 'concatMapDelayError', 'multicastSelector', 'observeOn', 'createFrom', 'create', 'create', 'create', 'create', 'setResource', 'replaceResource', 'create', 'create', 'create', 'tryScalarXMapSubscribe', 'scalarXMap', 'fromRunnable', 'fromAction', 'fromFuture', 'fromFuture', 'fromSubscription', 'blockingGet', 'initComputationScheduler', 'initIoScheduler', 'initNewThreadScheduler', 'initSingleScheduler', 'onComputationScheduler', 'onError', 'onIoScheduler', 'onNewThreadScheduler', 'onSchedule', 'onSingleScheduler', 'reset', 'setComputationSchedulerHandler', 'setInitComputationSchedulerHandler', 'setInitIoSchedulerHandler', 'setInitNewThreadSchedulerHandler', 'setInitSingleSchedulerHandler', 'setIoSchedulerHandler', 'setNewThreadSchedulerHandler', 'setScheduleHandler', 'setSingleSchedulerHandler', 'setOnCompletableAssembly', 'setOnCompletableSubscribe', 'setOnFlowableAssembly', 'setOnMaybeAssembly', 'setOnConnectableFlowableAssembly', 'setOnFlowableSubscribe', 'setOnMaybeSubscribe', 'setOnObservableAssembly', 'setOnConnectableObservableAssembly', 'setOnObservableSubscribe', 'setOnSingleAssembly', 'setOnSingleSubscribe', 'onSubscribe', 'onSubscribe', 'onSubscribe', 'onSubscribe', 'onSubscribe', 'onAssembly', 'onAssembly', 'onAssembly', 'onAssembly', 'onAssembly', 'onAssembly', 'onAssembly', 'setOnParallelAssembly', 'onAssembly', 'onBeforeBlocking', 'createComputationScheduler', 'apply', 'apply', 'callRequireNonNull', 'applyRequireNonNull', 'amb', 'ambArray', 'concat', 'concatArrayDelayError', 'concatArrayEager', 'concatEager', 'create', 'defer', 'empty', 'error', 'error', 'fromCompletable', 'fromSingle', 'fromCallable', 'fromFuture', 'fromFuture', 'fromRunnable', 'just', 'merge', 'mergeArrayDelayError', 'mergeDelayError', 'never', 'sequenceEqual', 'sequenceEqual', 'timer', 'timer', 'unsafeCreate', 'using', 'using', 'wrap', 'zip', 'zipArray', 'ambWith', 'blockingGet', 'blockingGet', 'cache', 'compose', 'concatMap', 'concatWith', 'contains', 'count', 'delay', 'delay', 'delaySubscription', 'delaySubscription', 'doOnError', 'doOnEvent', 'doOnTerminate', 'flatMap', 'flattenAsFlowable', 'hide', 'ignoreElement', 'isEmpty', 'lift', 'map', 'ofType', 'to', 'toObservable', 'toSingle', 'onErrorComplete', 'onErrorResumeNext', 'onErrorResumeNext', 'onErrorReturn', 'onTerminateDetach', 'repeatUntil', 'repeatWhen', 'retry', 'retry', 'retry', 'retryWhen', 'subscribe', 'subscribe', 'switchIfEmpty', 'switchIfEmpty', 'takeUntil', 'timeout', 'timeout', 'timeout', 'timeout', 'unsubscribeOn', 'create', 'create', 'requireNonNull', 'equalsPredicate', 'onError', 'onComplete', 'onError', 'onComplete', 'identity', 'justCallable', 'justFunction', 'castFunction', 'printStackTrace', 'getRootCause', 'create', 'create', 'create', 'create', 'offer', 'onSubscribe', 'onError', 'fail', 'transitiveBoundaryFusion', 'blockingGetError', 'blockingGetError', 'blockingAwait', 'create', 'createWithSize', 'createUnbounded', 'createWithTime', 'onSubscribe', 'fail', 'transitiveBoundaryFusion', 'createDefault', 'getValue', 'getValues', 'getValues', 'hasValue', 'drainMaxLoop', 'createQueue', 'request', 'postCompleteRequest', 'postCompleteDrain', 'postComplete', 'create', 'createWithSize', 'createUnbounded', 'complete', 'getValues', 'getValues', 'getValue', 'getError', 'createOnNext', 'createOnError', 'validate', 'setOnce', 'validate', 'setOnce', 'add', 'remove', 'replay', 'addCap', 'multiplyCap', 'add', 'addCancel', 'produced', 'subscribe', 'subscribe', 'subscribe', 'concatArray', 'concat', 'concat', 'concat', 'create', 'error', 'fromAction', 'fromCallable', 'fromFuture', 'fromMaybe', 'fromRunnable', 'fromSingle', 'mergeArray', 'merge', 'merge', 'merge', 'mergeDelayError', 'mergeDelayError', 'never', 'timer', 'toNpe', 'using', 'wrap', 'ambWith', 'andThen', 'andThen', 'andThen', 'andThen', 'andThen', 'as', 'blockingAwait', 'compose', 'concatWith', 'delay', 'delay', 'delaySubscription', 'delaySubscription', 'doOnComplete', 'doOnDispose', 'doOnError', 'doOnLifecycle', 'doOnSubscribe', 'doOnTerminate', 'doAfterTerminate', 'observeOn', 'onErrorComplete', 'onErrorResumeNext', 'repeat', 'repeatUntil', 'repeatWhen', 'retry', 'retry', 'retry', 'retryWhen', 'startWith', 'subscribe', 'subscribeWith', 'subscribeOn', 'takeUntil', 'timeout', 'timeout', 'timeout', 'timeout', 'to', 'toFlowable', 'toMaybe', 'tryAsCompletable', 'tryAsMaybe', 'add', 'shutdown', 'create', 'setSubscription', 'emitLoop', 'subscribeActual', 'throwIfFatal', 'wrapOrThrow', 'flatten', 'throwIfThrowable', 'add', 'remove', 'replay', 'apply', 'add', 'addAll', 'remove', 'delete', 'clear', 'size', 'subscribe', 'subscribe', 'subscribe', 'subscribe', 'add', 'tryScalarXMapSubscribe', 'scalarXMap', 'create', 'from', 'shutdown', 'add', 'forEachWhile', 'accept', 'accept', 'forEachWhile', 'amb', 'ambArray', 'concatArray', 'defer', 'error', 'fromCallable', 'fromFuture', 'fromFuture', 'fromFuture', 'merge', 'mergeDelayError', 'never', 'timer', 'unsafeCreate', 'using', 'as', 'hide', 'compose', 'cache', 'concatWith', 'delay', 'delay', 'delay', 'delaySubscription', 'delaySubscription', 'delaySubscription', 'dematerialize', 'doAfterSuccess', 'doAfterTerminate', 'doFinally', 'doOnSubscribe', 'doOnTerminate', 'doOnSuccess', 'doOnError', 'doOnDispose', 'flatMap', 'flatMapMaybe', 'flatMapObservable', 'lift', 'map', 'materialize', 'contains', 'mergeWith', 'observeOn', 'onErrorReturn', 'onTerminateDetach', 'repeat', 'retry', 'retry', 'retry', 'retryWhen', 'subscribe', 'subscribe', 'subscribeWith', 'subscribeOn', 'takeUntil', 'timeout', 'timeout', 'toCompletable', 'toFuture', 'unsubscribeOn', 'zipWith', 'create', 'create', 'start', 'startUnbounded', 'offer', 'offer', 'poll', 'offer', 'get', 'create', 'complete', 'error', 'complete', 'concat', 'concatArray', 'concatArrayEager', 'concatArrayEagerDelayError', 'concatDelayError', 'concatDelayError', 'create', 'empty', 'error', 'fromIterable', 'generate', 'interval', 'interval', 'interval', 'intervalRange', 'intervalRange', 'just', 'mergeArray', 'merge', 'mergeDelayError', 'never', 'range', 'rangeLong', 'sequenceEqual', 'sequenceEqual', 'sequenceEqual', 'switchOnNext', 'switchOnNextDelayError', 'timer', 'unsafeCreate', 'using', 'zip', 'zip', 'as', 'blockingFirst', 'blockingIterable', 'blockingIterable', 'blockingLast', 'blockingMostRecent', 'blockingNext', 'blockingSingle', 'blockingSingle', 'toFuture', 'blockingSubscribe', 'blockingSubscribe', 'blockingSubscribe', 'buffer', 'buffer', 'buffer', 'buffer', 'buffer', 'buffer', 'buffer', 'buffer', 'buffer', 'buffer', 'buffer', 'buffer', 'buffer', 'buffer', 'cache', 'cacheWithInitialCapacity', 'collect', 'compose', 'concatMapCompletable', 'concatMapCompletableDelayError', 'concatMapCompletableDelayError', 'concatMapDelayError', 'concatMapEager', 'concatMapIterable', 'concatMapMaybe', 'concatMapSingle', 'concatMapSingleDelayError', 'concatWith', 'concatWith', 'concatWith', 'contains', 'count', 'debounce', 'debounce', 'delay', 'delay', 'delay', 'dematerialize', 'dematerialize', 'distinct', 'distinct', 'distinct', 'distinctUntilChanged', 'distinctUntilChanged', 'distinctUntilChanged', 'doFinally', 'doAfterNext', 'doAfterTerminate', 'doOnCancel', 'doOnComplete', 'doOnEach', 'doOnEach', 'doOnEach', 'doOnError', 'doOnNext', 'doOnRequest', 'doOnSubscribe', 'doOnTerminate', 'elementAt', 'elementAtOrError', 'filter', 'firstElement', 'first', 'firstOrError', 'flatMap', 'flatMap', 'flatMap', 'flatMapCompletable', 'flatMapCompletable', 'flatMapMaybe', 'flatMapSingle', 'flatMapSingle', 'forEach', 'forEachWhile', 'forEachWhile', 'forEachWhile', 'groupBy', 'groupBy', 'groupBy', 'hide', 'ignoreElements', 'isEmpty', 'lastElement', 'lastOrError', 'limit', 'materialize', 'mergeWith', 'mergeWith', 'mergeWith', 'observeOn', 'onBackpressureBuffer', 'onBackpressureBuffer', 'onBackpressureDrop', 'onBackpressureDrop', 'onErrorResumeNext', 'onTerminateDetach', 'parallel', 'parallel', 'publish', 'publish', 'publish', 'rebatchRequests', 'reduce', 'reduce', 'reduceWith', 'repeat', 'repeat', 'replay', 'replay', 'replay', 'replay', 'replay', 'replay', 'replay', 'retry', 'retry', 'retry', 'safeSubscribe', 'sample', 'sample', 'sample', 'scanWith', 'serialize', 'share', 'singleElement', 'singleOrError', 'skip', 'skip', 'skip', 'skipLast', 'skipLast', 'skipLast', 'skipWhile', 'sorted', 'sorted', 'startWith', 'startWithArray', 'subscribe', 'subscribe', 'subscribe', 'subscribeWith', 'subscribeOn', 'switchIfEmpty', 'switchMapCompletable', 'switchMapDelayError', 'take', 'take', 'take', 'takeLast', 'takeLast', 'takeLast', 'takeLast', 'takeUntil', 'takeUntil', 'takeWhile', 'throttleFirst', 'throttleLast', 'throttleLast', 'throttleWithTimeout', 'timeInterval', 'timeInterval', 'timeout', 'timeout', 'timeout', 'timeout', 'timestamp', 'to', 'toList', 'toList', 'toList', 'toMultimap', 'toObservable', 'toSortedList', 'unsubscribeOn', 'window', 'window', 'window', 'window', 'window', 'window', 'window', 'window', 'window', 'zipWith', 'zipWith', 'offer', 'poll', 'scheduleActual', 'await', 'complete', 'createDefault', 'offer', 'subscribeActual', 'verifyNonBlocking', 'refCount', 'refCount', 'refCount', 'refCount', 'refCount', 'autoConnect', 'request', 'setResource', 'replaceResource', 'blockingGet', 'add', 'remove', 'multicastSelector', 'observeOn', 'createFrom', 'create', 'create', 'create', 'create', 'create', 'createWithScheduler', 'createNonStrict', 'getGenericSupertype', 'defer', 'invoke', 'callAdapter', 'nextCallAdapter', 'requestBodyConverter', 'nextRequestBodyConverter', 'responseBodyConverter', 'nextResponseBodyConverter', 'stringConverter', 'create', 'create', 'createWithScheduler', 'create', 'parseAnnotations', 'create']\n",
            "\n",
            "********************************************************************************\n",
            "Evaluation results:\n",
            "{'exact_match': 0.298,\n",
            " 'rouge1': 0.3016666666666667,\n",
            " 'rouge2': 0.0,\n",
            " 'rougeL': 0.3023333333333333,\n",
            " 'rougeLsum': 0.3016666666666667}\n",
            "********************************************************************************\n",
            "\n",
            "WORST EXAMPLE:\n",
            "{'prediction': 'accept', 'reference': 'fastPathOrderedEmit', 'score': 2.0}\n"
          ]
        },
        {
          "output_type": "execute_result",
          "data": {
            "text/plain": [
              "431"
            ]
          },
          "metadata": {},
          "execution_count": 87
        }
      ],
      "source": [
        "predict(dataset_java[\"func_body_without_comment\"], dataset_java[\"func_name\"])\n"
      ],
      "id": "Cckyhl_h3U26"
    },
    {
      "cell_type": "markdown",
      "source": [
        "#### Predict java function name with comment"
      ],
      "metadata": {
        "id": "k5nHbbF53cjk"
      },
      "id": "k5nHbbF53cjk"
    },
    {
      "cell_type": "code",
      "source": [
        "predict(dataset_java[\"func_body\"], dataset_java[\"func_name\"])\n"
      ],
      "metadata": {
        "colab": {
          "base_uri": "https://localhost:8080/"
        },
        "outputId": "469459f8-d428-4086-ee06-37a0577a6e70",
        "id": "feL1vPVp3U26"
      },
      "execution_count": 88,
      "outputs": [
        {
          "output_type": "stream",
          "name": "stdout",
          "text": [
            "public final void <extra_id_0> {\n",
            "        final Observer<? super V> observer = downstream;\n",
            "        final SimplePlainQueue<U> q = queue;\n",
            "\n",
            "        if (wip.get() == 0 && wip.compareAndSet(0, 1)) {\n",
            "            if (q.isEmpty()) {\n",
            "                accept(observer, value);\n",
            "                if (leave(-1) == 0) {\n",
            "                    return;\n",
            "                }\n",
            "            } else {\n",
            "                q.offer(value);\n",
            "            }\n",
            "        } else {\n",
            "            q.offer(value);\n",
            "            if (!enter()) {\n",
            "                return;\n",
            "            }\n",
            "        }\n",
            "        QueueDrainHelper.drainLoop(q, observer, delayError, disposable, this);\n",
            "    }\n",
            "X: 432\n",
            "\n",
            "['accept', 'ObservableAmb<T>', 'wrap', 'concatMapDelayError', 'concatMap', 'concat<T>', 'concatDelayError', 'concatArray', 'concatMapEagerDelayError', 'concatMapEagerDelayError', 'concatDelayError', 'concat', 'concatMapEager', 'concatMapEagerDelayError', 'ObservableEmpty<T>', 'onError', 'flatMap', 'ObservableFromIterable<T>', 'subscribe', 'generate', 'generate', 'ObservableInterval<T>', 'interval', 'interval', 'intervalRange', '*', 'subscribe', 'flatMap', 'flatMap', 'flatMap', 'flatMap', 'flatMap', 'ObservableNever<T>', 'just', 'just', 'sequenceEqual', 'test', 'sequenceEqual', 'switchMap', 'switchMap', 'subscribe', 'using', 'disposer));\\n', 'subscribe', 'zip', 'zipIterable', 'zip', 'allSingle', 'ambArray', 'anySingle', 'get', 'blockingIterable', 'BlockingObservableIterable<T>', 'blockingGet', 'blockingObservableMostRecent', 'blockingGet', 'blockingGet', 'subscribeWith', 'subscribe', 'subscribe', 'subscribe', 'subscribe', 'buffer', 'buffer', 'U>', 'buffer', 'buffer', 'ObservableBufferTimed<T,', 'buffer', 'buffer<T>', 'ObservableBufferTimedTest', 'buffer<T>', 'ObservableBufferBoundary<T,', 'buffer', 'buffer', 'ObservableBufferExactBoundary<T,', 'buffer<T>', 'cache', 'collectSingle', 'collect', 'R>', 'concatMap', 'call', 'concatMapDelayError', 'concatMap', 'ObservableConcatMapEager<T,', 'ObservableConcatMapEager<T,', 'concatMapCompletable', 'ObservableConcatMapCompletable<T>', 'concatMapCompletableDelayError', 'flatMap', 'U>', 'flatMap', 'concatMapMaybe', 'ObservableConcatMapMaybe<T,', 'concatMapMaybeDelayError', 'ObservableConcatMapMaybe<T,', 'concatMap', 'ObservableConcatMapSingle<T,', 'map', 'ObservableConcatMapSingle<T,', 'concat', 'concatWithSingle', 'concat', 'concatWithCompletable', 'equalsWith', 'U>', 'debounce', 'debounceTimed', 'switchIfEmpty', 'itemDelay', 'delay', 'delay', 'delay', 'subscribe', 'delaySubscription', 'main', 'R>', 'distinct', 'distinct', 'ObservableDistinct<T,', 'distinctUntilChanged', 'K>', 'ObservableDistinctUntilChanged<T>', 'doAfterNext', 'doOnEach', 'doFinally', 'dispose', 'doOnEach', 'onAfterTerminate', 'onNotification', 'doOnEach', 'doOnEach', 'doOnLifecycle', 'doOnEach', 'subscribe', 'onTerminate', '<T>', 'add', '<T>', 'filter', 'elementAt', 'flatMap', 'execute', 'R>', 'flatMap', 'flatMapCompletable', 'flatMap', 'flatMapMaybe', 'flatMapMaybe', 'flatMapSingle', 'flatMapSingle', 'forEachWhile', 'groupBy', 'groupBy', 'valueSelector,', 'hide', 'ObservableIgnoreElementsCompletable<T>', 'all', 'onSubscribe', 'subscribe', 'lastSingle', 'onAssembly', 'R>', 'materialize', 'merge', 'mergeWithSingle', 'mergeWithMaybe', 'mergeWithCompletable', 'observeOn', 'observeOn', 'resume', 'resumeNext', 'subscribe', 'onNext', 'detach', 'R>', 'reduce', 'R>', 'R>', 'repeat', 'repeat', 'repeatUntil', 'repeatWhen', 'replay', 'replay', 'replay', 'ObservableReplay.create', 'replay', 'replay', 'replay', 'replay', 'retry', 'retryBiPredicate', 'retry', 'retry', 'retry', 'retryWhen', 'sample', 'sampleTimed', 'sample', 'scan', 'scan', 'scanSeed', 'ObservableSerialized<T>', 'subscribe', 'subscribe', 'subscribe', 'skip', 'skipUntil', 'skipUntil', 'com.github.mikephil.rxjava2.functions;\\n\\nimport', 'skipLast', 'skipLast', 'doWork', 'U>', 'skipWhile', 'toList', 'sort', 'concat', 'concat', 'concat', 'concatArray<T>', 'subscribe', 'subscribe', 'onNext', 'subscribeOn', 'switchIfEmpty', 'execute', 'switchMap', 'switchMap', 'R>', 'R>', 'R>', 'R>', 'switchMapDelayError', 'take', 'takeUntil', 'takeUntil', 'return', 'run', 'takeUntil', 'takeWhile', 'throttleFirst', 'throttleFirstTimed', 'sample', 'sample', 'debounce', 'debounce', 'timeInterval', 'timeInterval', 'timeout0', 'timeout', 'timeout', 'timeout', 'timeout', 'timeout', 'timestamp', 'timestampWith', 'ObservableToListSingle<T,', 'U>', 'MapSupplier<K,', 'subscribe', 'toSortedList', 'subscribeOn', 'window', 'ObservableWindow<T>', 'window', 'null\");\\n', 'window', 'window', 'ObservableWindowTimed<T>', 'window', 'window', 'windowBoundarySelector', 'B>', 'zip', 'zip', 'subscribe', 'subscribe', 'refCount', 'refCount', 'subscribeRefCount', 'connect<T>', 'run', 'from', 'from', 'parallelFrom<T>', 'converter', 'R>', 'parallelMapTry', 'filter', 'parallelFilterTry', 'runOn', 'parallelRunOn', 'reduce', 'parallelReduce', 'sequential', 'parallelJoin', 'sequentialDelayError', 'parallelJoin', 'sorted', 'toSortedList', 'reduce', 'onNext', 'doOnNextTry', 'onAfterNext', 'onSubscribe', 'call', 'onAfterTerminate', 'subscribe', 'onRequest', 'onCancel', 'parallelCollect', 'subscribe', 'setConverter', 'composer', 'flatMap', 'parallelFlatMap', 'concatMap', 'parallelConcatMap', 'map', 'parallelConcatMap', 'replay', 'replay', 'create', 'replay', 'create', 'replay', 'onSubscribe', 'cancel', 'cancel', 'unicastProcessor<T>', 'createUnicastProcessor<T>', 'unicast', 'call', 'U>', 'run', 'run', 'apply', 'dispose', 'subscribe', 'run', '', 'init', '', 'initSingleHandler', 'onComputationHandler', 'onError', 'onIoHandler', 'onNewThreadHandler', 'schedule', 'onSingleHandler', 'init', 'onComputationHandler', 'initComputation', 'init', 'initNewThread', 'init', 'lockdown', 'lockdown', 'onSchedule', 'lockdown', 'lockdown', 'lockdown', 'lockdown', 'lockdown', 'lockdown', 'lockdown', 'lockdown', 'lockdown', 'lockdown', 'lockdown', 'lockdown', 'lockdown', 'subscribe', 'subscribe', 'subscribe', 'subscribe', 'subscribe', 'maybeAssembly', 'onFlowableAssembly', 'onConnectableFlowableAssembly', 'Observable.onObservableAssembly', 'onConnectableObservableAssembly', 'apply', 'onCompletableAssembly', 'onParallelAssembly', 'parallelAssembly', 'beforeBlocking', 'computeScheduler', 'apply', 'apply', 'call', 'apply', 'MaybeAmb<T>', 'maybeAmb<T>', 'concat', 'MaybeToFlowable<T>', 'concatMapEager', 'concatMapEager', 'subscribe', 'maybeDefer', 'Maybe<T>', 'onError', 'errorSupplier', 'MaybeFromCompletable<T>', 'MaybeFromSingle<T>', 'maybeFromCallable', 'maybeFromFuture', 'MaybeFromFuture<T>', 'maybeFromRunnable', 'maybeJust', 'merge', 'MaybeToPublisher<T>[]', 'flatMap', 'Maybe<T>', 'sequenceEqual', 'isEqual));\\n', 'timer', 'MaybeTimer', 'MaybeUnsafeCreate<T>', 'using', 'MaybeUsing<T,', 'subscribe', 'maybeZipIterable', '', 'ambArray', 'blockingGet', 'blockingGet', 'maybeCache<T>', 'R>', 'R>', 'concat', 'maybeContains', 'maybeCount', 'delay', 'MaybeDelay<T>', 'MaybeDelaySubscriptionOtherPublisher<T,', 'delay', 'MaybePeek<T>', 'doOnEvent', 'MaybeDoOnTerminate<T>', 'MaybeFlatMapBiSelector<T,', 'U>', 'MaybeHide<T>', 'maybeIgnoreElementCompletable', 'MaybeIsEmptySingle<T>', 'R>', 'R>', 'filter', 'convert', 'FuseToObservable<T>', 'maybeToSingle', 'onError', 'resumeNext', 'resume', 'flatMap', 'maybeDetach', 'repeatUntil', 'repeatWhen', 'retry', 'retry', 'retry', 'retryWhen', 'subscribe', 'subscribe', 'switchIfEmpty', 'switchIfEmptySingle', 'takeUntilMaybe', 'timeout', 'timeout', 'U>', 'U>', 'subscribeOn', 'subscribe', 'subscribe', 'set', 'equals', 'onError', 'run', 'onError', 'run', 'identity', 'JustValue<T>', 'JustValue<T,', 'castToClass', 'printStackTrace', 'main', 'unicastSubject<T>', 'unicastSubject<T>', 'unicastSubject<T>', 'unicastSubject<T>', 'onNext', 'on', 'onError', 'dispose', 'requestFusion', 'await', 'await', 'await', 'createReplayProcessor', 'replay', 'ReplayProcessor<T>', 'ReplayProcessor<T>', 'subscribe', 'cancel', 'requestFusion', 'BehaviorSubject<T>', 'get', 'getValues', 'toArray', 'isComplete', 'main', 'queue', 'prefetch', 'request', 'doWork', 'drain', 'replaySubject<T>', 'replay', 'replaySubject<T>', 'onDrop', 'toArray', 'toArray', 'error', 'error', 'notify', 'error', 'dispose', 'com.github.jean.jean.util;\\n\\nimport', 'cancel', 'com.github.jean.jean.util;\\n\\nimport', 'run', 'subscribe', 'replay', 'add', 'main', 'addCap', 'run', 'main', 'subscribe', 'subscribe', 'subscribe', 'run', 'concat', 'concat', 'CompletableConcat', 'create', 'error', 'run', 'run', 'future', 'maybeIgnoreElementCompletable', 'run', 'fromSingle', 'merge', 'merge', 'merge', 'merge', 'merge', 'merge', 'CompletableNever', 'timer', 'test', 'using', 'CompletableFromUnsafeSource', 'ambArray', 'doOnNext', 'subscribe', 'doOnNext', 'delay', 'run', 'converter', 'testBlockingMultiObserver', 'wrap', 'andThenCompletable', 'delay', 'delay', 'delay', 'timer', 'doOnLifecycle', 'dispose', 'onError', 'subscribe', 'subscribe', 'onTerminate', 'onAfterTerminate', 'observeOn', 'when', 'resume', 'repeat', 'repeatUntil', 'when', 'retry', 'retry', 'retry', 'retryWhen', 'concatWith', 'emptyCompletableObserver', 'subscribe', 'subscribe', 'takeUntilCompletable', 'timeout', 'timeout', 'timeout', 'timeout', 'setConverter', 'FuseToFlowable<T>', 'MaybeFromCompletable<T>', 'doNothing', 'MaybeSource<T>', 'add', 'clear', 'createScheduledThreadPool', 's)', 'forEachWhile', 'subscribe', '', 'throwIfError', 'main', 'throwIf', 'run', 'run', 'replay', 'just', 'dispose', '', 'dispose', 'dispose', 'dispose', 'dispose', 'BlockingSubscriber<T>', 'subscribe', 'subscribe', 'subscribe', 'add', 'doNothing', 'map', 'MaybeToObservableObserver<T>', 'interruptibleWorker', 'shutdown', 'put', 'test', 'push', 'push', 'test', 'subscribe', 'wrap', 'main', 'singleSupplier', 'onError', 'subscribe', 'toSingle', 'toSingle', 'toSingle', 'flatMap', 'publish', 'SingleNever<T>', 'singleTimer', 'subscribe', 'using', 'converter', 'singleHide', 'R>', 'onAssembly<T>', 'concat', 'delay', 'delay', 'delay', 'flatMap', 'delaySubscription', 'delay', 'R>', 'doAfterSuccess', 'onAfterTerminate', 'doFinally', 'subscribe', 'onTerminate', 'doOnSuccess', 'onError', 'onDispose', 'R>', 'R>', 'R>', 'R>', 'R>', 'materialize', 'contains', 'merge', 'subscribe', 'resume', 'onAttach', 'repeat', 'retry', 'retry', 'retry', 'retryWhen', 'success', 'subscribe', 'subscribe', 'subscribeOn', 'takeUntil', 'timeout', 'timeout', 'subscribe', 'subscribeWith<T>', 'subscribeOn', 'zip', 'MulticastProcessor<T><T>', 'createMulticastProcessor<T>', 'queue', 'queue', 'offer', 'lpProducer', 'consume', '+', 'getDisposable', 'subscribe', 'fused', 'com.github.jean.jean.utils;\\n\\nimport', 'onComplete', 'prefetch', 'concat<T>', 'prefetch));\\n', 'concatMapEagerDelayError', 'concatDelayError', 'concatMapDelayError', 'create', 'FlowableEmpty<T>', 'onError', 'flatMap', 'generate', 'run', 'interval', 'interval', 'intervalRange', '*', 'flatMap', 'flatMap', 'from', 'flatMap', 'FlowableNever<T>', 'count', 'just', 'sequenceEqual', 'test', 'sequenceEqual', 'switchMap', 'switchMapDelayError', 'timer', 'FlowableFromPublisher<T>', 'using', 'zip', 'zip', 'converter', 'blockingFirstSubscriber', 'blockingIterable', 'BlockingFlowableIterable<T>', 'blockingGet', 'blockingFlowableMostRecent', 'next', 'blockingGet', 'blockingGet', 'subscribeWith', 'subscribe', 'subscribe', 'subscribe', 'buffer', 'buffer', 'U>', 'buffer', 'buffer', 'U>', 'buffer', 'buffer<T>', 'FlowableBufferTimedTest', 'buffer<T>', 'doBufferBoundary', 'buffer', 'buffer<T>', 'FlowableBufferExactBoundary<T,', 'cacheWithInitialCapacity', 'FlowableCache<T>', 'collectSingle', 'R>', 'concatMapCompletable', 'tilTheEnd', 'flatMap', 'concatMapDelayError', 'R>', 'concatMapIterable', 'concatMapMaybe', 'R>', 'concatMapSingleDelayError', 'concatWithSingle', 'concat', 'concatWithCompletable', 'equalsWith', 'countSingle', 'U>', 'debounceTimed', 'delay', 'delay', 'delaySubscription', 'main', 'R>', 'distinct', 'distinct', 'K>', 'distinctUntilChanged', 'K>', 'distinctUntilChanged', 'doFinally', 'doAfterNext', 'onAfterTerminate', 'cancel', 'doOnEach', 'onAfterTerminate', 'onNotification', 'subscribe', 'doOnEach', 'doOnEach', 'onRequest', 'subscribe', 'onTerminate', '<T>', 'at', 'filter', 'elementAt', 'defaultItem', 'at', 'execute', 'map', 'flatMap', 'flatMapCompletable', 'flatMap', 'flatMapMaybe', 'flatMapSingle', 'flatMapSingle', 'subscribe', 'forEachWhile', 'forEachWhile', 'forEachWhile', 'groupBy', 'groupBy', 'valueSelector,', 'hide', 'ignoreElementsCompletable', 'all', 'onAssembly', 'onNext', 'limit', 'materialize', 'merge', 'mergeWithSingle', 'mergeWithMaybe', 'observeOn', 'onBackpressureBuffer', 'onBackpressureBuffer', 'onBackpressureDrop', 'onDrop', 'resume', 'detach', 'from', 'parallel', 'publish', 'publish', 'bufferSize', 'n', 'reduce', 'R>', 'R>', 'repeat', 'repeat', 'run', 'replay', 'replay', 'replay', 'replay', 'replay', 'replay', 'retry', 'retry', 'retry', 'subscribe', 'sample', 'sampleTimed', 'publish', 'R>', 'onAssembly<T>', 'publish', 'subscribe', 'onAssembly', 'skip', 'skipUntil', 'skipUntil', 'com.github.mikephil.rxjava2.functions;\\n\\nimport', 'skipLast', 'skipLast', 'skipWhile', 'toList', 'sort', 'concat', 'concatArray<T>', 'subscribe', 'subscribe', 'subscribe', 'subscribe', 'subscribeOn', 'switchIfEmpty', 'switchMap', 'switchMapDelayError', 'take', 'takeUntil', 'takeUntil', 'return', 'takeLast', 'run', 'takeLast', 'takeUntil', 'U>', 'takeWhile', 'throttleFirst', 'sample', 'sample', 'debounce', 'timeInterval', 'timeInterval', 'timeout0', 'timeout', 'timeout', 'timeout0', 'timestamp', 'setConverter', 'FlowableToListSingle<T,', 'FlowableToListSingle<T>', 'U>', 'collect', 'subscribe', 'toSortedList', 'subscribeOn', 'window', 'FlowableWindow<T>', 'window', 'window', 'window', 'window', 'windowBoundarySelector', 'window', 'B>', 'flatMap', 'zip', 'xchgProducerNode', 'main', 'schedule', 'await', 'subscribe', 'BehaviorProcessor<T>', 'onNext', 'subscribe', 'blockOnScheduler', 'refCount', 'refCount', 'refCount', 'refCount', 'refCount', 'connect<T>', 'request', 'dispose', 'dispose', 'subscribe', 'publishDisposable', 'n;', 'MulticastFlowable<R,', 'connect', 'create', 'replayBuffer', 'create', 'replayBuffer', 'subscribe', 'createConverterFactory', 'create', 'factory', 'resolve', 'DeferredCall', 'invoke', 'nextCall', 'call', 'nextRequestBodyConverter', 'count;', 'nextResponseBodyConverter', 'skipPast', 'registerConverter', 'factory', 'registerGsonConverterFactory', 'create', 'registerJacksonConverterFactory', 'requestFactory', 'NetworkBehavior']\n",
            "['fastPathOrderedEmit', 'amb', 'ambArray', 'concat', 'concat', 'concatArray', 'concatArrayDelayError', 'concatArrayEager', 'concatArrayEager', 'concatArrayEagerDelayError', 'concatDelayError', 'concatDelayError', 'concatEager', 'concatEager', 'empty', 'error', 'fromArray', 'fromIterable', 'fromPublisher', 'generate', 'generate', 'interval', 'interval', 'interval', 'intervalRange', 'intervalRange', 'just', 'merge', 'mergeArray', 'merge', 'mergeArray', 'mergeDelayError', 'never', 'range', 'rangeLong', 'sequenceEqual', 'sequenceEqual', 'sequenceEqual', 'switchOnNext', 'switchOnNextDelayError', 'unsafeCreate', 'using', 'using', 'wrap', 'zip', 'zip', 'zipArray', 'all', 'ambWith', 'any', 'blockingFirst', 'blockingForEach', 'blockingIterable', 'blockingLast', 'blockingMostRecent', 'blockingSingle', 'blockingSingle', 'toFuture', 'blockingSubscribe', 'blockingSubscribe', 'blockingSubscribe', 'blockingSubscribe', 'buffer', 'buffer', 'buffer', 'buffer', 'buffer', 'buffer', 'buffer', 'buffer', 'buffer', 'buffer', 'buffer', 'buffer', 'buffer', 'buffer', 'buffer', 'cacheWithInitialCapacity', 'collect', 'collectInto', 'compose', 'concatMap', 'concatMap', 'concatMapDelayError', 'concatMapEager', 'concatMapEager', 'concatMapEagerDelayError', 'concatMapCompletable', 'concatMapCompletable', 'concatMapCompletableDelayError', 'concatMapCompletableDelayError', 'concatMapIterable', 'concatMapIterable', 'concatMapMaybe', 'concatMapMaybe', 'concatMapMaybeDelayError', 'concatMapMaybeDelayError', 'concatMapSingle', 'concatMapSingle', 'concatMapSingleDelayError', 'concatMapSingleDelayError', 'concatWith', 'concatWith', 'concatWith', 'concatWith', 'contains', 'debounce', 'debounce', 'debounce', 'defaultIfEmpty', 'delay', 'delay', 'delay', 'delay', 'delaySubscription', 'delaySubscription', 'dematerialize', 'dematerialize', 'distinct', 'distinct', 'distinct', 'distinctUntilChanged', 'distinctUntilChanged', 'distinctUntilChanged', 'doAfterNext', 'doAfterTerminate', 'doFinally', 'doOnDispose', 'doOnComplete', 'doOnEach', 'doOnEach', 'doOnEach', 'doOnError', 'doOnLifecycle', 'doOnNext', 'doOnSubscribe', 'doOnTerminate', 'elementAt', 'elementAt', 'elementAtOrError', 'filter', 'first', 'flatMap', 'flatMap', 'flatMap', 'flatMap', 'flatMapCompletable', 'flatMapIterable', 'flatMapMaybe', 'flatMapMaybe', 'flatMapSingle', 'flatMapSingle', 'forEachWhile', 'groupBy', 'groupBy', 'groupBy', 'hide', 'ignoreElements', 'isEmpty', 'join', 'lastElement', 'last', 'lastOrError', 'map', 'materialize', 'mergeWith', 'mergeWith', 'mergeWith', 'mergeWith', 'observeOn', 'observeOn', 'onErrorResumeNext', 'onErrorResumeNext', 'onErrorReturn', 'onExceptionResumeNext', 'onTerminateDetach', 'publish', 'reduce', 'reduce', 'reduceWith', 'repeat', 'repeat', 'repeatUntil', 'repeatWhen', 'replay', 'replay', 'replay', 'replay', 'replay', 'replay', 'replay', 'replay', 'retry', 'retry', 'retry', 'retry', 'retry', 'retryWhen', 'sample', 'sample', 'sample', 'scan', 'scan', 'scanWith', 'serialize', 'singleElement', 'single', 'singleOrError', 'skip', 'skip', 'skip', 'skipLast', 'skipLast', 'skipLast', 'skipLast', 'skipUntil', 'skipWhile', 'sorted', 'sorted', 'startWith', 'startWith', 'startWith', 'startWithArray', 'subscribe', 'subscribe', 'subscribe', 'subscribeOn', 'switchIfEmpty', 'switchMap', 'switchMapCompletable', 'switchMapCompletableDelayError', 'switchMapMaybe', 'switchMapMaybeDelayError', 'switchMapSingle', 'switchMapSingleDelayError', 'switchMapDelayError', 'take', 'take', 'take', 'takeLast', 'takeLast', 'takeUntil', 'takeWhile', 'throttleFirst', 'throttleFirst', 'throttleLast', 'throttleLast', 'throttleWithTimeout', 'throttleWithTimeout', 'timeInterval', 'timeInterval', 'timeout', 'timeout', 'timeout', 'timeout', 'timeout', 'timeout', 'timestamp', 'timestamp', 'toList', 'toList', 'toMultimap', 'toFlowable', 'toSortedList', 'unsubscribeOn', 'window', 'window', 'window', 'window', 'window', 'window', 'window', 'window', 'window', 'window', 'window', 'zipWith', 'zipWith', 'subscribeActual', 'refCount', 'refCount', 'refCount', 'refCount', 'autoConnect', 'validate', 'from', 'from', 'from', 'as', 'map', 'map', 'filter', 'filter', 'runOn', 'runOn', 'reduce', 'reduce', 'sequential', 'sequential', 'sequentialDelayError', 'sequentialDelayError', 'sorted', 'toSortedList', 'toSortedList', 'doOnNext', 'doOnNext', 'doAfterNext', 'doOnError', 'doOnComplete', 'doAfterTerminated', 'doOnSubscribe', 'doOnRequest', 'doOnCancel', 'collect', 'fromArray', 'to', 'compose', 'flatMap', 'flatMap', 'concatMap', 'concatMap', 'concatMapDelayError', 'concatMapDelayError', 'multicastSelector', 'observeOn', 'createFrom', 'create', 'create', 'create', 'create', 'setResource', 'replaceResource', 'create', 'create', 'create', 'tryScalarXMapSubscribe', 'scalarXMap', 'fromRunnable', 'fromAction', 'fromFuture', 'fromFuture', 'fromSubscription', 'blockingGet', 'initComputationScheduler', 'initIoScheduler', 'initNewThreadScheduler', 'initSingleScheduler', 'onComputationScheduler', 'onError', 'onIoScheduler', 'onNewThreadScheduler', 'onSchedule', 'onSingleScheduler', 'reset', 'setComputationSchedulerHandler', 'setInitComputationSchedulerHandler', 'setInitIoSchedulerHandler', 'setInitNewThreadSchedulerHandler', 'setInitSingleSchedulerHandler', 'setIoSchedulerHandler', 'setNewThreadSchedulerHandler', 'setScheduleHandler', 'setSingleSchedulerHandler', 'setOnCompletableAssembly', 'setOnCompletableSubscribe', 'setOnFlowableAssembly', 'setOnMaybeAssembly', 'setOnConnectableFlowableAssembly', 'setOnFlowableSubscribe', 'setOnMaybeSubscribe', 'setOnObservableAssembly', 'setOnConnectableObservableAssembly', 'setOnObservableSubscribe', 'setOnSingleAssembly', 'setOnSingleSubscribe', 'onSubscribe', 'onSubscribe', 'onSubscribe', 'onSubscribe', 'onSubscribe', 'onAssembly', 'onAssembly', 'onAssembly', 'onAssembly', 'onAssembly', 'onAssembly', 'onAssembly', 'setOnParallelAssembly', 'onAssembly', 'onBeforeBlocking', 'createComputationScheduler', 'apply', 'apply', 'callRequireNonNull', 'applyRequireNonNull', 'amb', 'ambArray', 'concat', 'concatArrayDelayError', 'concatArrayEager', 'concatEager', 'create', 'defer', 'empty', 'error', 'error', 'fromCompletable', 'fromSingle', 'fromCallable', 'fromFuture', 'fromFuture', 'fromRunnable', 'just', 'merge', 'mergeArrayDelayError', 'mergeDelayError', 'never', 'sequenceEqual', 'sequenceEqual', 'timer', 'timer', 'unsafeCreate', 'using', 'using', 'wrap', 'zip', 'zipArray', 'ambWith', 'blockingGet', 'blockingGet', 'cache', 'compose', 'concatMap', 'concatWith', 'contains', 'count', 'delay', 'delay', 'delaySubscription', 'delaySubscription', 'doOnError', 'doOnEvent', 'doOnTerminate', 'flatMap', 'flattenAsFlowable', 'hide', 'ignoreElement', 'isEmpty', 'lift', 'map', 'ofType', 'to', 'toObservable', 'toSingle', 'onErrorComplete', 'onErrorResumeNext', 'onErrorResumeNext', 'onErrorReturn', 'onTerminateDetach', 'repeatUntil', 'repeatWhen', 'retry', 'retry', 'retry', 'retryWhen', 'subscribe', 'subscribe', 'switchIfEmpty', 'switchIfEmpty', 'takeUntil', 'timeout', 'timeout', 'timeout', 'timeout', 'unsubscribeOn', 'create', 'create', 'requireNonNull', 'equalsPredicate', 'onError', 'onComplete', 'onError', 'onComplete', 'identity', 'justCallable', 'justFunction', 'castFunction', 'printStackTrace', 'getRootCause', 'create', 'create', 'create', 'create', 'offer', 'onSubscribe', 'onError', 'fail', 'transitiveBoundaryFusion', 'blockingGetError', 'blockingGetError', 'blockingAwait', 'create', 'createWithSize', 'createUnbounded', 'createWithTime', 'onSubscribe', 'fail', 'transitiveBoundaryFusion', 'createDefault', 'getValue', 'getValues', 'getValues', 'hasValue', 'drainMaxLoop', 'createQueue', 'request', 'postCompleteRequest', 'postCompleteDrain', 'postComplete', 'create', 'createWithSize', 'createUnbounded', 'complete', 'getValues', 'getValues', 'getValue', 'getError', 'createOnNext', 'createOnError', 'validate', 'setOnce', 'validate', 'setOnce', 'add', 'remove', 'replay', 'addCap', 'multiplyCap', 'add', 'addCancel', 'produced', 'subscribe', 'subscribe', 'subscribe', 'concatArray', 'concat', 'concat', 'concat', 'create', 'error', 'fromAction', 'fromCallable', 'fromFuture', 'fromMaybe', 'fromRunnable', 'fromSingle', 'mergeArray', 'merge', 'merge', 'merge', 'mergeDelayError', 'mergeDelayError', 'never', 'timer', 'toNpe', 'using', 'wrap', 'ambWith', 'andThen', 'andThen', 'andThen', 'andThen', 'andThen', 'as', 'blockingAwait', 'compose', 'concatWith', 'delay', 'delay', 'delaySubscription', 'delaySubscription', 'doOnComplete', 'doOnDispose', 'doOnError', 'doOnLifecycle', 'doOnSubscribe', 'doOnTerminate', 'doAfterTerminate', 'observeOn', 'onErrorComplete', 'onErrorResumeNext', 'repeat', 'repeatUntil', 'repeatWhen', 'retry', 'retry', 'retry', 'retryWhen', 'startWith', 'subscribe', 'subscribeWith', 'subscribeOn', 'takeUntil', 'timeout', 'timeout', 'timeout', 'timeout', 'to', 'toFlowable', 'toMaybe', 'tryAsCompletable', 'tryAsMaybe', 'add', 'shutdown', 'create', 'setSubscription', 'emitLoop', 'subscribeActual', 'throwIfFatal', 'wrapOrThrow', 'flatten', 'throwIfThrowable', 'add', 'remove', 'replay', 'apply', 'add', 'addAll', 'remove', 'delete', 'clear', 'size', 'subscribe', 'subscribe', 'subscribe', 'subscribe', 'add', 'tryScalarXMapSubscribe', 'scalarXMap', 'create', 'from', 'shutdown', 'add', 'forEachWhile', 'accept', 'accept', 'forEachWhile', 'amb', 'ambArray', 'concatArray', 'defer', 'error', 'fromCallable', 'fromFuture', 'fromFuture', 'fromFuture', 'merge', 'mergeDelayError', 'never', 'timer', 'unsafeCreate', 'using', 'as', 'hide', 'compose', 'cache', 'concatWith', 'delay', 'delay', 'delay', 'delaySubscription', 'delaySubscription', 'delaySubscription', 'dematerialize', 'doAfterSuccess', 'doAfterTerminate', 'doFinally', 'doOnSubscribe', 'doOnTerminate', 'doOnSuccess', 'doOnError', 'doOnDispose', 'flatMap', 'flatMapMaybe', 'flatMapObservable', 'lift', 'map', 'materialize', 'contains', 'mergeWith', 'observeOn', 'onErrorReturn', 'onTerminateDetach', 'repeat', 'retry', 'retry', 'retry', 'retryWhen', 'subscribe', 'subscribe', 'subscribeWith', 'subscribeOn', 'takeUntil', 'timeout', 'timeout', 'toCompletable', 'toFuture', 'unsubscribeOn', 'zipWith', 'create', 'create', 'start', 'startUnbounded', 'offer', 'offer', 'poll', 'offer', 'get', 'create', 'complete', 'error', 'complete', 'concat', 'concatArray', 'concatArrayEager', 'concatArrayEagerDelayError', 'concatDelayError', 'concatDelayError', 'create', 'empty', 'error', 'fromIterable', 'generate', 'interval', 'interval', 'interval', 'intervalRange', 'intervalRange', 'just', 'mergeArray', 'merge', 'mergeDelayError', 'never', 'range', 'rangeLong', 'sequenceEqual', 'sequenceEqual', 'sequenceEqual', 'switchOnNext', 'switchOnNextDelayError', 'timer', 'unsafeCreate', 'using', 'zip', 'zip', 'as', 'blockingFirst', 'blockingIterable', 'blockingIterable', 'blockingLast', 'blockingMostRecent', 'blockingNext', 'blockingSingle', 'blockingSingle', 'toFuture', 'blockingSubscribe', 'blockingSubscribe', 'blockingSubscribe', 'buffer', 'buffer', 'buffer', 'buffer', 'buffer', 'buffer', 'buffer', 'buffer', 'buffer', 'buffer', 'buffer', 'buffer', 'buffer', 'buffer', 'cache', 'cacheWithInitialCapacity', 'collect', 'compose', 'concatMapCompletable', 'concatMapCompletableDelayError', 'concatMapCompletableDelayError', 'concatMapDelayError', 'concatMapEager', 'concatMapIterable', 'concatMapMaybe', 'concatMapSingle', 'concatMapSingleDelayError', 'concatWith', 'concatWith', 'concatWith', 'contains', 'count', 'debounce', 'debounce', 'delay', 'delay', 'delay', 'dematerialize', 'dematerialize', 'distinct', 'distinct', 'distinct', 'distinctUntilChanged', 'distinctUntilChanged', 'distinctUntilChanged', 'doFinally', 'doAfterNext', 'doAfterTerminate', 'doOnCancel', 'doOnComplete', 'doOnEach', 'doOnEach', 'doOnEach', 'doOnError', 'doOnNext', 'doOnRequest', 'doOnSubscribe', 'doOnTerminate', 'elementAt', 'elementAtOrError', 'filter', 'firstElement', 'first', 'firstOrError', 'flatMap', 'flatMap', 'flatMap', 'flatMapCompletable', 'flatMapCompletable', 'flatMapMaybe', 'flatMapSingle', 'flatMapSingle', 'forEach', 'forEachWhile', 'forEachWhile', 'forEachWhile', 'groupBy', 'groupBy', 'groupBy', 'hide', 'ignoreElements', 'isEmpty', 'lastElement', 'lastOrError', 'limit', 'materialize', 'mergeWith', 'mergeWith', 'mergeWith', 'observeOn', 'onBackpressureBuffer', 'onBackpressureBuffer', 'onBackpressureDrop', 'onBackpressureDrop', 'onErrorResumeNext', 'onTerminateDetach', 'parallel', 'parallel', 'publish', 'publish', 'publish', 'rebatchRequests', 'reduce', 'reduce', 'reduceWith', 'repeat', 'repeat', 'replay', 'replay', 'replay', 'replay', 'replay', 'replay', 'replay', 'retry', 'retry', 'retry', 'safeSubscribe', 'sample', 'sample', 'sample', 'scanWith', 'serialize', 'share', 'singleElement', 'singleOrError', 'skip', 'skip', 'skip', 'skipLast', 'skipLast', 'skipLast', 'skipWhile', 'sorted', 'sorted', 'startWith', 'startWithArray', 'subscribe', 'subscribe', 'subscribe', 'subscribeWith', 'subscribeOn', 'switchIfEmpty', 'switchMapCompletable', 'switchMapDelayError', 'take', 'take', 'take', 'takeLast', 'takeLast', 'takeLast', 'takeLast', 'takeUntil', 'takeUntil', 'takeWhile', 'throttleFirst', 'throttleLast', 'throttleLast', 'throttleWithTimeout', 'timeInterval', 'timeInterval', 'timeout', 'timeout', 'timeout', 'timeout', 'timestamp', 'to', 'toList', 'toList', 'toList', 'toMultimap', 'toObservable', 'toSortedList', 'unsubscribeOn', 'window', 'window', 'window', 'window', 'window', 'window', 'window', 'window', 'window', 'zipWith', 'zipWith', 'offer', 'poll', 'scheduleActual', 'await', 'complete', 'createDefault', 'offer', 'subscribeActual', 'verifyNonBlocking', 'refCount', 'refCount', 'refCount', 'refCount', 'refCount', 'autoConnect', 'request', 'setResource', 'replaceResource', 'blockingGet', 'add', 'remove', 'multicastSelector', 'observeOn', 'createFrom', 'create', 'create', 'create', 'create', 'create', 'createWithScheduler', 'createNonStrict', 'getGenericSupertype', 'defer', 'invoke', 'callAdapter', 'nextCallAdapter', 'requestBodyConverter', 'nextRequestBodyConverter', 'responseBodyConverter', 'nextResponseBodyConverter', 'stringConverter', 'create', 'create', 'createWithScheduler', 'create', 'parseAnnotations', 'create']\n",
            "\n",
            "********************************************************************************\n",
            "Evaluation results:\n",
            "{'exact_match': 0.3,\n",
            " 'rouge1': 0.3036666666666667,\n",
            " 'rouge2': 0.0,\n",
            " 'rougeL': 0.30400000000000005,\n",
            " 'rougeLsum': 0.3036666666666667}\n",
            "********************************************************************************\n",
            "\n",
            "WORST EXAMPLE:\n",
            "{'prediction': 'accept', 'reference': 'fastPathOrderedEmit', 'score': 2.0}\n"
          ]
        },
        {
          "output_type": "execute_result",
          "data": {
            "text/plain": [
              "432"
            ]
          },
          "metadata": {},
          "execution_count": 88
        }
      ],
      "id": "feL1vPVp3U26"
    }
  ],
  "metadata": {
    "kernelspec": {
      "display_name": "Python 3",
      "name": "python3"
    },
    "language_info": {
      "codemirror_mode": {
        "name": "ipython",
        "version": 3
      },
      "file_extension": ".py",
      "mimetype": "text/x-python",
      "name": "python",
      "nbconvert_exporter": "python",
      "pygments_lexer": "ipython3",
      "version": "3.10.12"
    },
    "colab": {
      "provenance": [],
      "gpuType": "T4"
    },
    "accelerator": "GPU"
  },
  "nbformat": 4,
  "nbformat_minor": 5
}